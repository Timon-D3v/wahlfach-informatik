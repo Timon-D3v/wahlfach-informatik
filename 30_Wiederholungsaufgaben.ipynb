{
  "cells": [
    {
      "cell_type": "markdown",
      "id": "74f6ae73-d935-4903-a5f5-c085d9112553",
      "metadata": {},
      "source": [
        "# Wiederholungsaufgabe\n",
        "\n",
        "<img align=\"right\" width=\"400\" alt=\"Penguins\" src=\"https://balloon.tam.ch/share/5964b385a6194f09d3bf00250f469706\" />\n",
        "\n",
        "Als Pinguin-Forscher:in befinden Sie sich gerade auf einer Antarktis-Expedtion. Ihr Forschungsthema sind die Körpermasse von Adelie-, Gentoo- und Chinstrap-Pinguinen. Ihre Messdaten haben Sie im Datensatz `penguins.csv` festgehalten. Diese gilt es nun auszuwerten."
      ]
    },
    {
      "cell_type": "markdown",
      "id": "bef9bef9-13f8-4260-9fea-b8b8c4c01ada",
      "metadata": {},
      "source": [
        "Importieren Sie als erstes den Datensatz mit Hilfe von pandas."
      ]
    },
    {
      "cell_type": "code",
      "execution_count": 19,
      "id": "83ac960d-84fc-4329-815a-8b21e54ccc28",
      "metadata": {},
      "outputs": [],
      "source": [
        "import pandas as pd\n",
        "penguins = pd.read_csv('./datasets/penguins.csv')"
      ]
    },
    {
      "cell_type": "markdown",
      "id": "380a14c2-d48d-4aa4-8470-e3d772b49fa0",
      "metadata": {},
      "source": [
        "### Aufgabe 1\n",
        "\n",
        "**a)** Geben Sie die ersten fünf Zeilen des Datensatzes aus."
      ]
    },
    {
      "cell_type": "code",
      "execution_count": 20,
      "id": "a1da7151-2e7e-4962-9a17-c119d6c781c3",
      "metadata": {},
      "outputs": [
        {
          "data": {
            "text/html": [
              "<div>\n",
              "<style scoped>\n",
              "    .dataframe tbody tr th:only-of-type {\n",
              "        vertical-align: middle;\n",
              "    }\n",
              "\n",
              "    .dataframe tbody tr th {\n",
              "        vertical-align: top;\n",
              "    }\n",
              "\n",
              "    .dataframe thead th {\n",
              "        text-align: right;\n",
              "    }\n",
              "</style>\n",
              "<table border=\"1\" class=\"dataframe\">\n",
              "  <thead>\n",
              "    <tr style=\"text-align: right;\">\n",
              "      <th></th>\n",
              "      <th>species</th>\n",
              "      <th>island</th>\n",
              "      <th>bill_length_mm</th>\n",
              "      <th>bill_depth_mm</th>\n",
              "      <th>flipper_length_mm</th>\n",
              "      <th>body_mass_g</th>\n",
              "      <th>sex</th>\n",
              "    </tr>\n",
              "  </thead>\n",
              "  <tbody>\n",
              "    <tr>\n",
              "      <th>0</th>\n",
              "      <td>Adelie</td>\n",
              "      <td>Torgersen</td>\n",
              "      <td>39.1</td>\n",
              "      <td>18.7</td>\n",
              "      <td>181</td>\n",
              "      <td>3750</td>\n",
              "      <td>MALE</td>\n",
              "    </tr>\n",
              "    <tr>\n",
              "      <th>1</th>\n",
              "      <td>Adelie</td>\n",
              "      <td>Torgersen</td>\n",
              "      <td>39.5</td>\n",
              "      <td>17.4</td>\n",
              "      <td>186</td>\n",
              "      <td>3800</td>\n",
              "      <td>FEMALE</td>\n",
              "    </tr>\n",
              "    <tr>\n",
              "      <th>2</th>\n",
              "      <td>Adelie</td>\n",
              "      <td>Torgersen</td>\n",
              "      <td>40.3</td>\n",
              "      <td>18.0</td>\n",
              "      <td>195</td>\n",
              "      <td>3250</td>\n",
              "      <td>FEMALE</td>\n",
              "    </tr>\n",
              "    <tr>\n",
              "      <th>3</th>\n",
              "      <td>Adelie</td>\n",
              "      <td>Torgersen</td>\n",
              "      <td>38.9</td>\n",
              "      <td>18.4</td>\n",
              "      <td>191</td>\n",
              "      <td>3706</td>\n",
              "      <td>MALE</td>\n",
              "    </tr>\n",
              "    <tr>\n",
              "      <th>4</th>\n",
              "      <td>Adelie</td>\n",
              "      <td>Torgersen</td>\n",
              "      <td>36.7</td>\n",
              "      <td>19.3</td>\n",
              "      <td>193</td>\n",
              "      <td>3450</td>\n",
              "      <td>FEMALE</td>\n",
              "    </tr>\n",
              "  </tbody>\n",
              "</table>\n",
              "</div>"
            ],
            "text/plain": [
              "  species     island  bill_length_mm  bill_depth_mm  flipper_length_mm  \\\n",
              "0  Adelie  Torgersen            39.1           18.7                181   \n",
              "1  Adelie  Torgersen            39.5           17.4                186   \n",
              "2  Adelie  Torgersen            40.3           18.0                195   \n",
              "3  Adelie  Torgersen            38.9           18.4                191   \n",
              "4  Adelie  Torgersen            36.7           19.3                193   \n",
              "\n",
              "   body_mass_g     sex  \n",
              "0         3750    MALE  \n",
              "1         3800  FEMALE  \n",
              "2         3250  FEMALE  \n",
              "3         3706    MALE  \n",
              "4         3450  FEMALE  "
            ]
          },
          "execution_count": 20,
          "metadata": {},
          "output_type": "execute_result"
        }
      ],
      "source": [
        "# Hier Code eingeben\n",
        "penguins.head()"
      ]
    },
    {
      "cell_type": "markdown",
      "id": "0cde2af5-9c82-4a88-8c53-4d232e11515c",
      "metadata": {},
      "source": [
        "**b)** Was für Pinguinarten sind im Datensatz enthalten? Verwenden Sie eine Aggregationsfunktion."
      ]
    },
    {
      "cell_type": "code",
      "execution_count": 21,
      "id": "08717411-28a7-4772-8a62-d5dc2ed7f469",
      "metadata": {
        "trusted": true
      },
      "outputs": [
        {
          "data": {
            "text/plain": [
              "array(['Adelie', 'Chinstrap', 'Gentoo'], dtype=object)"
            ]
          },
          "execution_count": 21,
          "metadata": {},
          "output_type": "execute_result"
        }
      ],
      "source": [
        "# Hier Code eingeben\n",
        "penguins[\"species\"].unique()"
      ]
    },
    {
      "cell_type": "markdown",
      "id": "0dabcea3-36ee-4d93-8fc3-fe097f1dea96",
      "metadata": {},
      "source": [
        "__c)__ Erstellen Sie im DataFrame `penguins` eine neue Spalte `body_mass_lb`, die das Körpergewicht in Pfund (pounds, lb) statt Gramm enthält. Rechnen Sie das Gewicht mit der Formel ${\\rm lb} \\approx {\\rm g} \\times 0.00220462$ um."
      ]
    },
    {
      "cell_type": "code",
      "execution_count": 22,
      "id": "493a280e",
      "metadata": {},
      "outputs": [
        {
          "data": {
            "text/html": [
              "<div>\n",
              "<style scoped>\n",
              "    .dataframe tbody tr th:only-of-type {\n",
              "        vertical-align: middle;\n",
              "    }\n",
              "\n",
              "    .dataframe tbody tr th {\n",
              "        vertical-align: top;\n",
              "    }\n",
              "\n",
              "    .dataframe thead th {\n",
              "        text-align: right;\n",
              "    }\n",
              "</style>\n",
              "<table border=\"1\" class=\"dataframe\">\n",
              "  <thead>\n",
              "    <tr style=\"text-align: right;\">\n",
              "      <th></th>\n",
              "      <th>species</th>\n",
              "      <th>island</th>\n",
              "      <th>bill_length_mm</th>\n",
              "      <th>bill_depth_mm</th>\n",
              "      <th>flipper_length_mm</th>\n",
              "      <th>body_mass_g</th>\n",
              "      <th>sex</th>\n",
              "      <th>body_mass_lb</th>\n",
              "    </tr>\n",
              "  </thead>\n",
              "  <tbody>\n",
              "    <tr>\n",
              "      <th>0</th>\n",
              "      <td>Adelie</td>\n",
              "      <td>Torgersen</td>\n",
              "      <td>39.1</td>\n",
              "      <td>18.7</td>\n",
              "      <td>181</td>\n",
              "      <td>3750</td>\n",
              "      <td>MALE</td>\n",
              "      <td>8.267325</td>\n",
              "    </tr>\n",
              "    <tr>\n",
              "      <th>1</th>\n",
              "      <td>Adelie</td>\n",
              "      <td>Torgersen</td>\n",
              "      <td>39.5</td>\n",
              "      <td>17.4</td>\n",
              "      <td>186</td>\n",
              "      <td>3800</td>\n",
              "      <td>FEMALE</td>\n",
              "      <td>8.377556</td>\n",
              "    </tr>\n",
              "    <tr>\n",
              "      <th>2</th>\n",
              "      <td>Adelie</td>\n",
              "      <td>Torgersen</td>\n",
              "      <td>40.3</td>\n",
              "      <td>18.0</td>\n",
              "      <td>195</td>\n",
              "      <td>3250</td>\n",
              "      <td>FEMALE</td>\n",
              "      <td>7.165015</td>\n",
              "    </tr>\n",
              "    <tr>\n",
              "      <th>3</th>\n",
              "      <td>Adelie</td>\n",
              "      <td>Torgersen</td>\n",
              "      <td>38.9</td>\n",
              "      <td>18.4</td>\n",
              "      <td>191</td>\n",
              "      <td>3706</td>\n",
              "      <td>MALE</td>\n",
              "      <td>8.170322</td>\n",
              "    </tr>\n",
              "    <tr>\n",
              "      <th>4</th>\n",
              "      <td>Adelie</td>\n",
              "      <td>Torgersen</td>\n",
              "      <td>36.7</td>\n",
              "      <td>19.3</td>\n",
              "      <td>193</td>\n",
              "      <td>3450</td>\n",
              "      <td>FEMALE</td>\n",
              "      <td>7.605939</td>\n",
              "    </tr>\n",
              "  </tbody>\n",
              "</table>\n",
              "</div>"
            ],
            "text/plain": [
              "  species     island  bill_length_mm  bill_depth_mm  flipper_length_mm  \\\n",
              "0  Adelie  Torgersen            39.1           18.7                181   \n",
              "1  Adelie  Torgersen            39.5           17.4                186   \n",
              "2  Adelie  Torgersen            40.3           18.0                195   \n",
              "3  Adelie  Torgersen            38.9           18.4                191   \n",
              "4  Adelie  Torgersen            36.7           19.3                193   \n",
              "\n",
              "   body_mass_g     sex  body_mass_lb  \n",
              "0         3750    MALE      8.267325  \n",
              "1         3800  FEMALE      8.377556  \n",
              "2         3250  FEMALE      7.165015  \n",
              "3         3706    MALE      8.170322  \n",
              "4         3450  FEMALE      7.605939  "
            ]
          },
          "execution_count": 22,
          "metadata": {},
          "output_type": "execute_result"
        }
      ],
      "source": [
        "def gram_to_pounds(gram):\n",
        "    return gram * 0.00220462\n",
        "\n",
        "penguins[\"body_mass_lb\"] = penguins[\"body_mass_g\"].apply(gram_to_pounds)\n",
        "\n",
        "penguins.head()"
      ]
    },
    {
      "cell_type": "markdown",
      "id": "7d7da1dd-3291-411b-9000-b82b6a8c11c0",
      "metadata": {},
      "source": [
        "**d)** Filtern Sie den Datensatz nach der Spezies `Gentoo` und weisen Sie das Resultat der Variablen `gentoo` zu."
      ]
    },
    {
      "cell_type": "code",
      "execution_count": 23,
      "id": "47b0f1a8-1fc7-416e-81c0-9a5fa0bfd489",
      "metadata": {},
      "outputs": [
        {
          "data": {
            "text/html": [
              "<div>\n",
              "<style scoped>\n",
              "    .dataframe tbody tr th:only-of-type {\n",
              "        vertical-align: middle;\n",
              "    }\n",
              "\n",
              "    .dataframe tbody tr th {\n",
              "        vertical-align: top;\n",
              "    }\n",
              "\n",
              "    .dataframe thead th {\n",
              "        text-align: right;\n",
              "    }\n",
              "</style>\n",
              "<table border=\"1\" class=\"dataframe\">\n",
              "  <thead>\n",
              "    <tr style=\"text-align: right;\">\n",
              "      <th></th>\n",
              "      <th>species</th>\n",
              "      <th>island</th>\n",
              "      <th>bill_length_mm</th>\n",
              "      <th>bill_depth_mm</th>\n",
              "      <th>flipper_length_mm</th>\n",
              "      <th>body_mass_g</th>\n",
              "      <th>sex</th>\n",
              "      <th>body_mass_lb</th>\n",
              "    </tr>\n",
              "  </thead>\n",
              "  <tbody>\n",
              "    <tr>\n",
              "      <th>220</th>\n",
              "      <td>Gentoo</td>\n",
              "      <td>Biscoe</td>\n",
              "      <td>46.1</td>\n",
              "      <td>13.2</td>\n",
              "      <td>211</td>\n",
              "      <td>4500</td>\n",
              "      <td>FEMALE</td>\n",
              "      <td>9.920790</td>\n",
              "    </tr>\n",
              "    <tr>\n",
              "      <th>221</th>\n",
              "      <td>Gentoo</td>\n",
              "      <td>Biscoe</td>\n",
              "      <td>50.0</td>\n",
              "      <td>16.3</td>\n",
              "      <td>230</td>\n",
              "      <td>5700</td>\n",
              "      <td>MALE</td>\n",
              "      <td>12.566334</td>\n",
              "    </tr>\n",
              "    <tr>\n",
              "      <th>222</th>\n",
              "      <td>Gentoo</td>\n",
              "      <td>Biscoe</td>\n",
              "      <td>48.7</td>\n",
              "      <td>14.1</td>\n",
              "      <td>210</td>\n",
              "      <td>4450</td>\n",
              "      <td>FEMALE</td>\n",
              "      <td>9.810559</td>\n",
              "    </tr>\n",
              "    <tr>\n",
              "      <th>223</th>\n",
              "      <td>Gentoo</td>\n",
              "      <td>Biscoe</td>\n",
              "      <td>50.0</td>\n",
              "      <td>15.2</td>\n",
              "      <td>218</td>\n",
              "      <td>5700</td>\n",
              "      <td>MALE</td>\n",
              "      <td>12.566334</td>\n",
              "    </tr>\n",
              "    <tr>\n",
              "      <th>224</th>\n",
              "      <td>Gentoo</td>\n",
              "      <td>Biscoe</td>\n",
              "      <td>47.6</td>\n",
              "      <td>14.5</td>\n",
              "      <td>215</td>\n",
              "      <td>5400</td>\n",
              "      <td>MALE</td>\n",
              "      <td>11.904948</td>\n",
              "    </tr>\n",
              "  </tbody>\n",
              "</table>\n",
              "</div>"
            ],
            "text/plain": [
              "    species  island  bill_length_mm  bill_depth_mm  flipper_length_mm  \\\n",
              "220  Gentoo  Biscoe            46.1           13.2                211   \n",
              "221  Gentoo  Biscoe            50.0           16.3                230   \n",
              "222  Gentoo  Biscoe            48.7           14.1                210   \n",
              "223  Gentoo  Biscoe            50.0           15.2                218   \n",
              "224  Gentoo  Biscoe            47.6           14.5                215   \n",
              "\n",
              "     body_mass_g     sex  body_mass_lb  \n",
              "220         4500  FEMALE      9.920790  \n",
              "221         5700    MALE     12.566334  \n",
              "222         4450  FEMALE      9.810559  \n",
              "223         5700    MALE     12.566334  \n",
              "224         5400    MALE     11.904948  "
            ]
          },
          "execution_count": 23,
          "metadata": {},
          "output_type": "execute_result"
        }
      ],
      "source": [
        "# Hier Code eingeben\n",
        "gentoo = penguins[penguins[\"species\"] == \"Gentoo\"]\n",
        "\n",
        "gentoo.head()"
      ]
    },
    {
      "cell_type": "markdown",
      "id": "3d05ffad-53a7-4260-bb40-afd6ab7f3dc1",
      "metadata": {},
      "source": [
        "**e)** Berechnen Sie das durchschnittliche Körpergewicht von `Gentoo`-Pinguinen."
      ]
    },
    {
      "cell_type": "code",
      "execution_count": 24,
      "id": "20c058a7-7068-48e1-83f5-04ff5f2d9552",
      "metadata": {},
      "outputs": [
        {
          "data": {
            "text/plain": [
              "np.float64(5076.0161290322585)"
            ]
          },
          "execution_count": 24,
          "metadata": {},
          "output_type": "execute_result"
        }
      ],
      "source": [
        "# Hier Code eingeben\n",
        "avg_gentoo_mass = gentoo[\"body_mass_g\"].mean()\n",
        "\n",
        "avg_gentoo_mass"
      ]
    },
    {
      "cell_type": "markdown",
      "id": "b300e6f7-da95-4648-b6f0-fc5745326817",
      "metadata": {
        "tags": []
      },
      "source": [
        "### Aufgabe 2\n",
        "\n",
        "In dieser Aufgabe geht es darum, das Gewicht (`body_mass_g`) von **Gentoo-Pinguinen** über ihre Schnabellänge (`bill_length_mm`) und ihre Schnabeltiefe (`bill_depth_mm`) vorauszusagen."
      ]
    },
    {
      "cell_type": "markdown",
      "id": "c900e4fb-eb7a-42cd-87c4-882eda9e3f55",
      "metadata": {},
      "source": [
        "**a)** Überprüfen Sie die Linearität zwischen den unabhängigen und der abhängigen Variablen mit Hilfe von matplotlib-Streudiagrammen.\n",
        "\n",
        "**Wichtig**: Beschränken Sie sich auf `Gentoo`-Pinguine."
      ]
    },
    {
      "cell_type": "code",
      "execution_count": 25,
      "id": "59395192-42a3-4e4c-b4a9-9c081a72692b",
      "metadata": {},
      "outputs": [
        {
          "data": {
            "image/png": "[encoded data removed]",
            "text/plain": [
              "<Figure size 640x480 with 1 Axes>"
            ]
          },
          "metadata": {},
          "output_type": "display_data"
        }
      ],
      "source": [
        "import matplotlib.pyplot as plt\n",
        "\n",
        "\n",
        "plt.scatter(gentoo[\"bill_length_mm\"], gentoo[\"body_mass_g\"], color=\"green\")\n",
        "plt.scatter(gentoo[\"bill_depth_mm\"], gentoo[\"body_mass_g\"], color=\"pink\")\n",
        "\n",
        "plt.show()"
      ]
    },
    {
      "cell_type": "markdown",
      "id": "a531da59-81c2-4c83-9702-f997142255e0",
      "metadata": {},
      "source": [
        "**Streudiagramm 1**: x-Achse = Schnabellänge, y-Achse = Gewicht"
      ]
    },
    {
      "cell_type": "code",
      "execution_count": 26,
      "id": "39b3e395-e20d-4162-be85-02cea7c430b2",
      "metadata": {},
      "outputs": [
        {
          "data": {
            "text/plain": [
              "<Axes: xlabel='bill_length_mm', ylabel='body_mass_g'>"
            ]
          },
          "execution_count": 26,
          "metadata": {},
          "output_type": "execute_result"
        },
        {
          "data": {
            "image/png": "[encoded data removed]",
            "text/plain": [
              "<Figure size 640x480 with 1 Axes>"
            ]
          },
          "metadata": {},
          "output_type": "display_data"
        }
      ],
      "source": [
        "# Hier Code eingeben\n",
        "gentoo.plot.scatter(\"bill_length_mm\", \"body_mass_g\")"
      ]
    },
    {
      "cell_type": "markdown",
      "id": "8bd56296-69f1-452b-b9ba-2041a3af76c2",
      "metadata": {},
      "source": [
        "**Streudiagramm 2**: x-Achse = Schnabeltiefe, y-Achse = Gewicht"
      ]
    },
    {
      "cell_type": "code",
      "execution_count": 27,
      "id": "dc591a0f-69a1-489f-ba61-c19fd0882c3e",
      "metadata": {},
      "outputs": [
        {
          "data": {
            "text/plain": [
              "<Axes: xlabel='bill_depth_mm', ylabel='body_mass_g'>"
            ]
          },
          "execution_count": 27,
          "metadata": {},
          "output_type": "execute_result"
        },
        {
          "data": {
            "image/png": "[encoded data removed]",
            "text/plain": [
              "<Figure size 640x480 with 1 Axes>"
            ]
          },
          "metadata": {},
          "output_type": "display_data"
        }
      ],
      "source": [
        "# Hier Code eingeben\n",
        "gentoo.plot.scatter(\"bill_depth_mm\", \"body_mass_g\")"
      ]
    },
    {
      "cell_type": "markdown",
      "id": "7caf6683-af5a-4c39-8b99-0e2efd45918b",
      "metadata": {},
      "source": [
        "**b)** Erstellen Sie mit Hilfe von statsmodels ein lineares Modell $y = f(x_1, x_2) = a_0 + a_1 x_1 + a_2 x_2$, welches über die Schnabellänge $x_1$ und die Schnabeltiefe $x_2$ das Körpergewicht $y$ eines Gentoo-Pinguin voraussagt.\n",
        "\n",
        "Bestimmen Sie mit Hilfe der lineare Regression die Koeffizienten $a_0$, $a_1$ und $a_2$.\n",
        "\n",
        "**Wichtig**: Beschränken Sie sich auf Gentoo-Pinguine."
      ]
    },
    {
      "cell_type": "code",
      "execution_count": 28,
      "id": "37522031-0d19-4a52-94b6-046b2ee1e76b",
      "metadata": {},
      "outputs": [],
      "source": [
        "import statsmodels.formula.api as smf # statsmodels als smf importieren"
      ]
    },
    {
      "cell_type": "code",
      "execution_count": 29,
      "id": "919d1b4d-7cc3-41a0-a63a-5c3a225cf770",
      "metadata": {},
      "outputs": [],
      "source": [
        "# Hier Code eingeben\n",
        "model = smf.ols(formula=\"body_mass_g ~ bill_depth_mm + bill_length_mm\", data=gentoo).fit()"
      ]
    },
    {
      "cell_type": "markdown",
      "id": "317d4fa3-7e28-4767-ac9f-6cdee3da59ea",
      "metadata": {},
      "source": [
        "**c)** Um wie viel Gramm nimmt im Schnitt das Gewicht mit jedem zusätzlichen Millimeter Schnabellänge zu?"
      ]
    },
    {
      "cell_type": "code",
      "execution_count": 30,
      "id": "168adca3",
      "metadata": {},
      "outputs": [
        {
          "name": "stdout",
          "output_type": "stream",
          "text": [
            "57.6466740178322\n"
          ]
        }
      ],
      "source": [
        "print(model.params[\"bill_length_mm\"])"
      ]
    },
    {
      "cell_type": "markdown",
      "id": "66edb788-7d58-435c-a416-d74579ef23f1",
      "metadata": {},
      "source": [
        "**d)** Sagen Sie mit Hilfe des linearen Modells das Körpergewicht eines Gentoo-Pinguins mit einer Schnabellänge von 50 mm und einer Schnabeltiefe von 16 mm voraus."
      ]
    },
    {
      "cell_type": "code",
      "execution_count": 31,
      "id": "32574b18-5b26-4795-abac-337dba33f09a",
      "metadata": {},
      "outputs": [
        {
          "name": "stdout",
          "output_type": "stream",
          "text": [
            "0    5477.480902\n",
            "dtype: float64\n"
          ]
        }
      ],
      "source": [
        "df = pd.DataFrame({'bill_length_mm': [50], 'bill_depth_mm': [16]})\n",
        "# Hier Code eingeben\n",
        "\n",
        "print(model.predict(df))"
      ]
    }
  ],
  "metadata": {
    "kernelspec": {
      "display_name": "Python 3",
      "language": "python",
      "name": "python3"
    },
    "language_info": {
      "codemirror_mode": {
        "name": "ipython",
        "version": 3
      },
      "file_extension": ".py",
      "mimetype": "text/x-python",
      "name": "python",
      "nbconvert_exporter": "python",
      "pygments_lexer": "ipython3",
      "version": "3.13.1"
    }
  },
  "nbformat": 4,
  "nbformat_minor": 5
}
