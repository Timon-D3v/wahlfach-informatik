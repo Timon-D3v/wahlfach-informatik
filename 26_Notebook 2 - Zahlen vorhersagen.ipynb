{
  "cells": [
    {
      "cell_type": "markdown",
      "id": "7b696ad3-693c-4957-910e-eb789d0b426c",
      "metadata": {},
      "source": [
        "# Notebook 2: Zahlen voraussagen mit linearer Regression\n",
        "\n",
        "**Lineare Regression** ist eine statistische Methode, die verwendet wird, um den Zusammenhang zwischen einer bestimmten Grösse und einer oder mehreren anderen Grössen zu modellieren. Dazu wird eine lineare Funktion entwickelt, die die gesammelten Beobachtungsdaten bestmöglich widerspiegelt.\n",
        "\n",
        "Dieses Notebook besteht aus drei Lernaufgaben, welche Sie Schritt für Schritt an das Thema heranführen.\n",
        "\n",
        "## Aufgabe 1: Prüfungsnote vorhersagen\n",
        "\n",
        "Alice führt im Fach X über ihren Lernaufwand vor Prüfungen Buch. Nach zwei Prüfungen im neuen Semester vermutet sie, dass man die Note direkt über den Lernaufwand erklären kann.\n",
        "\n",
        "| Lernaufwand (h) | Note |\n",
        "| :-:| :-: | \n",
        "| 2.5          | 3    | \n",
        "| 3.5          | 5    |\n",
        "\n",
        "\n",
        "**a)** Die unabhängige Variable ist der <br>__Lernaufwand__<br> und die abhängige Variable ist die <br>__Note__.<br><br>\n",
        "**b)** Leiten Sie für den Lernaufwand (x-Achse) und Note (y-Achse) eine lineare Funktion her, die beide Datenpunkte verbindet. Was für eine Note kann Alice erwarten, wenn sie für die nächste Prüfung zwei Stunden lernt?\n",
        "\n",
        "Tipp: Die Formel zur Berechnung der Steigung einer linearen Funktion, welche die Punkte $(x_1, y_1)$ und $(x_2, y_2)$ verbindet, lautet $m = \\frac{y_2 - y_1}{x_2 - x_1}$."
      ]
    },
    {
      "cell_type": "code",
      "execution_count": 1,
      "id": "d7e7820b-4a77-4b48-9d97-2301abcdb286",
      "metadata": {},
      "outputs": [],
      "source": [
        "# Hier Python-Code eingeben\n",
        "def f(x):\n",
        "    return 2*x + 2"
      ]
    },
    {
      "cell_type": "markdown",
      "id": "7d1dd01e-47d2-4f9e-bc01-b00877e7c7d5",
      "metadata": {},
      "source": [
        "**c)** Um etwas aussagekräftigere Resultate zu erhalten, ergänzt Alice die Tabelle mit den Daten aller Prüfungen aus vergangenen Semestern. Durch Probieren findet sie die lineare Funktion $y=\\frac{7}{8}x + \\frac{3}{2}$, welche die Datenpunkte gut zu approximieren scheint. Berechnen Sie den vertikalen Abstand des Datenpunkts `(4, 3.8)` von der Geraden."
      ]
    },
    {
      "cell_type": "code",
      "execution_count": 2,
      "id": "0836361d-1278-4f7c-8f30-9478e8697e75",
      "metadata": {},
      "outputs": [],
      "source": [
        "# Hier Python-Code eingeben\n",
        "\n",
        "## NO FUCKING IDEA"
      ]
    },
    {
      "cell_type": "markdown",
      "id": "d500b5f2-10b8-4fe5-b1f2-1ac03229ad7b",
      "metadata": {},
      "source": [
        "**d)** Durch einen Tipp einer Mitschülerin erfährt Alice, dass es ein Verfahren namens **einfache lineare Regression** gibt, welches die Summe der Abstände zwischen einer Geraden und die durch sie approximierte Datenpunkte minimiert. Um befriedigende Resultate zu erhalten, müssen die Datenpunkte jedoch ungefähr in einem **postiven oder negativen linearen Zusammenhang** stehen.\n",
        "\n",
        "* **Positiv linear** bedeutet \"Je **grösser** die unabhängige Variable $x$, desto **grösser** die abhängige Variable $y$\".\n",
        "* **Negativ linear** bedeutet \"Je **grösser** die unabhängige Variable $x$, desto **kleiner** die abhängige Variable $y$\".\n",
        "\n",
        "Lesen Sie mit Hilfe von pandas die Datenpunkte in `noten.csv` ein und überprüfen Sie die Linearität mit Hilfe eines Streudiagramms."
      ]
    },
    {
      "cell_type": "code",
      "execution_count": 3,
      "id": "32fcaa7b-141f-4a52-9e00-41b922917bfa",
      "metadata": {},
      "outputs": [
        {
          "data": {
            "text/plain": [
              "<Axes: xlabel='lernaufwand', ylabel='note'>"
            ]
          },
          "execution_count": 3,
          "metadata": {},
          "output_type": "execute_result"
        },
        {
          "data": {
            "image/png": "[encoded data removed]",
            "text/plain": [
              "<Figure size 640x480 with 1 Axes>"
            ]
          },
          "metadata": {},
          "output_type": "display_data"
        }
      ],
      "source": [
        "# Hier Python-Code eingeben\n",
        "import pandas as pd\n",
        "\n",
        "noten = pd.read_csv(\"./datasets/noten.csv\")\n",
        "\n",
        "noten.plot.scatter(x=\"lernaufwand\", y=\"note\")"
      ]
    },
    {
      "cell_type": "markdown",
      "id": "9db19ef2-8345-4cbd-9554-ce8cc254b60c",
      "metadata": {},
      "source": [
        "**e)** Für $n$ Datenpunkte $(x_1, y_1), (x_2, y_2), ..., (x_n, y_n)$ sehen die Formeln zur Berechnung der Steigung $m$ und des Achsenabschnitts $q$ der Regressionsgeraden folgendermassen aus (siehe vollständige Herleitung im Appendix unten):\n",
        "\n",
        "$m = \\frac{n\\sum x_iy_i - \\sum x_i \\sum y_i}{n\\sum x_i^2 - (\\sum x_i)^2}$\n",
        "\n",
        "$q = \\frac{\\sum y_i - m\\sum x_i}{n} \\quad \\text{(}m \\text{ mit Resultat von oben ersetzen)}$\n",
        "\n",
        "Um die Formeln nicht selber ausprogrammieren zu müssen, greift Alice auf das Statistik-Paket `statsmodels` zurück."
      ]
    },
    {
      "cell_type": "markdown",
      "id": "01bf2f1c-9910-4f2d-b4f9-6a953971f217",
      "metadata": {},
      "source": [
        "<div class=\"alert alert-block alert-info\">\n",
        "<img align=\"right\" src=\"https://balloon.tam.ch/share/9058321257cfeaff89a072cc2694cb3e\" alt=\"statsmodels\" width=\"200\" />\n",
        "<strong>Neues Paket: statsmodels</strong>\n",
        "\n",
        "Statsmodels ist eine leistungsstarke Python-Bibliothek, die eine breite Palette an statistischen Modellen und Testverfahren für die Datenanalyse bietet. Sie ermöglicht es Benutzern, statistische Modelle zu schätzen, statistische Tests durchzuführen und Datenexploration zu betreiben. Mit einer Vielzahl von Modellen wie linearen Regressionen und Zeitreihenanalysen unterstützt Statsmodels sowohl die Forschung als auch die Entwicklung statistischer Anwendungen. Die Bibliothek bietet detaillierte Ausgaben und Ergebnisse, die es ermöglichen, tiefe Einblicke in die Daten zu gewinnen.\n",
        "</div>"
      ]
    },
    {
      "cell_type": "code",
      "execution_count": 4,
      "id": "a8d22bf5-0fb9-4d3f-aa7b-c0fea4d1dc0d",
      "metadata": {},
      "outputs": [],
      "source": [
        "import statsmodels.formula.api as smf # statsmodels als smf importieren"
      ]
    },
    {
      "cell_type": "markdown",
      "id": "e4d9e6c3-7b4d-4f10-9090-6eabfacfdb0c",
      "metadata": {},
      "source": [
        "Um aus Datenpunkten die Steigung $m$ und den Achsenabschnitt $q$ der Regressionsgeraden zu erhalten, rufen wir die statsmodels-Befehle `ols()` (für *ordinary least squares* resp. gewöhnliche kleinste Quadrate) und `fit()` (\"\\[das Modell an die Daten\\] anpassen\") nacheinander auf. (Diese Art von Verkettung von Befehlen nennt man in der Informatik *method chaining*.)\n",
        "\n",
        "Dem Befehl `ols()` übergeben wir zwei Schlüsselwort-Argumente:\n",
        "\n",
        "* `formula`: Die Formel für die multiple lineare Regression als Zeichenkette (Text). Drei Sachen gilt es dabei zu beachten:\n",
        "  1. Statt $x$ und $y$ werden die Namen der unabhängigen und abhängigen Variablen verwendet, also `lernaufwand` und `note`.\n",
        "  2. Das Gleichheitszeichen wird dabei mit dem Tildesymbol `~` ersetzt. \n",
        "  3. Die Steigung $m$ und der Achsenabschnitt $q$ werden nicht notiert.\n",
        " \n",
        "  Die Funktion $y = mx + q$ wird somit als `'note ~ lernaufwand'` codiert.\n",
        "* `data`: Der Datensatz\n",
        "\n",
        "Rufen Sie in der Befehlsfolge `smf.ols().fit()` den Befehl `ols()` mit den Schlüsselwort-Argumenten `formula` und `data` auf und weisen sie die Rückgabe der Variablen `lm` (für *linear model*) zu. Wenn alles geklappt hat, können Sie anschliessend mit `lm.params` den Wert für die Steigung und den Achsenabschnitt (engl. *intercept*) auslesen."
      ]
    },
    {
      "cell_type": "code",
      "execution_count": 5,
      "id": "f20e7e0b-46c7-47c2-83a8-6aef8b4f7d15",
      "metadata": {},
      "outputs": [
        {
          "data": {
            "text/plain": [
              "Intercept      1.528690\n",
              "lernaufwand    0.773518\n",
              "dtype: float64"
            ]
          },
          "execution_count": 5,
          "metadata": {},
          "output_type": "execute_result"
        }
      ],
      "source": [
        "# Hier Python-Code eingeben\n",
        "lm = smf.ols(formula=\"note ~ lernaufwand\", data=noten).fit()\n",
        "\n",
        "lm.params"
      ]
    },
    {
      "cell_type": "markdown",
      "id": "31c7cdcf-01a2-403a-b507-2970d2b9fc35",
      "metadata": {},
      "source": [
        "**f)** Verwenden Sie den Befehl `lm.predict()`, um die Note bei 4 Stunden Lernzeit vorherzusagen."
      ]
    },
    {
      "cell_type": "code",
      "execution_count": 6,
      "id": "363c2db3-a377-4478-9c9e-bb1f4b2d934c",
      "metadata": {},
      "outputs": [
        {
          "data": {
            "text/plain": [
              "0    4.622763\n",
              "dtype: float64"
            ]
          },
          "execution_count": 6,
          "metadata": {},
          "output_type": "execute_result"
        }
      ],
      "source": [
        "# Eine allein stehende Spalte (Series) mit einem Namen 'lernaufwand' und dem Wert 4 erstellen\n",
        "s = pd.Series([4], name='lernaufwand')\n",
        "# Hier Python-Code eingeben\n",
        "lm.predict(s) # Vorhersage für den Wert 4 machen"
      ]
    },
    {
      "cell_type": "markdown",
      "id": "049f3f3d-8fdd-4020-9f1e-97a5130fba96",
      "metadata": {},
      "source": [
        "**Antwort**: *hier doppelklicken und Antwort eingeben*\n",
        "\n",
        "Es wird eine 4.62 vorhergesagt."
      ]
    },
    {
      "cell_type": "markdown",
      "id": "8eb2cd7c-cf94-43d9-b1f5-08de608d1144",
      "metadata": {},
      "source": [
        "**g)** Führen Sie die Zelle unten aus, um mit `matplotlib` die Datenpunkte und die Regressionsgerade zu zeichnen."
      ]
    },
    {
      "cell_type": "code",
      "execution_count": 9,
      "id": "b974ffcd-5e4e-4e7a-907e-1dbc0b7c7c0c",
      "metadata": {},
      "outputs": [
        {
          "data": {
            "text/plain": [
              "<matplotlib.legend.Legend at 0x2ac173fefd0>"
            ]
          },
          "execution_count": 9,
          "metadata": {},
          "output_type": "execute_result"
        },
        {
          "data": {
            "image/png": "[encoded data removed]",
            "text/plain": [
              "<Figure size 640x480 with 1 Axes>"
            ]
          },
          "metadata": {},
          "output_type": "display_data"
        }
      ],
      "source": [
        "import matplotlib.pyplot as plt\n",
        "\n",
        "# m (Steigung) und q (Achsenabschnitt) definieren\n",
        "m = lm.params[\"lernaufwand\"]\n",
        "q = lm.params[\"Intercept\"]\n",
        "\n",
        "data = noten\n",
        "\n",
        "# Berechne die vorhergesagten Noten in einer neuen Spalte\n",
        "data.note_vorausgesagt = m * data.lernaufwand + q\n",
        "\n",
        "# Erstelle ein Streudiagramm der originalen Daten\n",
        "plt.scatter(data.lernaufwand, data.note, color=\"blue\", label=\"Datenpunkte\")\n",
        "\n",
        "# Zeichne die Regressionslinie\n",
        "plt.plot(data.lernaufwand, data.note_vorausgesagt, color=\"red\", label=\"Regressionsgerade\")\n",
        "\n",
        "# Füge Titel und Beschriftungen hinzu\n",
        "plt.title(\"Regressionsgerade für Lernaufwand/Note\")\n",
        "plt.xlabel(\"Lernaufwand (h)\")\n",
        "plt.ylabel(\"Note\")\n",
        "\n",
        "# Füge eine Legende hinzu\n",
        "plt.legend()"
      ]
    },
    {
      "cell_type": "markdown",
      "id": "71412c13-a0a1-46d9-befb-61502e4dbe7c",
      "metadata": {},
      "source": [
        "## Aufgabe 2: Trinkgeld voraussagen\n",
        "\n",
        "Verwenden Sie den Datensatz `tips.csv`, um mit Hilfe von linearer Regression aus dem Rechnungsbetrag `total_bill` das Trinkgeld `tip` vorherzusagen."
      ]
    },
    {
      "cell_type": "markdown",
      "id": "72302354-e944-4da7-a19d-575667d4af9f",
      "metadata": {},
      "source": [
        "**a)** Lesen Sie die Daten ein und überprüfen Sie mit Hilfe eines Streudiagramms den linearen Zusammenhang der Variablen."
      ]
    },
    {
      "cell_type": "code",
      "execution_count": 40,
      "id": "0d5ecb2d-c053-4f44-8f9d-1debb00b0f93",
      "metadata": {},
      "outputs": [],
      "source": [
        "# Hier Python-Code eingeben"
      ]
    },
    {
      "cell_type": "markdown",
      "id": "39df29c6-fb3a-479e-add6-933b49327464",
      "metadata": {},
      "source": [
        "**b)** Erstellen Sie mit Hilfe von statsmodels ein lineares Modell und geben Sie die Werte für $m$ und $q$ aus."
      ]
    },
    {
      "cell_type": "code",
      "execution_count": null,
      "id": "f82106b7-4a14-4c56-bf3c-a83c5ac9a24d",
      "metadata": {},
      "outputs": [],
      "source": [
        "# Hier Python-Code eingeben"
      ]
    },
    {
      "cell_type": "markdown",
      "id": "a6cf6ec9-4e01-4039-a61f-b0a1387aa83e",
      "metadata": {},
      "source": [
        "**c)** Sagen Sie das Trinkgeld für eine Rechnung der Höhe Fr. 120 voraus."
      ]
    },
    {
      "cell_type": "code",
      "execution_count": 41,
      "id": "def8c402-b30b-405a-9297-7b99eccedfda",
      "metadata": {},
      "outputs": [],
      "source": [
        "# Hier Python-Code eingeben"
      ]
    },
    {
      "cell_type": "markdown",
      "id": "1df59ad1-597e-4113-8306-8556219f4e85",
      "metadata": {},
      "source": [
        "**d)** Erstellen Sie ein Diagramm mit den Datenpunkten und der Regressionsgeraden."
      ]
    },
    {
      "cell_type": "code",
      "execution_count": 42,
      "id": "002a3933-d11a-4d5e-bc89-e46be2b1ba4c",
      "metadata": {},
      "outputs": [],
      "source": [
        "# Hier Python-Code eingeben"
      ]
    },
    {
      "cell_type": "markdown",
      "id": "82801e9d-bbda-42ac-9f13-1bbd74234a22",
      "metadata": {},
      "source": [
        "## Aufgabe 3: Profit von Startups voraussagen"
      ]
    },
    {
      "cell_type": "markdown",
      "id": "1256a7f5-bfd4-4340-bc40-6aefa8d4f039",
      "metadata": {},
      "source": [
        "In dieser Aufgabe analysieren wir den Datensatz [50 Startups](https://www.kaggle.com/farhanmd29/50-startups) von der Plattform Kaggle. Über die unabhängigen Variablen `rd` (Forschungsausgaben), `admin` (administrative Aufwände) und `marketing` (Marketing-Ausgaben) versuch wir, die abhängige Variable `profit` von amerikanischen Tech-Startups vorauszusagen. (Die Spalte `state` lassen wir weg.)\n",
        "\n",
        "Wenn man für die lineare Regression zwei oder mehr unabhängige Variablen verwendet, spricht man von **multipler linearer Regression**. Bei $n$ verschiedenen unabhängigen Varialben $x_1, x_2, \\ldots, x_n$ wird zur Modellierung eine lineare Funktion vom Typ $y = a_0 + a_1 x_1 + a_2 x_2 + \\ldots + a_n x_n$ verwendet. Statt einer Geraden repräsentiert sie eine *Ebene* in einem mehrdimensioanlen Raum (=Hyperebene).\n",
        "\n",
        "**a)** Lesen Sie den Datensatz mit pandas ein und überprüfen Sie für jede unabhängige Variable separat, ob sie in einem linearen Zusammenhang zur abhängigen Variable `profit` steht."
      ]
    },
    {
      "cell_type": "code",
      "execution_count": 31,
      "id": "cb86493d-34be-477a-9abe-1a826059cec0",
      "metadata": {},
      "outputs": [],
      "source": [
        "# Hier Python-Code eingeben"
      ]
    },
    {
      "cell_type": "markdown",
      "id": "a0a04a6e-f29b-40ee-8fad-37840678168f",
      "metadata": {},
      "source": [
        "**b)** Erstellen Sie mit Hilfe von statsmodels ein lineares Modell. Gibt es mehr als eine unabhängige Variable, werden sie im Schlüssel-Argument `formula` von `ols()` mit `+` verbunden, also `'profit ~ rd + marketing'`."
      ]
    },
    {
      "cell_type": "code",
      "execution_count": 34,
      "id": "2e0d861a-7e61-41dd-a7be-9f3d42db2787",
      "metadata": {},
      "outputs": [],
      "source": [
        "# Hier Python-Code eingeben"
      ]
    },
    {
      "cell_type": "markdown",
      "id": "996b197d-0de3-4664-8f1d-db631d1e42b3",
      "metadata": {},
      "source": [
        "**c)** Wie viel Profit macht gemäss dem Modell ein Startup, das je $1000000 für R&D und Marketing ausgibt?\n",
        "\n",
        "Tipp: Verwenden Sie für die Vorhersage das `DataFrame` `df` unten."
      ]
    },
    {
      "cell_type": "code",
      "execution_count": null,
      "id": "3559feee-968c-470b-865a-5c196cf47ab5",
      "metadata": {
        "trusted": true
      },
      "outputs": [],
      "source": [
        "# Erstelle ein DataFrame mit spezifischen Spalten und einem Datensatz\n",
        "df = pd.DataFrame({'rd': [1000000], 'marketing': [1000000]})\n",
        "\n",
        "# Hier Python-Code eingeben"
      ]
    },
    {
      "cell_type": "markdown",
      "id": "00855ff0-b84b-47fc-a570-5a09e69a27cc",
      "metadata": {},
      "source": [
        "<div class=\"alert alert-block alert-info\">\n",
        "<strong>Kontrollfragen</strong>\n",
        "\n",
        "1. Was versteht man unter der *abhängigen* Variablen? \n",
        "2. Was versteht man unter *unabhängigen* Variablen?\n",
        "3. Was ist der Unterschied zwischen der *einfachen* linearen Regression und der *multiplen* linearen Regression?\n",
        "4. Weshalb muss man die *Linearität* der unabhängigen Variablen überprüfen? Und wie macht man das?\n",
        "5. Wozu verwendet man die Programmbibliothek *pandas*?\n",
        "6. Wozu verwendet man die Programmbibliothek *statsmodels*?\n",
        "7. Was versteht man unter einem statistischen Modell?\n",
        "</div>"
      ]
    },
    {
      "cell_type": "markdown",
      "id": "b45408a1-97af-4b58-964b-72230603a57c",
      "metadata": {},
      "source": [
        "## Appendix: Herleitung der Formeln für die einfache lineare Regression\n",
        "\n",
        "### Definition der Zielfunktion\n",
        "Das Ziel der linearen Regression besteht darin, die bestmögliche Gerade $y = mx + q$ zu finden, die die Summe der quadrierten Residuen zwischen den vorhergesagten Werten und den tatsächlichen Datenpunkten minimiert. Die Summe der quadrierten Residuen $S$ wird definiert als:\n",
        "$$\n",
        "S = \\sum_{i=1}^n (y_i - (mx_i + q))^2\n",
        "$$\n",
        "\n",
        "### Partielle Ableitungen\n",
        "Um $S$ zu minimieren, nehmen wir die partiellen Ableitungen bezüglich $m$ und $q$ und setzen diese gleich Null.\n",
        "\n",
        "#### Partielle Ableitung nach $m$\n",
        "$$\n",
        "\\frac{\\partial S}{\\partial m} = \\frac{\\partial}{\\partial m} \\sum_{i=1}^n (y_i - mx_i - q)^2\n",
        "$$\n",
        "$$\n",
        "= \\sum_{i=1}^n 2(y_i - mx_i - q)(-x_i)\n",
        "$$\n",
        "$$\n",
        "= -2 \\sum_{i=1}^n x_i(y_i - mx_i - q)\n",
        "$$\n",
        "Auf Null setzen für die Minimierung ergibt:\n",
        "$$\n",
        "\\sum x_iy_i - m\\sum x_i^2 - q\\sum x_i = 0\n",
        "$$\n",
        "$$\n",
        "\\sum x_iy_i = m\\sum x_i^2 + q\\sum x_i \\quad \\text{(Gleichung 1)}\n",
        "$$\n",
        "\n",
        "#### Partielle Ableitung nach $q$\n",
        "$$\n",
        "\\frac{\\partial S}{\\partial q} = \\frac{\\partial}{\\partial q} \\sum_{i=1}^n (y_i - mx_i - q)^2\n",
        "$$\n",
        "$$\n",
        "= \\sum_{i=1}^n 2(y_i - mx_i - q)(-1)\n",
        "$$\n",
        "$$\n",
        "= -2 \\sum (y_i - mx_i - q)\n",
        "$$\n",
        "Auf Null setzen für die Minimierung ergibt:\n",
        "$$\n",
        "\\sum y_i - m\\sum x_i - nq = 0\n",
        "$$\n",
        "$$\n",
        "\\sum y_i = m\\sum x_i + nq \\quad \\text{(Gleichung 2)}\n",
        "$$\n",
        "\n",
        "### Lösung der Gleichungen\n",
        "Aus Gleichung 2:\n",
        "$$\n",
        "q = \\frac{\\sum y_i - m\\sum x_i}{n} \\quad \\text{(Gleichung 3)}\n",
        "$$\n",
        "Einsetzen der Gleichung 3 in Gleichung 1:\n",
        "$$\n",
        "\\sum x_iy_i = m\\sum x_i^2 + \\left(\\frac{\\sum y_i - m\\sum x_i}{n}\\right)\\sum x_i\n",
        "$$\n",
        "$$\n",
        "\\sum x_iy_i = m\\sum x_i^2 + \\frac{(\\sum y_i)\\sum x_i}{n} - \\frac{m(\\sum x_i)^2}{n}\n",
        "$$\n",
        "Auflösen nach $m$:\n",
        "$$\n",
        "m = \\frac{n\\sum x_iy_i - \\sum x_i \\sum y_i}{n\\sum x_i^2 - (\\sum x_i)^2}\n",
        "$$\n",
        "Bestimmen von $q$ über Einsetzen von $m$ in Gleichung 3:\n",
        "$$\n",
        "q = \\frac{\\sum y_i - m\\sum x_i}{n}\n",
        "$$"
      ]
    },
    {
      "cell_type": "code",
      "execution_count": null,
      "id": "626fafc4-6773-4546-aedd-7cb5f1bc5bbb",
      "metadata": {},
      "outputs": [],
      "source": []
    }
  ],
  "metadata": {
    "kernelspec": {
      "display_name": "Python 3",
      "language": "python",
      "name": "python3"
    },
    "language_info": {
      "codemirror_mode": {
        "name": "ipython",
        "version": 3
      },
      "file_extension": ".py",
      "mimetype": "text/x-python",
      "name": "python",
      "nbconvert_exporter": "python",
      "pygments_lexer": "ipython3",
      "version": "3.13.1"
    }
  },
  "nbformat": 4,
  "nbformat_minor": 5
}
