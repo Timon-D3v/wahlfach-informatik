{
  "cells": [
    {
      "cell_type": "markdown",
      "id": "745e67a6-93d5-4067-8306-17b49b319ec6",
      "metadata": {},
      "source": [
        "# Notebook 3: Naive-Bayes-Klassifikation\n",
        "\n",
        "<img src=\"https://balloon.tam.ch/share/b3ef6dd47539cc1a9d26b2bf8c778cdd\" alt=\"Musik-Genres\" style=\"float: right; width: 320px\">\n",
        "\n",
        "In diesem Jupyter-Notebook geht es darum, wie man mit Hilfe der Naive-Bayes-Klassifikation **Kategorien** voraussagt. \n",
        "\n",
        "In den Lernaufgaben unten erstellen wir aus den Lyrcis von Songs einer fiktiven Musiksammlung eine Genre-Klassifikator, der Songs basierend auf ihren Lyrcis einem Genre zuordnet.\n",
        "\n",
        "Wir verwenden also die *abhängige* Variable `Genre` mit den folgenden Kategorien:\n",
        "* Pop\n",
        "* Soul\n",
        "* Country\n",
        "* Metal\n",
        "* Hiphop\n",
        "\n",
        "Als *unabhängige* Variablen verwenden wir die Häufigkeit der folgenden Wörter:\n",
        "* love\n",
        "* oh\n",
        "* down\n",
        "* got\n",
        "* never\n",
        "* feel\n",
        "* let"
      ]
    },
    {
      "cell_type": "markdown",
      "id": "92ee152e-a7a2-4cf2-84a1-2e7150d269e9",
      "metadata": {},
      "source": [
        "## Definitionen\n",
        "\n",
        "<div class=\"alert alert-block alert-info\">\n",
        "    \n",
        "<strong>A-priori-Wahrscheinlichkeit $P(A)$</strong>\n",
        "\n",
        "Unter der A-priori-Wahrscheinlichkeit $P(A)$ verstehen wir die aus *allgemeinem Vorwissen* geschätze Wahrscheinlichkeit eines Ereignisses $A$. Man zählt dafür die Anzahl Beobachtungen des Ereignisses $A$ (z.B. Anzahl Spam-Nachrichten) und dividiert sie durch die Anzahl aller Beobachtungen (Alle E-Mails in der Inbox).\n",
        "\n",
        "**Beispiel**\n",
        "\n",
        "Wir haben einen Datensatz mit 12 E-Mail-Nachrichten, wovon 8 normale Nachrichten (${\\rm Ham}$) und 4 Spam-Nachrichten (${\\rm Spam}$) sind. Die A-priori-Wahrscheinlichkeiten für die beiden Kategorien sind:\n",
        "\n",
        "* $P({\\rm Ham}) = \\frac{8}{8+4} = \\frac{2}{3}$\n",
        "* $P({\\rm Spam}) = \\frac{4}{8+4} = \\frac{1}{3}$\n",
        "\n",
        "</div>"
      ]
    },
    {
      "cell_type": "markdown",
      "id": "eb2373dc-c365-48cd-a94c-ef7ad98436e6",
      "metadata": {},
      "source": [
        "<div class=\"alert alert-block alert-info\">\n",
        "\n",
        "<strong>Bedingte Wahrscheinlichkeit $P(A | B)$</strong>\n",
        "\n",
        "Wenn $A$ und $B$ beliebige Ereignisse sind und $P(B)>0$ ist, dann ist die bedingte Wahrscheinlichkeit von \"$A$ bedingt auf $B$\" (oder $A$ unter der Bedingung $B$) definiert durch:\n",
        "\n",
        "$P(A | B)= \\frac{P(A \\cap B)}{P(B)}= \\frac{P(B|A)\\cdot P(A)}{P(B)}$\n",
        "\n",
        "$P(A \\cap B)$ ist die Wahrscheinlichkeit, dass die Ereignisse $A$ und $B$ gemeinsam auftreten.\n",
        "\n",
        "**Beispiel**\n",
        "\n",
        "Wenn das Wort \"Dear\" in acht Ham-E-Mails und in zwei Spam-E-Mails auftaucht, dann ist die bedingte Wahrscheinlichkeit für \"Ham bedingt auf Dear\" definiert durch:\n",
        "\n",
        "$p({\\rm Ham|Dear}) = \\frac{8}{8+2} = \\frac{4}{5}$\n",
        "\n",
        "</div>"
      ]
    },
    {
      "cell_type": "markdown",
      "id": "a94cab48-84e2-4149-9922-5596d20435ba",
      "metadata": {},
      "source": [
        "<div class=\"alert alert-block alert-info\">\n",
        "    \n",
        "<strong>Naive-Bayes-Klassifikation $P(A_1|K_i) \\cdot P(A_2|K_i) \\cdot \\ldots \\cdot P(A_n|K_i) \\cdot P(K_i)$</strong>\n",
        "\n",
        "Die Naive-Bayes-Klassifikation ist eine Methode, um einen Wert zu berechnen, der proportional zu einer bedingten Wahrscheinlichkeit von Typ $P(K_i | A_1 \\cap A_2 \\cap \\ldots \\cap A_n)$ ist, wobei $K_i$ für die *i*-te Kategorie (z.B. $K_1={\\rm Spam}$ und $K_2={\\rm Ham}$ bei E-Mails) und $A_1$, $A_2$, $\\ldots$, $A_n$ für unterschiedliche Ereignisse stehen (z.B. Wörter in einer E-Mail: $A_1={\\rm Hello}$, $A_2={\\rm Dear}$, usw.). Gemäss des Satzes von Bayes lässt sich diese Wahrscheinlichkeit folgendermassen berechnen:\n",
        "\n",
        "$$\n",
        "P(K_i | A_1 \\cap A_2 \\cap \\ldots \\cap A_n) \n",
        "= \\frac{P(A_1 \\cap A_2 \\cap \\ldots \\cap A_n | K_i)\\cdot P(K_i)}{P(A_1 \\cap A_2 \\cap \\ldots \\cap A_n)}\n",
        "$$\n",
        "\n",
        "Unter der (naiven) Annahme, dass die Ereignisse $A_1$, $A_2$, usw. unabhängig voneinander sind, lässt sich $P(A_1 \\cap A_2 \\cap \\ldots \\cap A_n | K_i)$ zu einem Produkt der bedingten Wahrscheinlichkeiten $P(A_1 | K_i)$, $P(A_2 | K_i)$, $\\ldots$, $P(A_n | K_i)$ vereinfachen:\n",
        "\n",
        "$$\n",
        "P(K_i | A_1 \\cap A_2 \\cap \\ldots \\cap A_n) \n",
        "= \\frac{P(A_1|K_i) \\cdot P(A_2|K_i) \\cdot \\ldots \\cdot P(A_n|K_i) \\cdot P(K_i)}{P(A_1 \\cap A_2 \\cap \\ldots \\cap A_n)}\n",
        "$$\n",
        "\n",
        "In der Praxis muss beim Einsatz der Naive-Bayes-Klassifikation der Nenner $P(A_1 \\cap A_2 \\cap \\ldots \\cap A_n)$\n",
        "nicht explizit berechnet werden, wenn verglichen wird, welche Kategorie $K_i$ die Wahrscheinlichkeit $P(K_i | A_1 \\cap A_2 \\cap \\ldots \\cap A_n)$ maximiert, da er für alle Kategorien gleich ist. Daher vergleichen wir nur die Zähler für die verschiedenen Kategorien $K_i$:\n",
        "\n",
        "$$\n",
        "P(A_1|K_i) \\cdot P(A_2|K_i) \\cdot \\ldots \\cdot P(A_n|K_i) \\cdot P(K_i)\n",
        "$$\n",
        "\n",
        "Die Kategorie mit dem grössten Wert bestimmt die Klassifikationsentscheidung.\n",
        "\n",
        "**Beispiel**\n",
        "\n",
        "Wenn eine E-Mail den Text \"Dear Friend\" enhält, dann lässt sich die Wahrscheinlichkeit der Kategorien Ham und Spam mit Hilfe der Formeln \n",
        "\n",
        "$P({\\rm Dear | Ham}) \\cdot P({\\rm Friend | Ham}) \\cdot P({\\rm Ham})$\n",
        "\n",
        "und \n",
        "\n",
        "$P({\\rm Dear | Spam}) \\cdot P({\\rm Friend | Spam}) \\cdot P({\\rm Spam})$\n",
        "\n",
        "quantifizieren. Die Kategorie mit dem grössten Produkt wird für die Vorhersage gewählt.\n",
        "\n",
        "</div>"
      ]
    },
    {
      "cell_type": "markdown",
      "id": "813626c1-2c27-433b-aceb-2c0de562bbf1",
      "metadata": {},
      "source": [
        "**Aufgabe 1: A-priori-Wahrscheinlichkeiten für Genres berechnen**\n",
        "\n",
        "Wir verwenden folgende Häufigkeiten für die Songs in unserer (fiktiven) Musiksammlung:"
      ]
    },
    {
      "cell_type": "code",
      "execution_count": 1,
      "id": "b874b44d-223e-4cce-b368-39307db4a54f",
      "metadata": {},
      "outputs": [
        {
          "data": {
            "text/plain": [
              "pop        8404\n",
              "soul        387\n",
              "country    3869\n",
              "metal      1251\n",
              "hiphop       92\n",
              "dtype: int64"
            ]
          },
          "execution_count": 1,
          "metadata": {},
          "output_type": "execute_result"
        }
      ],
      "source": [
        "import pandas as pd\n",
        "\n",
        "# Series mit den Häufigkeit der Songs\n",
        "genres = pd.Series({\n",
        "  \"pop\": 8404,\n",
        "  \"soul\": 387,\n",
        "  \"country\": 3869,\n",
        "  \"metal\": 1251,\n",
        "  \"hiphop\": 92\n",
        "})\n",
        "genres"
      ]
    },
    {
      "cell_type": "markdown",
      "id": "f4ac69f5-37e4-4ae5-ac69-01091aa5873f",
      "metadata": {},
      "source": [
        "Angenommen Sie ziehen einen zufälligen Song aus der Sammlung. Berechnen Sie die A-priori-Wahrscheinlichkeiten für die verschiedenen Genres als Series\n",
        "$$\n",
        "{\\rm p\\_genres} = \n",
        "\\begin{bmatrix}\n",
        "P({\\rm pop})\\\\\n",
        "P({\\rm soul})\\\\\n",
        "P({\\rm country})\\\\\n",
        "P({\\rm metal})\\\\\n",
        "P({\\rm hiphop})\\\\\n",
        "\\end{bmatrix}\n",
        "$$\n",
        "* **Tipp 1**: Mit `n = genres.sum()` berechnen Sie die Gesamtzahl von Songs in Ihrer Sammlung.\n",
        "* **Tipp 2**: Wenn Sie eine Series-Instanz durch eine Zahl dividieren, werden alle Zellen in der Series durch diese Zahl dividiert.\n",
        "\n",
        "<img src=\"https://balloon.tam.ch/share/4ec64dbe79d78eb10116b1a8dfb36958\" alt=\"Series durch Zahl dividieren\" width=\"500\">"
      ]
    },
    {
      "cell_type": "code",
      "execution_count": 2,
      "id": "1a75be1e-3ebb-49fb-aa6f-859e45d582a8",
      "metadata": {
        "trusted": true
      },
      "outputs": [
        {
          "data": {
            "text/plain": [
              "pop        0.600157\n",
              "soul       0.027637\n",
              "country    0.276298\n",
              "metal      0.089338\n",
              "hiphop     0.006570\n",
              "dtype: float64"
            ]
          },
          "execution_count": 2,
          "metadata": {},
          "output_type": "execute_result"
        }
      ],
      "source": [
        "# Code hier eingeben\n",
        "n = genres.sum()\n",
        "\n",
        "p = genres / n\n",
        "\n",
        "p.sum() # === 1.0, weil die Summe aller Wahrscheinlichkeiten 1 ergibt\n",
        "\n",
        "p"
      ]
    },
    {
      "cell_type": "markdown",
      "id": "b90848aa-3e53-4e39-a1d9-00e45326963f",
      "metadata": {},
      "source": [
        "**Aufgabe 2: Bedingte Wahrscheinlichkeiten berechnen**\n",
        "\n",
        "Als nächstes importieren wir mit Hilfe von pandas die (fiktive) Häufigkeitsanalysen für die verschiedenen Wörter in unseren Songs. Sie sind bereits aufgeschlüsselt nach Genre. Wir ergänzen sie noch mit Spalten- und Zeilen-Labels."
      ]
    },
    {
      "cell_type": "code",
      "execution_count": 3,
      "id": "42a0c36a-6cf4-4f12-87a8-dcc2c5746804",
      "metadata": {
        "trusted": true
      },
      "outputs": [
        {
          "data": {
            "text/html": [
              "<div>\n",
              "<style scoped>\n",
              "    .dataframe tbody tr th:only-of-type {\n",
              "        vertical-align: middle;\n",
              "    }\n",
              "\n",
              "    .dataframe tbody tr th {\n",
              "        vertical-align: top;\n",
              "    }\n",
              "\n",
              "    .dataframe thead th {\n",
              "        text-align: right;\n",
              "    }\n",
              "</style>\n",
              "<table border=\"1\" class=\"dataframe\">\n",
              "  <thead>\n",
              "    <tr style=\"text-align: right;\">\n",
              "      <th></th>\n",
              "      <th>pop</th>\n",
              "      <th>soul</th>\n",
              "      <th>country</th>\n",
              "      <th>metal</th>\n",
              "      <th>hiphop</th>\n",
              "    </tr>\n",
              "  </thead>\n",
              "  <tbody>\n",
              "    <tr>\n",
              "      <th>love</th>\n",
              "      <td>12</td>\n",
              "      <td>21</td>\n",
              "      <td>15</td>\n",
              "      <td>4</td>\n",
              "      <td>4</td>\n",
              "    </tr>\n",
              "    <tr>\n",
              "      <th>oh</th>\n",
              "      <td>8</td>\n",
              "      <td>10</td>\n",
              "      <td>5</td>\n",
              "      <td>0</td>\n",
              "      <td>2</td>\n",
              "    </tr>\n",
              "    <tr>\n",
              "      <th>down</th>\n",
              "      <td>5</td>\n",
              "      <td>4</td>\n",
              "      <td>6</td>\n",
              "      <td>5</td>\n",
              "      <td>5</td>\n",
              "    </tr>\n",
              "    <tr>\n",
              "      <th>got</th>\n",
              "      <td>5</td>\n",
              "      <td>7</td>\n",
              "      <td>6</td>\n",
              "      <td>0</td>\n",
              "      <td>9</td>\n",
              "    </tr>\n",
              "    <tr>\n",
              "      <th>never</th>\n",
              "      <td>5</td>\n",
              "      <td>5</td>\n",
              "      <td>5</td>\n",
              "      <td>6</td>\n",
              "      <td>3</td>\n",
              "    </tr>\n",
              "    <tr>\n",
              "      <th>feel</th>\n",
              "      <td>5</td>\n",
              "      <td>6</td>\n",
              "      <td>4</td>\n",
              "      <td>5</td>\n",
              "      <td>2</td>\n",
              "    </tr>\n",
              "    <tr>\n",
              "      <th>let</th>\n",
              "      <td>5</td>\n",
              "      <td>7</td>\n",
              "      <td>4</td>\n",
              "      <td>3</td>\n",
              "      <td>4</td>\n",
              "    </tr>\n",
              "  </tbody>\n",
              "</table>\n",
              "</div>"
            ],
            "text/plain": [
              "       pop  soul  country  metal  hiphop\n",
              "love    12    21       15      4       4\n",
              "oh       8    10        5      0       2\n",
              "down     5     4        6      5       5\n",
              "got      5     7        6      0       9\n",
              "never    5     5        5      6       3\n",
              "feel     5     6        4      5       2\n",
              "let      5     7        4      3       4"
            ]
          },
          "execution_count": 3,
          "metadata": {},
          "output_type": "execute_result"
        }
      ],
      "source": [
        "# Zeilen- und Spalten-Labels als Listen erfassen\n",
        "rows = [\"love\",\"oh\",\"down\",\"got\",\"never\",\"feel\",\"let\"]\n",
        "columns = [\"pop\", \"soul\", \"country\", \"metal\", \"hiphop\"]\n",
        "\n",
        "data = pd.read_csv(\"./datasets/genres.csv\")\n",
        "lyrics = pd.DataFrame(data.values, index=rows, columns=columns)\n",
        "lyrics"
      ]
    },
    {
      "cell_type": "markdown",
      "id": "9661de79-ba71-45aa-bafe-7845c92d634a",
      "metadata": {},
      "source": [
        "**a)** In Metal-Songs in Iher Sammlung kommen offensichtlich die Wörter \"oh\" und \"got\" nicht vor. Erklären Sie, weshalb das bei der Naive-Bayes-Klassifikation ein Problem ist und wie man es umgehen kann."
      ]
    },
    {
      "cell_type": "markdown",
      "id": "50ff6e38-c92f-49df-9a37-c472d63e9b70",
      "metadata": {},
      "source": [
        "**Antwort:** *Man würde irgendwann durch 0 teilen, was nicht geht.*"
      ]
    },
    {
      "cell_type": "markdown",
      "id": "fa66898d-4858-4b33-8ba1-1d8b7b0d8e3b",
      "metadata": {},
      "source": [
        "**b)** Addieren Sie 1 zu allen Zellen hinzu.\n",
        "\n",
        "**Tipp**: Wenn man eine Zahl zu einer DataFrame-Instanz addiert, wird sie in allen Zellen hinzuaddiert. Das Resultat muss einer Variablen zugewiesen werden."
      ]
    },
    {
      "cell_type": "code",
      "execution_count": 4,
      "id": "2ab0a1e3-4af5-4dac-96a6-4c7789022c96",
      "metadata": {
        "trusted": true
      },
      "outputs": [
        {
          "data": {
            "text/html": [
              "<div>\n",
              "<style scoped>\n",
              "    .dataframe tbody tr th:only-of-type {\n",
              "        vertical-align: middle;\n",
              "    }\n",
              "\n",
              "    .dataframe tbody tr th {\n",
              "        vertical-align: top;\n",
              "    }\n",
              "\n",
              "    .dataframe thead th {\n",
              "        text-align: right;\n",
              "    }\n",
              "</style>\n",
              "<table border=\"1\" class=\"dataframe\">\n",
              "  <thead>\n",
              "    <tr style=\"text-align: right;\">\n",
              "      <th></th>\n",
              "      <th>pop</th>\n",
              "      <th>soul</th>\n",
              "      <th>country</th>\n",
              "      <th>metal</th>\n",
              "      <th>hiphop</th>\n",
              "    </tr>\n",
              "  </thead>\n",
              "  <tbody>\n",
              "    <tr>\n",
              "      <th>love</th>\n",
              "      <td>13</td>\n",
              "      <td>22</td>\n",
              "      <td>16</td>\n",
              "      <td>5</td>\n",
              "      <td>5</td>\n",
              "    </tr>\n",
              "    <tr>\n",
              "      <th>oh</th>\n",
              "      <td>9</td>\n",
              "      <td>11</td>\n",
              "      <td>6</td>\n",
              "      <td>1</td>\n",
              "      <td>3</td>\n",
              "    </tr>\n",
              "    <tr>\n",
              "      <th>down</th>\n",
              "      <td>6</td>\n",
              "      <td>5</td>\n",
              "      <td>7</td>\n",
              "      <td>6</td>\n",
              "      <td>6</td>\n",
              "    </tr>\n",
              "    <tr>\n",
              "      <th>got</th>\n",
              "      <td>6</td>\n",
              "      <td>8</td>\n",
              "      <td>7</td>\n",
              "      <td>1</td>\n",
              "      <td>10</td>\n",
              "    </tr>\n",
              "    <tr>\n",
              "      <th>never</th>\n",
              "      <td>6</td>\n",
              "      <td>6</td>\n",
              "      <td>6</td>\n",
              "      <td>7</td>\n",
              "      <td>4</td>\n",
              "    </tr>\n",
              "    <tr>\n",
              "      <th>feel</th>\n",
              "      <td>6</td>\n",
              "      <td>7</td>\n",
              "      <td>5</td>\n",
              "      <td>6</td>\n",
              "      <td>3</td>\n",
              "    </tr>\n",
              "    <tr>\n",
              "      <th>let</th>\n",
              "      <td>6</td>\n",
              "      <td>8</td>\n",
              "      <td>5</td>\n",
              "      <td>4</td>\n",
              "      <td>5</td>\n",
              "    </tr>\n",
              "  </tbody>\n",
              "</table>\n",
              "</div>"
            ],
            "text/plain": [
              "       pop  soul  country  metal  hiphop\n",
              "love    13    22       16      5       5\n",
              "oh       9    11        6      1       3\n",
              "down     6     5        7      6       6\n",
              "got      6     8        7      1      10\n",
              "never    6     6        6      7       4\n",
              "feel     6     7        5      6       3\n",
              "let      6     8        5      4       5"
            ]
          },
          "execution_count": 4,
          "metadata": {},
          "output_type": "execute_result"
        }
      ],
      "source": [
        "# Code hier eingeben\n",
        "lyrics += 1\n",
        "lyrics"
      ]
    },
    {
      "cell_type": "markdown",
      "id": "466ba80e-c467-4467-8ca5-2b4f92967e70",
      "metadata": {},
      "source": [
        "**c)** Berechnen Sie die bedingten Wahrscheinlichkeiten für $P({\\rm Wort}|{\\rm Genre})$ als DataFrame\n",
        "$$\n",
        "{\\rm cond\\_freq} = \n",
        "\\begin{bmatrix}\n",
        "P({\\rm love|pop}) & P({\\rm love|soul}) & P({\\rm love|country}) & P({\\rm love|metal}) & P({\\rm love|hiphop})\\\\\n",
        "P({\\rm oh|pop})   & P({\\rm oh|soul})   & P({\\rm oh|country})   & P({\\rm oh|metal})   & P({\\rm oh|hiphop})  \\\\\n",
        "P({\\rm down|pop}) & P({\\rm down|soul}) & P({\\rm down|country}) & P({\\rm down|metal}) & P({\\rm down|hiphop})\\\\\n",
        "P({\\rm got|pop})  & P({\\rm got|soul})  & P({\\rm got|country})  & P({\\rm got|metal})  & P({\\rm got|hiphop}) \\\\\n",
        "P({\\rm never|pop})& P({\\rm never|soul})& P({\\rm never|country})& P({\\rm never|metal})& P({\\rm never|hiphop})\\\\\n",
        "P({\\rm feel|pop}) & P({\\rm feel|soul}) & P({\\rm feel|country}) & P({\\rm feel|metal}) & P({\\rm feel|hiphop})\\\\\n",
        "P({\\rm let|pop})  & P({\\rm let|soul})  & P({\\rm let|country})  & P({\\rm let|metal})  & P({\\rm let|hiphop}) \\\\\n",
        "\\end{bmatrix}\n",
        "$$\n",
        "* **Tipp 1**: Verwenden Sie `word_count_per_genre = lyrics.sum(axis=0)`, um die Werte im DataFrame `lyrics` spaltenweise zu einer Series zusammenzuaddieren.\n",
        "* **Tipp 2**: Wenn Sie ein DataFrame durch ein Series dividieren, werden alle DataFrame-Zellen mit der Series-Zelle mit demselben (Spalten-)Label dividiert.\n",
        "\n",
        "<img src=\"https://balloon.tam.ch/share/c66a3ebecfa454666985aa1649994399\" alt=\"Division mit Series\" width=\"800\">"
      ]
    },
    {
      "cell_type": "code",
      "execution_count": 5,
      "id": "e1cbb7d2-e886-432c-9def-bef740e54c7e",
      "metadata": {
        "trusted": true
      },
      "outputs": [
        {
          "data": {
            "text/html": [
              "<div>\n",
              "<style scoped>\n",
              "    .dataframe tbody tr th:only-of-type {\n",
              "        vertical-align: middle;\n",
              "    }\n",
              "\n",
              "    .dataframe tbody tr th {\n",
              "        vertical-align: top;\n",
              "    }\n",
              "\n",
              "    .dataframe thead th {\n",
              "        text-align: right;\n",
              "    }\n",
              "</style>\n",
              "<table border=\"1\" class=\"dataframe\">\n",
              "  <thead>\n",
              "    <tr style=\"text-align: right;\">\n",
              "      <th></th>\n",
              "      <th>pop</th>\n",
              "      <th>soul</th>\n",
              "      <th>country</th>\n",
              "      <th>metal</th>\n",
              "      <th>hiphop</th>\n",
              "    </tr>\n",
              "  </thead>\n",
              "  <tbody>\n",
              "    <tr>\n",
              "      <th>love</th>\n",
              "      <td>0.250000</td>\n",
              "      <td>0.328358</td>\n",
              "      <td>0.307692</td>\n",
              "      <td>0.166667</td>\n",
              "      <td>0.138889</td>\n",
              "    </tr>\n",
              "    <tr>\n",
              "      <th>oh</th>\n",
              "      <td>0.173077</td>\n",
              "      <td>0.164179</td>\n",
              "      <td>0.115385</td>\n",
              "      <td>0.033333</td>\n",
              "      <td>0.083333</td>\n",
              "    </tr>\n",
              "    <tr>\n",
              "      <th>down</th>\n",
              "      <td>0.115385</td>\n",
              "      <td>0.074627</td>\n",
              "      <td>0.134615</td>\n",
              "      <td>0.200000</td>\n",
              "      <td>0.166667</td>\n",
              "    </tr>\n",
              "    <tr>\n",
              "      <th>got</th>\n",
              "      <td>0.115385</td>\n",
              "      <td>0.119403</td>\n",
              "      <td>0.134615</td>\n",
              "      <td>0.033333</td>\n",
              "      <td>0.277778</td>\n",
              "    </tr>\n",
              "    <tr>\n",
              "      <th>never</th>\n",
              "      <td>0.115385</td>\n",
              "      <td>0.089552</td>\n",
              "      <td>0.115385</td>\n",
              "      <td>0.233333</td>\n",
              "      <td>0.111111</td>\n",
              "    </tr>\n",
              "    <tr>\n",
              "      <th>feel</th>\n",
              "      <td>0.115385</td>\n",
              "      <td>0.104478</td>\n",
              "      <td>0.096154</td>\n",
              "      <td>0.200000</td>\n",
              "      <td>0.083333</td>\n",
              "    </tr>\n",
              "    <tr>\n",
              "      <th>let</th>\n",
              "      <td>0.115385</td>\n",
              "      <td>0.119403</td>\n",
              "      <td>0.096154</td>\n",
              "      <td>0.133333</td>\n",
              "      <td>0.138889</td>\n",
              "    </tr>\n",
              "  </tbody>\n",
              "</table>\n",
              "</div>"
            ],
            "text/plain": [
              "            pop      soul   country     metal    hiphop\n",
              "love   0.250000  0.328358  0.307692  0.166667  0.138889\n",
              "oh     0.173077  0.164179  0.115385  0.033333  0.083333\n",
              "down   0.115385  0.074627  0.134615  0.200000  0.166667\n",
              "got    0.115385  0.119403  0.134615  0.033333  0.277778\n",
              "never  0.115385  0.089552  0.115385  0.233333  0.111111\n",
              "feel   0.115385  0.104478  0.096154  0.200000  0.083333\n",
              "let    0.115385  0.119403  0.096154  0.133333  0.138889"
            ]
          },
          "execution_count": 5,
          "metadata": {},
          "output_type": "execute_result"
        }
      ],
      "source": [
        "# Code hier eingeben\n",
        "word_count_per_genre = lyrics.sum(axis=0)\n",
        "\n",
        "condition_frequency = lyrics / word_count_per_genre\n",
        "condition_frequency"
      ]
    },
    {
      "cell_type": "markdown",
      "id": "2f0fb336-0c62-45e8-9e74-4ebe497218ee",
      "metadata": {},
      "source": [
        "**Aufgabe 3: Songs klassifizieren mit Naive Bayes**\n",
        "\n",
        "Sagen Sie mit Hilfe der Naive-Bayes-Klassifikation das Genre für des folgenden zwei Songs voraus:\n",
        "\n",
        "**a)** Song 1: \"oh never let love down\""
      ]
    },
    {
      "cell_type": "markdown",
      "id": "a91fc69f-bc0a-4a81-b825-f988941d3962",
      "metadata": {},
      "source": [
        "**Antwort**: *Das ist wohl ein Popsong, weil das Produkt der Wahrscheinlichkeiten am grössten ist.*"
      ]
    },
    {
      "cell_type": "markdown",
      "id": "97e0fc97-6abe-4ed5-8599-a4694c35b7f8",
      "metadata": {},
      "source": [
        "**b)** Song 2: \"got love love love\""
      ]
    },
    {
      "cell_type": "markdown",
      "id": "f55c5cc5-4f75-4c7e-8013-b28a920a6668",
      "metadata": {},
      "source": [
        "**Antwort**: *Dieser Song ist am ehesten ein Soul Song, könnte aber knapp auch ein Country Song sein.*"
      ]
    },
    {
      "cell_type": "markdown",
      "id": "f51ce799-28af-46de-8b75-154597bbf7ad",
      "metadata": {},
      "source": [
        "* **Tipp 1**: Mit `cond_freq.loc['Zeilen-Label']` können Sie im Dataframe `cond_freq` eine ganze Zeile als Series extrahieren (also z.B. mit `cond_freq.loc['oh']` die ganze Zeile mit den bedingten Wahrscheinlichkeiten für das Wort \"oh\" in allen Genres).\n",
        "* **Tipp 2**: Wenn Sie eine Series mit einer anderen Series multiplizieren, werden die Werte zellenweise multipliziert. Die Ausrichtung der Series spielt keine Rolle.\n",
        "\n",
        "<img src=\"https://balloon.tam.ch/share/f009ae7240abc380a674e157e9e27c98\" alt=\"Zwei Series multiplizieren\" width=\"500\">"
      ]
    },
    {
      "cell_type": "code",
      "execution_count": 6,
      "id": "0bee5541-df86-42eb-a5a2-62bfc30fd7d3",
      "metadata": {
        "trusted": true
      },
      "outputs": [
        {
          "data": {
            "text/plain": [
              "pop        0.000066\n",
              "soul       0.000043\n",
              "country    0.000053\n",
              "metal      0.000035\n",
              "hiphop     0.000030\n",
              "dtype: float64"
            ]
          },
          "execution_count": 6,
          "metadata": {},
          "output_type": "execute_result"
        }
      ],
      "source": [
        "# a)\n",
        "song1 = condition_frequency.loc[\"oh\"] * condition_frequency.loc[\"never\"] * condition_frequency.loc[\"let\"] * condition_frequency.loc[\"love\"] * condition_frequency.loc[\"down\"]\n",
        "song1"
      ]
    },
    {
      "cell_type": "code",
      "execution_count": 7,
      "id": "4bab8e6e-738d-484d-b033-50be49e561c0",
      "metadata": {
        "trusted": true
      },
      "outputs": [
        {
          "data": {
            "text/plain": [
              "pop        0.001803\n",
              "soul       0.004227\n",
              "country    0.003921\n",
              "metal      0.000154\n",
              "hiphop     0.000744\n",
              "dtype: float64"
            ]
          },
          "execution_count": 7,
          "metadata": {},
          "output_type": "execute_result"
        }
      ],
      "source": [
        "# b)\n",
        "song2 = condition_frequency.loc[\"got\"] * condition_frequency.loc[\"love\"] * condition_frequency.loc[\"love\"] * condition_frequency.loc[\"love\"]\n",
        "\n",
        "# ODER\n",
        "\n",
        "song2 = condition_frequency.loc[\"got\"] * (condition_frequency.loc[\"love\"] ** 3)\n",
        "song2"
      ]
    }
  ],
  "metadata": {
    "kernelspec": {
      "display_name": "Python 3",
      "language": "python",
      "name": "python3"
    },
    "language_info": {
      "codemirror_mode": {
        "name": "ipython",
        "version": 3
      },
      "file_extension": ".py",
      "mimetype": "text/x-python",
      "name": "python",
      "nbconvert_exporter": "python",
      "pygments_lexer": "ipython3",
      "version": "3.13.1"
    }
  },
  "nbformat": 4,
  "nbformat_minor": 5
}
