{
  "cells": [
    {
      "cell_type": "markdown",
      "id": "0da4859b-c76c-4d38-931a-68d4c67d5fc3",
      "metadata": {
        "tags": []
      },
      "source": [
        "<img src=\"https://balloon.tam.ch/share/1315e025c077ca37d3f521b50debe367\" alt=\"Clustering\" />\n",
        "\n",
        "# Notebook 4: Kategorien entdecken mit dem $k$-Means-Algorithmus\n",
        "\n",
        "In diesem Notebook wenden wir den $k$-Means-Algorithmus auf einen Datensatz eines (fiktiven) Online-Shops an. Er enthält das Einkommen (engl. _income_) und einen Score für die Ausgaben (engl. _spending_, mit Werten von _1 wenig_ bis _100 viel_) von Kundinnen und Kunden.\n",
        "\n",
        "Zunächst importieren wir die Programmbibliotheken `pandas` und `matplotlib`. \n",
        "\n",
        "<b>Neu dazu kommt die Klasse `KMeans` aus der Programmbibliothek scikit-learn. Diese verwenden wir für den $k$-Means-Algorithmus.</b>"
      ]
    },
    {
      "cell_type": "code",
      "execution_count": 2,
      "id": "b9d6f4d4-ca3b-4802-9ab5-eb8729811d6a",
      "metadata": {
        "colab": {},
        "colab_type": "code",
        "id": "yUXGcC4KLmcL"
      },
      "outputs": [],
      "source": [
        "import matplotlib.pyplot as plt\n",
        "import pandas as pd\n",
        "from sklearn.cluster import KMeans"
      ]
    },
    {
      "cell_type": "markdown",
      "id": "71044067-543d-4fe8-8eb6-0089c78a1760",
      "metadata": {
        "colab_type": "text",
        "id": "5LciKOr8Lo5O"
      },
      "source": [
        "<div class=\"alert alert-box alert-success\">\n",
        "    \n",
        "#### Aufgabe 1: Datensatz einlesen\n",
        "\n",
        "Erstellen Sie eine Variable mit dem Namen `customers`, indem Sie mit pandas die Datei `customers.csv` einlesen. Überprüfen Sie mit `head()`, ob das Einlesen geklappt hat.\n",
        "\n",
        "</div>"
      ]
    },
    {
      "cell_type": "code",
      "execution_count": 11,
      "id": "65583db1-2d6f-406c-ab44-27c756325ed8",
      "metadata": {
        "colab": {},
        "colab_type": "code",
        "id": "9RlmPzZGLtGi",
        "trusted": true
      },
      "outputs": [
        {
          "data": {
            "text/html": [
              "<div>\n",
              "<style scoped>\n",
              "    .dataframe tbody tr th:only-of-type {\n",
              "        vertical-align: middle;\n",
              "    }\n",
              "\n",
              "    .dataframe tbody tr th {\n",
              "        vertical-align: top;\n",
              "    }\n",
              "\n",
              "    .dataframe thead th {\n",
              "        text-align: right;\n",
              "    }\n",
              "</style>\n",
              "<table border=\"1\" class=\"dataframe\">\n",
              "  <thead>\n",
              "    <tr style=\"text-align: right;\">\n",
              "      <th></th>\n",
              "      <th>customerID</th>\n",
              "      <th>gender</th>\n",
              "      <th>age</th>\n",
              "      <th>income</th>\n",
              "      <th>spending</th>\n",
              "    </tr>\n",
              "  </thead>\n",
              "  <tbody>\n",
              "    <tr>\n",
              "      <th>0</th>\n",
              "      <td>1</td>\n",
              "      <td>Male</td>\n",
              "      <td>19</td>\n",
              "      <td>15</td>\n",
              "      <td>39</td>\n",
              "    </tr>\n",
              "    <tr>\n",
              "      <th>1</th>\n",
              "      <td>2</td>\n",
              "      <td>Male</td>\n",
              "      <td>21</td>\n",
              "      <td>15</td>\n",
              "      <td>81</td>\n",
              "    </tr>\n",
              "    <tr>\n",
              "      <th>2</th>\n",
              "      <td>3</td>\n",
              "      <td>Female</td>\n",
              "      <td>20</td>\n",
              "      <td>16</td>\n",
              "      <td>6</td>\n",
              "    </tr>\n",
              "    <tr>\n",
              "      <th>3</th>\n",
              "      <td>4</td>\n",
              "      <td>Female</td>\n",
              "      <td>23</td>\n",
              "      <td>16</td>\n",
              "      <td>77</td>\n",
              "    </tr>\n",
              "    <tr>\n",
              "      <th>4</th>\n",
              "      <td>5</td>\n",
              "      <td>Female</td>\n",
              "      <td>31</td>\n",
              "      <td>17</td>\n",
              "      <td>40</td>\n",
              "    </tr>\n",
              "  </tbody>\n",
              "</table>\n",
              "</div>"
            ],
            "text/plain": [
              "   customerID  gender  age  income  spending\n",
              "0           1    Male   19      15        39\n",
              "1           2    Male   21      15        81\n",
              "2           3  Female   20      16         6\n",
              "3           4  Female   23      16        77\n",
              "4           5  Female   31      17        40"
            ]
          },
          "execution_count": 11,
          "metadata": {},
          "output_type": "execute_result"
        }
      ],
      "source": [
        "# Ihr Code hier\n",
        "data = pd.read_csv(\"./datasets/customers.csv\")\n",
        "data.head()"
      ]
    },
    {
      "cell_type": "markdown",
      "id": "e0d21a35-9518-4e4d-a29e-62a04d20cd1c",
      "metadata": {},
      "source": [
        "Da wir uns nur für das Einkommen und die Ausgaben interessieren, können wir die restlichen Spalten aus dem Datensatz entfernen. Dazu selektieren wir in Customers die Spalten, die wir behalten möchten, und weisen das Resultat der Variablen `customers` zu. Das ursprüngliche DataFrame wird dadurch überschrieben.\n",
        "```python\n",
        "customers = customers[['spalte1', 'spalte2']]\n",
        "``` "
      ]
    },
    {
      "cell_type": "markdown",
      "id": "bf78ce18-83d5-43cf-a3b1-488b2be48a1f",
      "metadata": {
        "colab_type": "text",
        "id": "5LciKOr8Lo5O"
      },
      "source": [
        "<div class=\"alert alert-box alert-success\">\n",
        "    \n",
        "#### Aufgabe 2: Datensatz reduzieren\n",
        "\n",
        "**a)** Löschen Sie alle Spalten aus dem Dataframe `customers` bis auf `income` und `spending` und kontrollieren Sie anschliessend mit `customers.head()`, ob das Dataframe nur noch die oben genannten zwei Spalten beinhaltet.\n",
        "\n",
        "**b)** Überprüfen Sie mit einem Streudiagramm, ob in den Streupunkten Cluster erkennbar sind. (Bei mehr als 3 Dimensionen ist dieser Schritt nicht mehr so einfach durchführbar).\n",
        "\n",
        "</div>"
      ]
    },
    {
      "cell_type": "code",
      "execution_count": null,
      "id": "5a5f7739-ef84-4db7-9842-a42173a6e0f4",
      "metadata": {
        "trusted": true
      },
      "outputs": [
        {
          "data": {
            "text/html": [
              "<div>\n",
              "<style scoped>\n",
              "    .dataframe tbody tr th:only-of-type {\n",
              "        vertical-align: middle;\n",
              "    }\n",
              "\n",
              "    .dataframe tbody tr th {\n",
              "        vertical-align: top;\n",
              "    }\n",
              "\n",
              "    .dataframe thead th {\n",
              "        text-align: right;\n",
              "    }\n",
              "</style>\n",
              "<table border=\"1\" class=\"dataframe\">\n",
              "  <thead>\n",
              "    <tr style=\"text-align: right;\">\n",
              "      <th></th>\n",
              "      <th>income</th>\n",
              "      <th>spending</th>\n",
              "    </tr>\n",
              "  </thead>\n",
              "  <tbody>\n",
              "    <tr>\n",
              "      <th>0</th>\n",
              "      <td>15</td>\n",
              "      <td>39</td>\n",
              "    </tr>\n",
              "    <tr>\n",
              "      <th>1</th>\n",
              "      <td>15</td>\n",
              "      <td>81</td>\n",
              "    </tr>\n",
              "    <tr>\n",
              "      <th>2</th>\n",
              "      <td>16</td>\n",
              "      <td>6</td>\n",
              "    </tr>\n",
              "    <tr>\n",
              "      <th>3</th>\n",
              "      <td>16</td>\n",
              "      <td>77</td>\n",
              "    </tr>\n",
              "    <tr>\n",
              "      <th>4</th>\n",
              "      <td>17</td>\n",
              "      <td>40</td>\n",
              "    </tr>\n",
              "  </tbody>\n",
              "</table>\n",
              "</div>"
            ],
            "text/plain": [
              "   income  spending\n",
              "0      15        39\n",
              "1      15        81\n",
              "2      16         6\n",
              "3      16        77\n",
              "4      17        40"
            ]
          },
          "execution_count": 12,
          "metadata": {},
          "output_type": "execute_result"
        }
      ],
      "source": [
        "# Ihr Code hier\n",
        "customers = data[[\"income\", \"spending\"]]\n",
        "customers.head()"
      ]
    },
    {
      "cell_type": "code",
      "execution_count": 13,
      "id": "e53b0906",
      "metadata": {},
      "outputs": [
        {
          "data": {
            "text/plain": [
              "<Axes: xlabel='income', ylabel='spending'>"
            ]
          },
          "execution_count": 13,
          "metadata": {},
          "output_type": "execute_result"
        },
        {
          "data": {
            "image/png": "[encoded data removed]",
            "text/plain": [
              "<Figure size 640x480 with 1 Axes>"
            ]
          },
          "metadata": {},
          "output_type": "display_data"
        }
      ],
      "source": [
        "customers.plot.scatter(x=\"income\", y=\"spending\")"
      ]
    },
    {
      "cell_type": "markdown",
      "id": "65666bb0-f332-424b-8830-f30cea42fa59",
      "metadata": {},
      "source": [
        "Als Vorbereitung für den $k$-Means Algorithmus müssen wir einen Wert für $k$, die Anzahl Cluster, definieren. Wir starten mit $k$=2 :"
      ]
    },
    {
      "cell_type": "code",
      "execution_count": 14,
      "id": "d7ac4151-e048-4040-a62e-f95c634c506f",
      "metadata": {},
      "outputs": [],
      "source": [
        "k=2"
      ]
    },
    {
      "cell_type": "markdown",
      "id": "9ae86fd1-4588-40e7-8fc2-a87a30e49385",
      "metadata": {},
      "source": [
        "Die restlichen Schritte des $k$-Means-Algorithmus werden mit dem Objekt `KMeans` der Python-Bibliothek `sklearn` ausgeführt, die wir weiter oben importiert haben. Beim Aufruf müssen wir die folgenden Schlüsselwort-Argumente übergeben:\n",
        "\n",
        "* `n_clusters`: Die Anzahl Clusters $k$\n",
        "* `random_state`: Eine beliebige Zahl zur Initialisierung des zufälligen Wahl der Anfangs-Schwerpunkte. Der genaue Wert ist nicht entscheidend. Dadurch, dass wir einen bestimmten Wert setzen, können wir den Algorithmus mehrmals ausführen und immer die gleichen Resultate dabei erzielen. Dieses Prinzip kennen wir bereits aus dem `seed()`-Befehl aus der `random` Bibliothek.\n",
        "* `n_init` : Da eine ungünstige Wahl der anfänglichen Schwerpunkte zu einem schlechten Ergebnis führen kann, ist `KMeans` so programmiert, dass es den Algorithmus mehrmals mit verschiedenen Anfangs-Schwerpunkten ausführt und das beste der dabei entstandenen Clusterings behält. Ein üblicher Wert für diesen Parameter wäre z.B. `10`."
      ]
    },
    {
      "cell_type": "markdown",
      "id": "7245096d-64ef-4406-8743-9f68dfdafa60",
      "metadata": {
        "colab_type": "text",
        "id": "nWC2EWp2Lx5G"
      },
      "source": [
        "<div class=\"alert alert-box alert-success\">\n",
        "\n",
        "#### Aufgabe 3: Den $k$-Means-Algorithmus ausführen\n",
        "\n",
        "**a)** Erstellen Sie eine Variable mit dem Namen `kmeans` und weisen Sie ihr `KMeans(...)` zu, wobei die oben erwähnten Parameter so gesetzt werden, dass die Wahl der Anfangsschwerpunkte zufällig festgelegt wird und $k$ (momentan 2) Clusters erstellt werden.\n",
        "\n",
        "**b)** Um den $k$-Means-Algorithmus auszuführen, rufen wir auf der Instanz (Objekt) `kmeans` die Methode `fit()` auf und übergeben ihr als Argument den zu gruppierenden Datensatz. Rufen Sie diesen Befehl so auf, dass der Datensatz `customers` gruppiert wird.\n",
        "\n",
        "</div>"
      ]
    },
    {
      "cell_type": "code",
      "execution_count": 17,
      "id": "b0689a68-4d0d-4768-9570-e7c1ceecc899",
      "metadata": {
        "trusted": true
      },
      "outputs": [
        {
          "data": {
            "text/html": [
              "<style>#sk-container-id-3 {\n",
              "  /* Definition of color scheme common for light and dark mode */\n",
              "  --sklearn-color-text: #000;\n",
              "  --sklearn-color-text-muted: #666;\n",
              "  --sklearn-color-line: gray;\n",
              "  /* Definition of color scheme for unfitted estimators */\n",
              "  --sklearn-color-unfitted-level-0: #fff5e6;\n",
              "  --sklearn-color-unfitted-level-1: #f6e4d2;\n",
              "  --sklearn-color-unfitted-level-2: #ffe0b3;\n",
              "  --sklearn-color-unfitted-level-3: chocolate;\n",
              "  /* Definition of color scheme for fitted estimators */\n",
              "  --sklearn-color-fitted-level-0: #f0f8ff;\n",
              "  --sklearn-color-fitted-level-1: #d4ebff;\n",
              "  --sklearn-color-fitted-level-2: #b3dbfd;\n",
              "  --sklearn-color-fitted-level-3: cornflowerblue;\n",
              "\n",
              "  /* Specific color for light theme */\n",
              "  --sklearn-color-text-on-default-background: var(--sg-text-color, var(--theme-code-foreground, var(--jp-content-font-color1, black)));\n",
              "  --sklearn-color-background: var(--sg-background-color, var(--theme-background, var(--jp-layout-color0, white)));\n",
              "  --sklearn-color-border-box: var(--sg-text-color, var(--theme-code-foreground, var(--jp-content-font-color1, black)));\n",
              "  --sklearn-color-icon: #696969;\n",
              "\n",
              "  @media (prefers-color-scheme: dark) {\n",
              "    /* Redefinition of color scheme for dark theme */\n",
              "    --sklearn-color-text-on-default-background: var(--sg-text-color, var(--theme-code-foreground, var(--jp-content-font-color1, white)));\n",
              "    --sklearn-color-background: var(--sg-background-color, var(--theme-background, var(--jp-layout-color0, #111)));\n",
              "    --sklearn-color-border-box: var(--sg-text-color, var(--theme-code-foreground, var(--jp-content-font-color1, white)));\n",
              "    --sklearn-color-icon: #878787;\n",
              "  }\n",
              "}\n",
              "\n",
              "#sk-container-id-3 {\n",
              "  color: var(--sklearn-color-text);\n",
              "}\n",
              "\n",
              "#sk-container-id-3 pre {\n",
              "  padding: 0;\n",
              "}\n",
              "\n",
              "#sk-container-id-3 input.sk-hidden--visually {\n",
              "  border: 0;\n",
              "  clip: rect(1px 1px 1px 1px);\n",
              "  clip: rect(1px, 1px, 1px, 1px);\n",
              "  height: 1px;\n",
              "  margin: -1px;\n",
              "  overflow: hidden;\n",
              "  padding: 0;\n",
              "  position: absolute;\n",
              "  width: 1px;\n",
              "}\n",
              "\n",
              "#sk-container-id-3 div.sk-dashed-wrapped {\n",
              "  border: 1px dashed var(--sklearn-color-line);\n",
              "  margin: 0 0.4em 0.5em 0.4em;\n",
              "  box-sizing: border-box;\n",
              "  padding-bottom: 0.4em;\n",
              "  background-color: var(--sklearn-color-background);\n",
              "}\n",
              "\n",
              "#sk-container-id-3 div.sk-container {\n",
              "  /* jupyter's `normalize.less` sets `[hidden] { display: none; }`\n",
              "     but bootstrap.min.css set `[hidden] { display: none !important; }`\n",
              "     so we also need the `!important` here to be able to override the\n",
              "     default hidden behavior on the sphinx rendered scikit-learn.org.\n",
              "     See: https://github.com/scikit-learn/scikit-learn/issues/21755 */\n",
              "  display: inline-block !important;\n",
              "  position: relative;\n",
              "}\n",
              "\n",
              "#sk-container-id-3 div.sk-text-repr-fallback {\n",
              "  display: none;\n",
              "}\n",
              "\n",
              "div.sk-parallel-item,\n",
              "div.sk-serial,\n",
              "div.sk-item {\n",
              "  /* draw centered vertical line to link estimators */\n",
              "  background-image: linear-gradient(var(--sklearn-color-text-on-default-background), var(--sklearn-color-text-on-default-background));\n",
              "  background-size: 2px 100%;\n",
              "  background-repeat: no-repeat;\n",
              "  background-position: center center;\n",
              "}\n",
              "\n",
              "/* Parallel-specific style estimator block */\n",
              "\n",
              "#sk-container-id-3 div.sk-parallel-item::after {\n",
              "  content: \"\";\n",
              "  width: 100%;\n",
              "  border-bottom: 2px solid var(--sklearn-color-text-on-default-background);\n",
              "  flex-grow: 1;\n",
              "}\n",
              "\n",
              "#sk-container-id-3 div.sk-parallel {\n",
              "  display: flex;\n",
              "  align-items: stretch;\n",
              "  justify-content: center;\n",
              "  background-color: var(--sklearn-color-background);\n",
              "  position: relative;\n",
              "}\n",
              "\n",
              "#sk-container-id-3 div.sk-parallel-item {\n",
              "  display: flex;\n",
              "  flex-direction: column;\n",
              "}\n",
              "\n",
              "#sk-container-id-3 div.sk-parallel-item:first-child::after {\n",
              "  align-self: flex-end;\n",
              "  width: 50%;\n",
              "}\n",
              "\n",
              "#sk-container-id-3 div.sk-parallel-item:last-child::after {\n",
              "  align-self: flex-start;\n",
              "  width: 50%;\n",
              "}\n",
              "\n",
              "#sk-container-id-3 div.sk-parallel-item:only-child::after {\n",
              "  width: 0;\n",
              "}\n",
              "\n",
              "/* Serial-specific style estimator block */\n",
              "\n",
              "#sk-container-id-3 div.sk-serial {\n",
              "  display: flex;\n",
              "  flex-direction: column;\n",
              "  align-items: center;\n",
              "  background-color: var(--sklearn-color-background);\n",
              "  padding-right: 1em;\n",
              "  padding-left: 1em;\n",
              "}\n",
              "\n",
              "\n",
              "/* Toggleable style: style used for estimator/Pipeline/ColumnTransformer box that is\n",
              "clickable and can be expanded/collapsed.\n",
              "- Pipeline and ColumnTransformer use this feature and define the default style\n",
              "- Estimators will overwrite some part of the style using the `sk-estimator` class\n",
              "*/\n",
              "\n",
              "/* Pipeline and ColumnTransformer style (default) */\n",
              "\n",
              "#sk-container-id-3 div.sk-toggleable {\n",
              "  /* Default theme specific background. It is overwritten whether we have a\n",
              "  specific estimator or a Pipeline/ColumnTransformer */\n",
              "  background-color: var(--sklearn-color-background);\n",
              "}\n",
              "\n",
              "/* Toggleable label */\n",
              "#sk-container-id-3 label.sk-toggleable__label {\n",
              "  cursor: pointer;\n",
              "  display: flex;\n",
              "  width: 100%;\n",
              "  margin-bottom: 0;\n",
              "  padding: 0.5em;\n",
              "  box-sizing: border-box;\n",
              "  text-align: center;\n",
              "  align-items: start;\n",
              "  justify-content: space-between;\n",
              "  gap: 0.5em;\n",
              "}\n",
              "\n",
              "#sk-container-id-3 label.sk-toggleable__label .caption {\n",
              "  font-size: 0.6rem;\n",
              "  font-weight: lighter;\n",
              "  color: var(--sklearn-color-text-muted);\n",
              "}\n",
              "\n",
              "#sk-container-id-3 label.sk-toggleable__label-arrow:before {\n",
              "  /* Arrow on the left of the label */\n",
              "  content: \"▸\";\n",
              "  float: left;\n",
              "  margin-right: 0.25em;\n",
              "  color: var(--sklearn-color-icon);\n",
              "}\n",
              "\n",
              "#sk-container-id-3 label.sk-toggleable__label-arrow:hover:before {\n",
              "  color: var(--sklearn-color-text);\n",
              "}\n",
              "\n",
              "/* Toggleable content - dropdown */\n",
              "\n",
              "#sk-container-id-3 div.sk-toggleable__content {\n",
              "  max-height: 0;\n",
              "  max-width: 0;\n",
              "  overflow: hidden;\n",
              "  text-align: left;\n",
              "  /* unfitted */\n",
              "  background-color: var(--sklearn-color-unfitted-level-0);\n",
              "}\n",
              "\n",
              "#sk-container-id-3 div.sk-toggleable__content.fitted {\n",
              "  /* fitted */\n",
              "  background-color: var(--sklearn-color-fitted-level-0);\n",
              "}\n",
              "\n",
              "#sk-container-id-3 div.sk-toggleable__content pre {\n",
              "  margin: 0.2em;\n",
              "  border-radius: 0.25em;\n",
              "  color: var(--sklearn-color-text);\n",
              "  /* unfitted */\n",
              "  background-color: var(--sklearn-color-unfitted-level-0);\n",
              "}\n",
              "\n",
              "#sk-container-id-3 div.sk-toggleable__content.fitted pre {\n",
              "  /* unfitted */\n",
              "  background-color: var(--sklearn-color-fitted-level-0);\n",
              "}\n",
              "\n",
              "#sk-container-id-3 input.sk-toggleable__control:checked~div.sk-toggleable__content {\n",
              "  /* Expand drop-down */\n",
              "  max-height: 200px;\n",
              "  max-width: 100%;\n",
              "  overflow: auto;\n",
              "}\n",
              "\n",
              "#sk-container-id-3 input.sk-toggleable__control:checked~label.sk-toggleable__label-arrow:before {\n",
              "  content: \"▾\";\n",
              "}\n",
              "\n",
              "/* Pipeline/ColumnTransformer-specific style */\n",
              "\n",
              "#sk-container-id-3 div.sk-label input.sk-toggleable__control:checked~label.sk-toggleable__label {\n",
              "  color: var(--sklearn-color-text);\n",
              "  background-color: var(--sklearn-color-unfitted-level-2);\n",
              "}\n",
              "\n",
              "#sk-container-id-3 div.sk-label.fitted input.sk-toggleable__control:checked~label.sk-toggleable__label {\n",
              "  background-color: var(--sklearn-color-fitted-level-2);\n",
              "}\n",
              "\n",
              "/* Estimator-specific style */\n",
              "\n",
              "/* Colorize estimator box */\n",
              "#sk-container-id-3 div.sk-estimator input.sk-toggleable__control:checked~label.sk-toggleable__label {\n",
              "  /* unfitted */\n",
              "  background-color: var(--sklearn-color-unfitted-level-2);\n",
              "}\n",
              "\n",
              "#sk-container-id-3 div.sk-estimator.fitted input.sk-toggleable__control:checked~label.sk-toggleable__label {\n",
              "  /* fitted */\n",
              "  background-color: var(--sklearn-color-fitted-level-2);\n",
              "}\n",
              "\n",
              "#sk-container-id-3 div.sk-label label.sk-toggleable__label,\n",
              "#sk-container-id-3 div.sk-label label {\n",
              "  /* The background is the default theme color */\n",
              "  color: var(--sklearn-color-text-on-default-background);\n",
              "}\n",
              "\n",
              "/* On hover, darken the color of the background */\n",
              "#sk-container-id-3 div.sk-label:hover label.sk-toggleable__label {\n",
              "  color: var(--sklearn-color-text);\n",
              "  background-color: var(--sklearn-color-unfitted-level-2);\n",
              "}\n",
              "\n",
              "/* Label box, darken color on hover, fitted */\n",
              "#sk-container-id-3 div.sk-label.fitted:hover label.sk-toggleable__label.fitted {\n",
              "  color: var(--sklearn-color-text);\n",
              "  background-color: var(--sklearn-color-fitted-level-2);\n",
              "}\n",
              "\n",
              "/* Estimator label */\n",
              "\n",
              "#sk-container-id-3 div.sk-label label {\n",
              "  font-family: monospace;\n",
              "  font-weight: bold;\n",
              "  display: inline-block;\n",
              "  line-height: 1.2em;\n",
              "}\n",
              "\n",
              "#sk-container-id-3 div.sk-label-container {\n",
              "  text-align: center;\n",
              "}\n",
              "\n",
              "/* Estimator-specific */\n",
              "#sk-container-id-3 div.sk-estimator {\n",
              "  font-family: monospace;\n",
              "  border: 1px dotted var(--sklearn-color-border-box);\n",
              "  border-radius: 0.25em;\n",
              "  box-sizing: border-box;\n",
              "  margin-bottom: 0.5em;\n",
              "  /* unfitted */\n",
              "  background-color: var(--sklearn-color-unfitted-level-0);\n",
              "}\n",
              "\n",
              "#sk-container-id-3 div.sk-estimator.fitted {\n",
              "  /* fitted */\n",
              "  background-color: var(--sklearn-color-fitted-level-0);\n",
              "}\n",
              "\n",
              "/* on hover */\n",
              "#sk-container-id-3 div.sk-estimator:hover {\n",
              "  /* unfitted */\n",
              "  background-color: var(--sklearn-color-unfitted-level-2);\n",
              "}\n",
              "\n",
              "#sk-container-id-3 div.sk-estimator.fitted:hover {\n",
              "  /* fitted */\n",
              "  background-color: var(--sklearn-color-fitted-level-2);\n",
              "}\n",
              "\n",
              "/* Specification for estimator info (e.g. \"i\" and \"?\") */\n",
              "\n",
              "/* Common style for \"i\" and \"?\" */\n",
              "\n",
              ".sk-estimator-doc-link,\n",
              "a:link.sk-estimator-doc-link,\n",
              "a:visited.sk-estimator-doc-link {\n",
              "  float: right;\n",
              "  font-size: smaller;\n",
              "  line-height: 1em;\n",
              "  font-family: monospace;\n",
              "  background-color: var(--sklearn-color-background);\n",
              "  border-radius: 1em;\n",
              "  height: 1em;\n",
              "  width: 1em;\n",
              "  text-decoration: none !important;\n",
              "  margin-left: 0.5em;\n",
              "  text-align: center;\n",
              "  /* unfitted */\n",
              "  border: var(--sklearn-color-unfitted-level-1) 1pt solid;\n",
              "  color: var(--sklearn-color-unfitted-level-1);\n",
              "}\n",
              "\n",
              ".sk-estimator-doc-link.fitted,\n",
              "a:link.sk-estimator-doc-link.fitted,\n",
              "a:visited.sk-estimator-doc-link.fitted {\n",
              "  /* fitted */\n",
              "  border: var(--sklearn-color-fitted-level-1) 1pt solid;\n",
              "  color: var(--sklearn-color-fitted-level-1);\n",
              "}\n",
              "\n",
              "/* On hover */\n",
              "div.sk-estimator:hover .sk-estimator-doc-link:hover,\n",
              ".sk-estimator-doc-link:hover,\n",
              "div.sk-label-container:hover .sk-estimator-doc-link:hover,\n",
              ".sk-estimator-doc-link:hover {\n",
              "  /* unfitted */\n",
              "  background-color: var(--sklearn-color-unfitted-level-3);\n",
              "  color: var(--sklearn-color-background);\n",
              "  text-decoration: none;\n",
              "}\n",
              "\n",
              "div.sk-estimator.fitted:hover .sk-estimator-doc-link.fitted:hover,\n",
              ".sk-estimator-doc-link.fitted:hover,\n",
              "div.sk-label-container:hover .sk-estimator-doc-link.fitted:hover,\n",
              ".sk-estimator-doc-link.fitted:hover {\n",
              "  /* fitted */\n",
              "  background-color: var(--sklearn-color-fitted-level-3);\n",
              "  color: var(--sklearn-color-background);\n",
              "  text-decoration: none;\n",
              "}\n",
              "\n",
              "/* Span, style for the box shown on hovering the info icon */\n",
              ".sk-estimator-doc-link span {\n",
              "  display: none;\n",
              "  z-index: 9999;\n",
              "  position: relative;\n",
              "  font-weight: normal;\n",
              "  right: .2ex;\n",
              "  padding: .5ex;\n",
              "  margin: .5ex;\n",
              "  width: min-content;\n",
              "  min-width: 20ex;\n",
              "  max-width: 50ex;\n",
              "  color: var(--sklearn-color-text);\n",
              "  box-shadow: 2pt 2pt 4pt #999;\n",
              "  /* unfitted */\n",
              "  background: var(--sklearn-color-unfitted-level-0);\n",
              "  border: .5pt solid var(--sklearn-color-unfitted-level-3);\n",
              "}\n",
              "\n",
              ".sk-estimator-doc-link.fitted span {\n",
              "  /* fitted */\n",
              "  background: var(--sklearn-color-fitted-level-0);\n",
              "  border: var(--sklearn-color-fitted-level-3);\n",
              "}\n",
              "\n",
              ".sk-estimator-doc-link:hover span {\n",
              "  display: block;\n",
              "}\n",
              "\n",
              "/* \"?\"-specific style due to the `<a>` HTML tag */\n",
              "\n",
              "#sk-container-id-3 a.estimator_doc_link {\n",
              "  float: right;\n",
              "  font-size: 1rem;\n",
              "  line-height: 1em;\n",
              "  font-family: monospace;\n",
              "  background-color: var(--sklearn-color-background);\n",
              "  border-radius: 1rem;\n",
              "  height: 1rem;\n",
              "  width: 1rem;\n",
              "  text-decoration: none;\n",
              "  /* unfitted */\n",
              "  color: var(--sklearn-color-unfitted-level-1);\n",
              "  border: var(--sklearn-color-unfitted-level-1) 1pt solid;\n",
              "}\n",
              "\n",
              "#sk-container-id-3 a.estimator_doc_link.fitted {\n",
              "  /* fitted */\n",
              "  border: var(--sklearn-color-fitted-level-1) 1pt solid;\n",
              "  color: var(--sklearn-color-fitted-level-1);\n",
              "}\n",
              "\n",
              "/* On hover */\n",
              "#sk-container-id-3 a.estimator_doc_link:hover {\n",
              "  /* unfitted */\n",
              "  background-color: var(--sklearn-color-unfitted-level-3);\n",
              "  color: var(--sklearn-color-background);\n",
              "  text-decoration: none;\n",
              "}\n",
              "\n",
              "#sk-container-id-3 a.estimator_doc_link.fitted:hover {\n",
              "  /* fitted */\n",
              "  background-color: var(--sklearn-color-fitted-level-3);\n",
              "}\n",
              "</style><div id=\"sk-container-id-3\" class=\"sk-top-container\"><div class=\"sk-text-repr-fallback\"><pre>KMeans(n_clusters=2, n_init=10, random_state=12)</pre><b>In a Jupyter environment, please rerun this cell to show the HTML representation or trust the notebook. <br />On GitHub, the HTML representation is unable to render, please try loading this page with nbviewer.org.</b></div><div class=\"sk-container\" hidden><div class=\"sk-item\"><div class=\"sk-estimator fitted sk-toggleable\"><input class=\"sk-toggleable__control sk-hidden--visually\" id=\"sk-estimator-id-3\" type=\"checkbox\" checked><label for=\"sk-estimator-id-3\" class=\"sk-toggleable__label fitted sk-toggleable__label-arrow\"><div><div>KMeans</div></div><div><a class=\"sk-estimator-doc-link fitted\" rel=\"noreferrer\" target=\"_blank\" href=\"https://scikit-learn.org/1.6/modules/generated/sklearn.cluster.KMeans.html\">?<span>Documentation for KMeans</span></a><span class=\"sk-estimator-doc-link fitted\">i<span>Fitted</span></span></div></label><div class=\"sk-toggleable__content fitted\"><pre>KMeans(n_clusters=2, n_init=10, random_state=12)</pre></div> </div></div></div></div>"
            ],
            "text/plain": [
              "KMeans(n_clusters=2, n_init=10, random_state=12)"
            ]
          },
          "execution_count": 17,
          "metadata": {},
          "output_type": "execute_result"
        }
      ],
      "source": [
        "# a) K-means vorbereiten\n",
        "kmeans = KMeans(n_clusters=k, random_state=12, n_init=10)\n",
        "\n",
        "# b) K-means auf customers anwenden\n",
        "kmeans.fit(customers)"
      ]
    },
    {
      "cell_type": "markdown",
      "id": "cd2fd51e-a662-41d1-9c2e-bc816fe51f8e",
      "metadata": {},
      "source": [
        "Nach der Ausführung des Befehls `fit()` hat der Algorithmus $k$ (d.h. zwei) Schwerpunkte definiert und jeden Datenpunkt seinem nächstgelegenen Schwerpunkt zugewiesen. Anschliessend hat er den **Within-Cluster sum of squares** (WCSS) Wert berechnet.\n",
        "\n",
        "Diese Informationen können wir wie folgt auslesen:"
      ]
    },
    {
      "cell_type": "markdown",
      "id": "34047368-267c-44a8-8f27-02de168b0a30",
      "metadata": {},
      "source": [
        "#### Attribut 1: `cluster_centers_`\n",
        "\n",
        "Im Attribut `cluster_centers_` findet man die Koordinaten der Cluster-Schwerpunkte. Jede innere Liste enthält die $x$- und $y$-Koordinate eines Schwerpunkts. Z.B. könnte für 3 Schwerpunkte das Ergebnis wie folgt aussehen :\n",
        "\n",
        "```python\n",
        "[[13, 200],  # <-- Schwerpunkt von Cluster 1\n",
        " [323, 393], # <-- Schwerpunkt von Cluster 2\n",
        " [34, 527]   # <-- Schwerpunkt von Cluster 3\n",
        "  # usw.\n",
        "]\n",
        "```"
      ]
    },
    {
      "cell_type": "markdown",
      "id": "52d340f1-8f5b-44d9-8f3c-24e47ed803db",
      "metadata": {},
      "source": [
        "#### Attribut 2: `inertia_`\n",
        "\n",
        "Im Attribut `inertia_` (englisch *inertia* = Trägheit) findet man zudem den **WCSS-Wert** des eben durchgeführten Clusterings, also die Summe aller quadrierten Abstände zwischen den Datenpunkten und ihren Schwerpunkten. Je kleiner dieser Wert ist, desto kompakter sind die Clusters."
      ]
    },
    {
      "cell_type": "markdown",
      "id": "cdac7e1e-b9ed-47a7-a030-846e6a4f3d3c",
      "metadata": {},
      "source": [
        "<div class=\"alert alert-box alert-success\">\n",
        "\n",
        "#### Aufgabe 4: Schwerpunkte und WCSS auslesen\n",
        "\n",
        "Lesen Sie aus `kmeans` die Koordinaten und den WCSS-Wert aus und tragen Sie diese unten ein.\n",
        "</div>"
      ]
    },
    {
      "cell_type": "code",
      "execution_count": 19,
      "id": "32147d8f-f1a4-4d43-a6ce-03ad087d1532",
      "metadata": {
        "trusted": true
      },
      "outputs": [
        {
          "data": {
            "text/plain": [
              "array([[79.6       , 50.12727273],\n",
              "       [37.28888889, 50.28888889]])"
            ]
          },
          "execution_count": 19,
          "metadata": {},
          "output_type": "execute_result"
        }
      ],
      "source": [
        "# Koordinaten der Clusterschwerpunkte\n",
        "centers = kmeans.cluster_centers_\n",
        "\n",
        "centers"
      ]
    },
    {
      "cell_type": "code",
      "execution_count": 20,
      "id": "6c3f5acb-88a8-41c9-8b9a-a512ed31741e",
      "metadata": {
        "trusted": true
      },
      "outputs": [
        {
          "data": {
            "text/plain": [
              "181363.59595959593"
            ]
          },
          "execution_count": 20,
          "metadata": {},
          "output_type": "execute_result"
        }
      ],
      "source": [
        "# WCSS-Wert\n",
        "wcss = kmeans.inertia_\n",
        "\n",
        "wcss"
      ]
    },
    {
      "cell_type": "markdown",
      "id": "bae846b0-6877-49d4-aaf7-676f62fb5ac8",
      "metadata": {},
      "source": [
        "**Antwort**:\n",
        "* `(x,y)`-Koordinaten von Schwerpunkt 1 :\n",
        "* `(x,y)`-Koordinaten von Schwerpunkt 2 : \n",
        "* WCSS-Wert : "
      ]
    },
    {
      "cell_type": "markdown",
      "id": "539800ff-f9dd-4a2d-8b57-62f93d5868d0",
      "metadata": {},
      "source": [
        "Eine naheliegende Frage ist nun, ob wir wir mit $k=3$ ein besseres Clustering erzielen können. Oder anders gefragt: Wird der Wert von WCSS _kleiner_, wenn wir den Wert von $k$ von 2 auf 3 erhöhen?"
      ]
    },
    {
      "cell_type": "markdown",
      "id": "faaae551-3530-4f4c-909d-e420125904f7",
      "metadata": {},
      "source": [
        "<div class=\"alert alert-box alert-success\">\n",
        "\n",
        "#### Aufgabe 5: Clustering mit $k=3$\n",
        "\n",
        "**a)** Setzen Sie $k=3$ und führen Sie mit der Variable `kmeans3` den $k$-Means-Algorithmus mit drei Clustern durch.\n",
        "\n",
        "**b)** Führen Sie `kmeans3.fit(customers)` nochmals aus und beurteilen Sie, ob dieses Clustering besser ist als mit $k=2$.\n",
        "\n",
        "</div>"
      ]
    },
    {
      "cell_type": "code",
      "execution_count": 21,
      "id": "bf7e31ef-51c1-4130-86ed-762300a5ab33",
      "metadata": {
        "trusted": true
      },
      "outputs": [
        {
          "data": {
            "text/plain": [
              "106348.37306211118"
            ]
          },
          "execution_count": 21,
          "metadata": {},
          "output_type": "execute_result"
        }
      ],
      "source": [
        "# a) K-means vorbereiten\n",
        "k = 3\n",
        "\n",
        "kmeans3 = KMeans(n_clusters=k, random_state=12, n_init=10)\n",
        "\n",
        "\n",
        "# b) K-means auf customers anwenden\n",
        "kmeans3.fit(customers)\n",
        "\n",
        "kmeans3.inertia_"
      ]
    },
    {
      "cell_type": "markdown",
      "id": "8e501e3c-2b8a-457d-81db-b3d7b0dd8ec4",
      "metadata": {},
      "source": [
        "**Antwort**\n",
        "* Der WCSS-Wert für $k=3$ ist : \n",
        "* Von den zwei Clusters war das für $k=...$ besser (2 oder 3 eintragen) : "
      ]
    },
    {
      "cell_type": "markdown",
      "id": "53073213-7e09-4013-b5e8-a040198ae77f",
      "metadata": {},
      "source": [
        "Es ist nicht erstaunlich, dass eine grössere Anzahl an Cluster einen tieferen WCSS Wert liefert. Den tiefsten WCSS Wert bekommt man sogar, wenn man so viele Cluster definiert, dass jeder Datenpunkt sein eigenes Cluster bildet. So ein Clustering ist allerdings nichtsaussagend. Deswegen fragen wir uns, ab wann es sich nicht mehr lohnt eine grössere Anzahl von Clustern zu definieren, weil die Verbesserungen nur noch marginal werden. Das können wir mit der Ellenbogen-Methode herausfinden."
      ]
    },
    {
      "cell_type": "markdown",
      "id": "beb655f7-c884-46d8-8609-22b6ce36c2d0",
      "metadata": {},
      "source": [
        "### Die Ellenbogen-Methode\n",
        "\n",
        "Um die Ellenbogen-Methode anzuwenden, wenden wir zunächst nacheinenander den $k$-Means-Algorithmus für alle $k$-Werte zwischen 1 und 10 an und speichern nach jedem Durchlauf den $WCSS$-Wert in der Liste `wcss`. "
      ]
    },
    {
      "cell_type": "markdown",
      "id": "706af075-2948-4e52-8db1-62599ee0c183",
      "metadata": {},
      "source": [
        "<div class=\"alert alert-box alert-success\">\n",
        "\n",
        "#### Aufgabe 6: Ellenbogen-Methode anwenden\n",
        "\n",
        "Um die Ellenbogen-Methode anzuwenden, wenden wir zunächst nacheinenander den $k$-Means-Algorithmus für alle $k$-Werte zwischen 1 und 10 an und speichern nach jedem Durchlauf den $WCSS$-Wert in der Liste `wcss`. Implementieren Sie dies mit Hilfe einer for-Schleife.\n",
        "\n",
        "__Tipp__: Mit `li.append(123)` kann man den Wert `123` der Liste `li` hinzufügen.\n",
        "</div>"
      ]
    },
    {
      "cell_type": "code",
      "execution_count": 10,
      "id": "c9a46c3e-b378-4623-852b-98b4b0e207cd",
      "metadata": {
        "trusted": true
      },
      "outputs": [
        {
          "ename": "IndentationError",
          "evalue": "expected an indented block after 'for' statement on line 2 (664257296.py, line 6)",
          "output_type": "error",
          "traceback": [
            "  \u001b[36mCell\u001b[39m\u001b[36m \u001b[39m\u001b[32mIn[10]\u001b[39m\u001b[32m, line 6\u001b[39m\n\u001b[31m    \u001b[39m\u001b[31mwcss\u001b[39m\n    ^\n\u001b[31mIndentationError\u001b[39m\u001b[31m:\u001b[39m expected an indented block after 'for' statement on line 2\n"
          ]
        }
      ],
      "source": [
        "wcss = []\n",
        "for i in range(1, 11):\n",
        "    # Ihr Code hier\n",
        "\n",
        "# WCSS-Wert ausgeben\n",
        "wcss"
      ]
    },
    {
      "cell_type": "markdown",
      "id": "292913ae-06ad-4f54-92a4-66b440ec3811",
      "metadata": {},
      "source": [
        "Nun erstellen wir ein DataFrame `wcssdf` mit den Spalten `k` und `wcss`:"
      ]
    },
    {
      "cell_type": "code",
      "execution_count": null,
      "id": "e73c0834-6c40-4be4-bad8-c83e95b82ac0",
      "metadata": {
        "trusted": true
      },
      "outputs": [],
      "source": [
        "wcssdf =  pd.DataFrame.from_dict({'k': range(1, 11), 'wcss': wcss})\n",
        "wcssdf.head()"
      ]
    },
    {
      "cell_type": "markdown",
      "id": "2331ccc6-aabf-4317-81c9-b6247af1bebc",
      "metadata": {},
      "source": [
        "<div class=\"alert alert-box alert-success\">\n",
        "\n",
        "#### Aufgabe 7: Ellenbogen-Methode anwenden\n",
        "\n",
        "Erstellen Sie ein Liniendiagramm mit den WCSS-Werten von der letzen Aufgabe. Beschriften Sie anschliessend die Achsen und setzen Sie den Titel `\"Die Ellenbogen-Methode\"`.\n",
        "\n",
        "Nützliche matplotlib-Befehle:\n",
        "* `dataframe.plot()`. Beispiel: `tips.plot(x='total_bill', y='tip')`: Ein Liniendiagramm für das Dataframe `tips` mit $x$-Koordinaten aus der Spalte `total_bill` und $y$-Koordinaten aus der Spalte `tip` erstellen. \n",
        "* `plt.title()`: Den Titel des Diagramms setzen\n",
        "* `plt.xlabel()`: Die $x$-Achse beschriften\n",
        "* `plt.ylabel()`: Die $y$-Achse beschriften\n",
        "* `plt.show()`: Unnötige Ausgaben von Befehlen unterdrücken (am Ende aufrufen)\n",
        "\n",
        "</div>"
      ]
    },
    {
      "cell_type": "code",
      "execution_count": null,
      "id": "536d11c3-a377-48a0-abff-dd6682134018",
      "metadata": {
        "trusted": true
      },
      "outputs": [],
      "source": [
        "# Ihr Code hier"
      ]
    },
    {
      "cell_type": "markdown",
      "id": "ea5e84e7-2fd8-4412-8385-dab1a9e50676",
      "metadata": {},
      "source": [
        "<div class=\"alert alert-box alert-success\">\n",
        "\n",
        "#### Aufgabe 8: Optimale Cluster-Zahl bestimmen\n",
        "\n",
        "Was ist gemäss der Ellenbogen-Methode die optimale Anzahl von Clustern?\n",
        "\n",
        "</div>"
      ]
    },
    {
      "cell_type": "markdown",
      "id": "d8e4c9f9-053e-4f0d-9610-53d82dc96e1e",
      "metadata": {},
      "source": [
        "**Antwort**: Der Knick ist bei diesem $k$-Wert am deutlichsten: "
      ]
    },
    {
      "cell_type": "markdown",
      "id": "86a809c6-1c40-45f6-8313-d469c5d88053",
      "metadata": {
        "colab_type": "text",
        "id": "VgT0mANLL4Nz"
      },
      "source": [
        "## Die Kategorien der Datenpunkte auslesen\n",
        "\n",
        "Jetzt wo wir die optimale Anzahl von Clustern kennen, führen wir nochmals den $k$-Means-Algorithmus mit dem entsprechenden $k$ aus. Um für alle Punkte im Datensatz die entsprechende Kategorie zu bekommen, verwenden wir statt `fit()` die Methode `fit_predict()`. Diese gibt als Rückgabewert eine `ndarray`-Instanz zurück, die gleich viele Elemente hat wie der Datensatz Zeilen. Die Elemente sind natürliche Zahlen zwischen 0 und $k-1$, welche für die $k$ Cluster stehen. Das erste Element im `ndarray` entspricht folglich dem Cluster des ersten Datenpunktes, das zweite Element der Kategorie des zweiten Datenpunktes, usw."
      ]
    },
    {
      "cell_type": "markdown",
      "id": "e6273ac5-7fe8-4da2-97e7-3712a90cc9b1",
      "metadata": {},
      "source": [
        "<div class=\"alert alert-box alert-success\">\n",
        "\n",
        "#### Aufgabe 9: Datenpunkte kategorisieren\n",
        "\n",
        "Führen Sie den $k$-Means-Algorithmus mit der optimalen Anzahl von Clustern aus une ermitteln Sie (mit `fit_predict` statt `fit`) die Kategorien der Datenpunkte. Weisen Sie diese der neuen Spalte `cluster` im DataFrame `customers` zu:\n",
        "\n",
        "`customers['cluster'] = ...`\n",
        "</div>"
      ]
    },
    {
      "cell_type": "code",
      "execution_count": null,
      "id": "907b29bd-9867-422f-be2b-f890bec0af79",
      "metadata": {
        "colab": {},
        "colab_type": "code",
        "id": "cjEfU6ZSMAPl",
        "trusted": true
      },
      "outputs": [],
      "source": [
        "# Ihr Code hier"
      ]
    },
    {
      "cell_type": "markdown",
      "id": "d44d23a5-4eed-4093-af0a-e6f9263f4e6c",
      "metadata": {},
      "source": [
        "Nun können wir die Spalte `cluster` in eine Spalte mit Datentyp `category` umwandeln. Dies ist notwendig, damit wir in der nächsten Aufgabe ein Streudiagramm erstellen können, in dem die Datenpunkte je nach Clusterzugehörigkeit anders eingefärbt sind."
      ]
    },
    {
      "cell_type": "code",
      "execution_count": null,
      "id": "a21e75d5-88e3-4344-b46c-5cd1dfaa962a",
      "metadata": {
        "trusted": true
      },
      "outputs": [],
      "source": [
        "customers['cluster'] = customers['cluster'].astype('category')"
      ]
    },
    {
      "cell_type": "markdown",
      "id": "b5c21573-0168-44fc-b61c-147e03487aeb",
      "metadata": {
        "colab_type": "text",
        "id": "e7YrS1JAMFnm"
      },
      "source": [
        "## Die Cluster visualisieren\n",
        "\n",
        "Da wir nur zwei unabhängige Variablen haben, können wir die Cluster in einem zweidimensionalen Streudiagramm visualisieren. Um die Cluster dabei zu erkennen, können wir den Wert der Spalte `cluster` zur Färbung des jeweiligen Datenpunktes verwenden. Damit bekommen die Datenpunkte im gleichen Cluster die gleiche Farbe."
      ]
    },
    {
      "cell_type": "markdown",
      "id": "ab2ef853-ce9f-4ec8-b13e-b06d97642574",
      "metadata": {},
      "source": [
        "<div class=\"alert alert-box alert-success\">\n",
        "\n",
        "#### Aufgabe 10: Cluster visualisieren\n",
        "\n",
        "__a)__ Zeichnen Sie mit `customers.plot.scatter()` ein Streudiagramm aller Datenpunkte des DataFrames `customers`. Verwenden Sie folgende Parameter:\n",
        "  * `x` : die Spalte `income`\n",
        "  * `y` : die Spalte `spending`\n",
        "  * `colormap` : `'rainbow'`\n",
        "  * `c` : die Spalte `cluster`\n",
        "\n",
        "__b)__ Zeichnen Sie nun mit dem Befehl unten die Cluster-Schwerpunkte ein. \n",
        "\n",
        "```python\n",
        "plt.scatter(kmeans.cluster_centers_[:, 0], kmeans.cluster_centers_[:, 1], c='gold', s='200', label='Schwerpunkte')\n",
        "```\n",
        "\n",
        "\n",
        "__c)__ Beschriften Sie die Achsen und geben Sie dem Diagramm den Titel `Kunden-Cluster`.\n",
        "</div>"
      ]
    },
    {
      "cell_type": "code",
      "execution_count": null,
      "id": "26aa10ba-74a6-4fcc-b5d5-4962153384df",
      "metadata": {
        "trusted": true
      },
      "outputs": [],
      "source": [
        "# Ihr Code hier"
      ]
    },
    {
      "cell_type": "code",
      "execution_count": null,
      "id": "5d4ce1b3-ac8e-4902-bcdd-7fe47caec6a6",
      "metadata": {
        "trusted": true
      },
      "outputs": [],
      "source": []
    }
  ],
  "metadata": {
    "kernelspec": {
      "display_name": "Python 3",
      "language": "python",
      "name": "python3"
    },
    "language_info": {
      "codemirror_mode": {
        "name": "ipython",
        "version": 3
      },
      "file_extension": ".py",
      "mimetype": "text/x-python",
      "name": "python",
      "nbconvert_exporter": "python",
      "pygments_lexer": "ipython3",
      "version": "3.13.1"
    }
  },
  "nbformat": 4,
  "nbformat_minor": 5
}
