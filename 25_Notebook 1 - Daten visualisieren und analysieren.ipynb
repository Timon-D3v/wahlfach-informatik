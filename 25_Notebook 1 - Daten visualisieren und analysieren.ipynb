{
  "cells": [
    {
      "cell_type": "markdown",
      "id": "6b53a206-0d8c-4844-b71d-0f3a345c58c1",
      "metadata": {
        "tags": []
      },
      "source": [
        "# Notebook 1: Daten analysieren und visualisieren\n",
        "\n",
        "<img src=\"https://balloon.tam.ch/share/afef44def727eebe2f47f6059473ab6d\" align=\"right\" alt=\"pandas\" width=\"200\" />\n",
        "\n",
        "**Pandas** ist ein Python-Paket für die Analyse und Bearbeitung von tabellarischen Daten. Der Name leitet sich von dem englischen Begriff *panel data* (Paneldaten) ab.\n",
        "\n",
        "In dieser Lernaufgabe lesen wir mit Hilfe von pandas zwei Datensätze ein.\n",
        "\n",
        "<div style=\"display: flex\">\n",
        "<div class=\"alert alert-box alert-info\" style=\"flex: 1; width: 50%\">\n",
        "    \n",
        "## Tips (Datensatz für Beispiele)\n",
        "`tips.csv` ist ein Datensatz mit Informationen über Trinkgeld (englisch *tips*), das ein Service-Angestellter während mehreren Monaten von Restaurantgästen erhalten hat.\n",
        "\n",
        "![Kellner](https://balloon.tam.ch/share/6c1501119b5aca42fd0fcc192d6203b9)\n",
        "</div>\n",
        "<div class=\"alert alert-box alert-success\" style=\"flex: 1; width: 50%\">\n",
        "\n",
        "## Netflix (Datensatz für Aufgaben)\n",
        "\n",
        "`netflix.csv` ist ein Datensatz mit Informationen über Netflix-Serien und ihren Bewertungen auf [IMDB](https://www.imdb.com/).\n",
        "\n",
        "![Netflix Logo](https://images.ctfassets.net/4cd45et68cgf/7LrExJ6PAj6MSIPkDyCO86/542b1dfabbf3959908f69be546879952/Netflix-Brand-Logo.png?w=700&h=456)\n",
        "</div>\n",
        "</div>"
      ]
    },
    {
      "cell_type": "markdown",
      "id": "114ae7b9-9bdd-4b48-b032-978d6fbc10c7",
      "metadata": {},
      "source": [
        "## Einführung\n",
        "\n",
        "Dieses Aufgabenblatt ist ein *Jupyter Notebook*. Es besteht aus Zellen, die Python-Code enthalten, der mit der **Tastenkombination `Shift+Enter`** ausgeführt werden kann. \n",
        "\n",
        "Das Ergebnis der **letzten Zeile** einer Zelle wird anzezeigt."
      ]
    },
    {
      "cell_type": "markdown",
      "id": "300a54d6-9900-4b60-ba13-7d040f510ecf",
      "metadata": {},
      "source": [
        "Führen Sie die nächste Zelle aus und beachte, dass python nur `30` anzeigt."
      ]
    },
    {
      "cell_type": "code",
      "execution_count": 2,
      "id": "87c5cf9b-3a0a-47c4-a34c-161252770bd1",
      "metadata": {
        "tags": [],
        "trusted": true
      },
      "outputs": [
        {
          "data": {
            "text/plain": [
              "30"
            ]
          },
          "execution_count": 2,
          "metadata": {},
          "output_type": "execute_result"
        }
      ],
      "source": [
        "1+2\n",
        "10+20"
      ]
    },
    {
      "cell_type": "markdown",
      "id": "8ee75b09-5ce3-41b7-8e2d-d796c5bd1662",
      "metadata": {},
      "source": [
        "<div class=\"alert alert-box alert-success\">\n",
        "\n",
        "### Aufgabe 0\n",
        "\n",
        "Python kann auch multiplizieren. Schreiben Sie in der nächsten Zelle eine **beliebige Multiplikation mit dem Ergebnis 42** und führen Sie die Zelle aus, um das Ergebnis zu sehen. \n",
        "\n",
        "</div>"
      ]
    },
    {
      "cell_type": "code",
      "execution_count": 3,
      "id": "69f5ec2a-8be0-40d4-a7fb-01e7e5bd3b37",
      "metadata": {
        "tags": [],
        "trusted": true
      },
      "outputs": [
        {
          "data": {
            "text/plain": [
              "42"
            ]
          },
          "execution_count": 3,
          "metadata": {},
          "output_type": "execute_result"
        }
      ],
      "source": [
        "# Hier Code eingeben\n",
        "2*21"
      ]
    },
    {
      "cell_type": "markdown",
      "id": "888319c3-3ea7-4876-922f-8fa1f3706505",
      "metadata": {},
      "source": [
        "## Teil 1 - Daten einlesen und analysieren"
      ]
    },
    {
      "cell_type": "markdown",
      "id": "0fa2b1b0-dd9c-41bb-b36e-1e556be13d35",
      "metadata": {},
      "source": [
        "Als erstes importieren wir pandas und geben ihm die Abkürzung `pd` um Schreibarbeit zu sparen. Führen Sie die nächste Zeile aus (einmal Ausführen reicht, auch wenn wir 2 Datensätze damit analysieren werden)."
      ]
    },
    {
      "cell_type": "code",
      "execution_count": 4,
      "id": "a6d18d94-a938-4ba1-9b49-d4ebe507d44a",
      "metadata": {
        "tags": [],
        "trusted": true
      },
      "outputs": [],
      "source": [
        "import pandas as pd\n"
      ]
    },
    {
      "cell_type": "markdown",
      "id": "e853f45f-1f38-4766-85f3-548dedd96b8a",
      "metadata": {},
      "source": [
        "### 1.1 Daten einlesen\n",
        "\n",
        "Als nächstes lesen wir die Daten ein. Dazu lesen wir mit pandas die Inhalte von `tips.csv` aus und weisen sie der Variablen `tips` zu. Mit `head()` geben wir danach die ersten fünf Zeilen der Daten aus. "
      ]
    },
    {
      "cell_type": "code",
      "execution_count": 5,
      "id": "16161fea-d806-457e-aa87-acda060b9ed6",
      "metadata": {
        "tags": []
      },
      "outputs": [
        {
          "data": {
            "text/html": [
              "<div>\n",
              "<style scoped>\n",
              "    .dataframe tbody tr th:only-of-type {\n",
              "        vertical-align: middle;\n",
              "    }\n",
              "\n",
              "    .dataframe tbody tr th {\n",
              "        vertical-align: top;\n",
              "    }\n",
              "\n",
              "    .dataframe thead th {\n",
              "        text-align: right;\n",
              "    }\n",
              "</style>\n",
              "<table border=\"1\" class=\"dataframe\">\n",
              "  <thead>\n",
              "    <tr style=\"text-align: right;\">\n",
              "      <th></th>\n",
              "      <th>total_bill</th>\n",
              "      <th>tip</th>\n",
              "      <th>sex</th>\n",
              "      <th>smoker</th>\n",
              "      <th>day</th>\n",
              "      <th>time</th>\n",
              "      <th>size</th>\n",
              "    </tr>\n",
              "  </thead>\n",
              "  <tbody>\n",
              "    <tr>\n",
              "      <th>0</th>\n",
              "      <td>16.99</td>\n",
              "      <td>1.01</td>\n",
              "      <td>Female</td>\n",
              "      <td>No</td>\n",
              "      <td>Sun</td>\n",
              "      <td>Dinner</td>\n",
              "      <td>2</td>\n",
              "    </tr>\n",
              "    <tr>\n",
              "      <th>1</th>\n",
              "      <td>10.34</td>\n",
              "      <td>1.66</td>\n",
              "      <td>Male</td>\n",
              "      <td>No</td>\n",
              "      <td>Sun</td>\n",
              "      <td>Dinner</td>\n",
              "      <td>3</td>\n",
              "    </tr>\n",
              "    <tr>\n",
              "      <th>2</th>\n",
              "      <td>21.01</td>\n",
              "      <td>3.50</td>\n",
              "      <td>Male</td>\n",
              "      <td>No</td>\n",
              "      <td>Sun</td>\n",
              "      <td>Dinner</td>\n",
              "      <td>3</td>\n",
              "    </tr>\n",
              "    <tr>\n",
              "      <th>3</th>\n",
              "      <td>23.68</td>\n",
              "      <td>3.31</td>\n",
              "      <td>Male</td>\n",
              "      <td>No</td>\n",
              "      <td>Sun</td>\n",
              "      <td>Dinner</td>\n",
              "      <td>2</td>\n",
              "    </tr>\n",
              "    <tr>\n",
              "      <th>4</th>\n",
              "      <td>24.59</td>\n",
              "      <td>3.61</td>\n",
              "      <td>Female</td>\n",
              "      <td>No</td>\n",
              "      <td>Sun</td>\n",
              "      <td>Dinner</td>\n",
              "      <td>4</td>\n",
              "    </tr>\n",
              "  </tbody>\n",
              "</table>\n",
              "</div>"
            ],
            "text/plain": [
              "   total_bill   tip     sex smoker  day    time  size\n",
              "0       16.99  1.01  Female     No  Sun  Dinner     2\n",
              "1       10.34  1.66    Male     No  Sun  Dinner     3\n",
              "2       21.01  3.50    Male     No  Sun  Dinner     3\n",
              "3       23.68  3.31    Male     No  Sun  Dinner     2\n",
              "4       24.59  3.61  Female     No  Sun  Dinner     4"
            ]
          },
          "execution_count": 5,
          "metadata": {},
          "output_type": "execute_result"
        }
      ],
      "source": [
        "tips = pd.read_csv(\"./datasets/tips.csv\")\n",
        "tips.head()"
      ]
    },
    {
      "cell_type": "markdown",
      "id": "6445bba4-8254-4559-8e0b-8246430a72fe",
      "metadata": {},
      "source": [
        "Der Rückgabewert von `read_csv` ist ein sogenanntes `DataFrame`-Objekt, was in pandas einer Tabelle entspricht. Dies lässt sich mit dem Python-Befehl `type()` ermitteln."
      ]
    },
    {
      "cell_type": "code",
      "execution_count": 6,
      "id": "ae46444a-d7af-4620-b643-a84138c29a53",
      "metadata": {
        "tags": []
      },
      "outputs": [
        {
          "name": "stdout",
          "output_type": "stream",
          "text": [
            "<class 'int'>\n",
            "<class 'str'>\n",
            "<class 'pandas.core.frame.DataFrame'>\n"
          ]
        }
      ],
      "source": [
        "print(type(1))       # Ganze Zahlen haben den Typ int (für integer)\n",
        "print(type(\"Hello\")) # Texte haben den Typ str (für string)\n",
        "print(type(tips))    # Tabellen haben in pandas den Typ DataFrame"
      ]
    },
    {
      "cell_type": "markdown",
      "id": "557ee695-307a-4ecf-a71e-09afd75375d4",
      "metadata": {},
      "source": [
        "<div class=\"alert alert-box alert-success\">\n",
        "\n",
        "### Aufgabe 1\n",
        "\n",
        "Lesen Sie die Datei `netflix.csv` ein und erstellen Sie ein Dataframe mit dem Namen `netflix`. Zeigen Sie die ersten paar Zeilen dieses Datensatzes aus.    \n",
        "</div>"
      ]
    },
    {
      "cell_type": "code",
      "execution_count": 7,
      "id": "4bd443fc-00ea-4992-a7fa-3d3fff8f40cd",
      "metadata": {
        "tags": [],
        "trusted": true
      },
      "outputs": [
        {
          "data": {
            "text/html": [
              "<div>\n",
              "<style scoped>\n",
              "    .dataframe tbody tr th:only-of-type {\n",
              "        vertical-align: middle;\n",
              "    }\n",
              "\n",
              "    .dataframe tbody tr th {\n",
              "        vertical-align: top;\n",
              "    }\n",
              "\n",
              "    .dataframe thead th {\n",
              "        text-align: right;\n",
              "    }\n",
              "</style>\n",
              "<table border=\"1\" class=\"dataframe\">\n",
              "  <thead>\n",
              "    <tr style=\"text-align: right;\">\n",
              "      <th></th>\n",
              "      <th>index</th>\n",
              "      <th>id</th>\n",
              "      <th>title</th>\n",
              "      <th>type</th>\n",
              "      <th>description</th>\n",
              "      <th>release_year</th>\n",
              "      <th>age_certification</th>\n",
              "      <th>runtime</th>\n",
              "      <th>imdb_id</th>\n",
              "      <th>imdb_score</th>\n",
              "      <th>imdb_votes</th>\n",
              "    </tr>\n",
              "  </thead>\n",
              "  <tbody>\n",
              "    <tr>\n",
              "      <th>0</th>\n",
              "      <td>0</td>\n",
              "      <td>tm84618</td>\n",
              "      <td>Taxi Driver</td>\n",
              "      <td>MOVIE</td>\n",
              "      <td>A mentally unstable Vietnam War veteran works ...</td>\n",
              "      <td>1976</td>\n",
              "      <td>R</td>\n",
              "      <td>113</td>\n",
              "      <td>tt0075314</td>\n",
              "      <td>8.3</td>\n",
              "      <td>795222.0</td>\n",
              "    </tr>\n",
              "    <tr>\n",
              "      <th>1</th>\n",
              "      <td>1</td>\n",
              "      <td>tm127384</td>\n",
              "      <td>Monty Python and the Holy Grail</td>\n",
              "      <td>MOVIE</td>\n",
              "      <td>King Arthur, accompanied by his squire, recrui...</td>\n",
              "      <td>1975</td>\n",
              "      <td>PG</td>\n",
              "      <td>91</td>\n",
              "      <td>tt0071853</td>\n",
              "      <td>8.2</td>\n",
              "      <td>530877.0</td>\n",
              "    </tr>\n",
              "    <tr>\n",
              "      <th>2</th>\n",
              "      <td>2</td>\n",
              "      <td>tm70993</td>\n",
              "      <td>Life of Brian</td>\n",
              "      <td>MOVIE</td>\n",
              "      <td>Brian Cohen is an average young Jewish man, bu...</td>\n",
              "      <td>1979</td>\n",
              "      <td>R</td>\n",
              "      <td>94</td>\n",
              "      <td>tt0079470</td>\n",
              "      <td>8.0</td>\n",
              "      <td>392419.0</td>\n",
              "    </tr>\n",
              "    <tr>\n",
              "      <th>3</th>\n",
              "      <td>3</td>\n",
              "      <td>tm190788</td>\n",
              "      <td>The Exorcist</td>\n",
              "      <td>MOVIE</td>\n",
              "      <td>12-year-old Regan MacNeil begins to adapt an e...</td>\n",
              "      <td>1973</td>\n",
              "      <td>R</td>\n",
              "      <td>133</td>\n",
              "      <td>tt0070047</td>\n",
              "      <td>8.1</td>\n",
              "      <td>391942.0</td>\n",
              "    </tr>\n",
              "    <tr>\n",
              "      <th>4</th>\n",
              "      <td>4</td>\n",
              "      <td>ts22164</td>\n",
              "      <td>Monty Python's Flying Circus</td>\n",
              "      <td>SHOW</td>\n",
              "      <td>A British sketch comedy series with the shows ...</td>\n",
              "      <td>1969</td>\n",
              "      <td>TV-14</td>\n",
              "      <td>30</td>\n",
              "      <td>tt0063929</td>\n",
              "      <td>8.8</td>\n",
              "      <td>72895.0</td>\n",
              "    </tr>\n",
              "  </tbody>\n",
              "</table>\n",
              "</div>"
            ],
            "text/plain": [
              "   index        id                            title   type  \\\n",
              "0      0   tm84618                      Taxi Driver  MOVIE   \n",
              "1      1  tm127384  Monty Python and the Holy Grail  MOVIE   \n",
              "2      2   tm70993                    Life of Brian  MOVIE   \n",
              "3      3  tm190788                     The Exorcist  MOVIE   \n",
              "4      4   ts22164     Monty Python's Flying Circus   SHOW   \n",
              "\n",
              "                                         description  release_year  \\\n",
              "0  A mentally unstable Vietnam War veteran works ...          1976   \n",
              "1  King Arthur, accompanied by his squire, recrui...          1975   \n",
              "2  Brian Cohen is an average young Jewish man, bu...          1979   \n",
              "3  12-year-old Regan MacNeil begins to adapt an e...          1973   \n",
              "4  A British sketch comedy series with the shows ...          1969   \n",
              "\n",
              "  age_certification  runtime    imdb_id  imdb_score  imdb_votes  \n",
              "0                 R      113  tt0075314         8.3    795222.0  \n",
              "1                PG       91  tt0071853         8.2    530877.0  \n",
              "2                 R       94  tt0079470         8.0    392419.0  \n",
              "3                 R      133  tt0070047         8.1    391942.0  \n",
              "4             TV-14       30  tt0063929         8.8     72895.0  "
            ]
          },
          "execution_count": 7,
          "metadata": {},
          "output_type": "execute_result"
        }
      ],
      "source": [
        "# Hier Code eingeben\n",
        "netflix = pd.read_csv(\"./datasets/netflix.csv\")\n",
        "netflix.head()"
      ]
    },
    {
      "cell_type": "markdown",
      "id": "4ced3418-e385-4efe-bfca-4f1ed9ea91e9",
      "metadata": {},
      "source": [
        "### 1.2 Datentypen der Spalten herausfinden\n",
        "\n",
        "In Datensätzen für Data Science enthalten die Spalten in der Regel Werte desselben Datentyps (also z.B. nur ganze Zahlen oder nur Texte). Es kann aber vorkommen, dass eine Spalte verschiedene Datentypen enthält (z.B. Zahlen und Texte). Bevor man mit der Analyse der Daten loslegt, sollte man deshlab die Datentypen der Spalten übreprüfen.\n",
        "\n",
        "<div class=\"alert alert-box alert-info\">\n",
        "    \n",
        "Was für **Datentypen** sind in `tips` enthalten? Das kann man mit dem `dtypes` herausfinden. Dabei gilt:\n",
        "* `int64` = Ganze Zahlen mit 64 Bit\n",
        "* `float64` = Kommazahlen mit 64 Bit\n",
        "* `bool` = Wahrheitswerte (`True` und `False`)\n",
        "* `object` = alles andere, hier Zeichenketten (=Texte)\n",
        "  \n",
        "</div>"
      ]
    },
    {
      "cell_type": "code",
      "execution_count": 8,
      "id": "bd76b234-ff7b-400c-86b6-9c88793f95c5",
      "metadata": {
        "tags": []
      },
      "outputs": [
        {
          "data": {
            "text/plain": [
              "total_bill    float64\n",
              "tip           float64\n",
              "sex            object\n",
              "smoker         object\n",
              "day            object\n",
              "time           object\n",
              "size            int64\n",
              "dtype: object"
            ]
          },
          "execution_count": 8,
          "metadata": {},
          "output_type": "execute_result"
        }
      ],
      "source": [
        "tips.dtypes"
      ]
    },
    {
      "cell_type": "markdown",
      "id": "ad794128-a999-4b99-896f-4514a5ecb371",
      "metadata": {},
      "source": [
        "<div class=\"alert alert-box alert-success\">\n",
        "\n",
        "### Aufgabe 2\n",
        "**a)** Finden Sie heraus, was die Datentypen im `netflix` Datensatz sind.\n",
        "</div>"
      ]
    },
    {
      "cell_type": "code",
      "execution_count": 9,
      "id": "049e65de-6ddb-4179-a825-036b226cd40f",
      "metadata": {
        "tags": []
      },
      "outputs": [
        {
          "data": {
            "text/plain": [
              "index                  int64\n",
              "id                    object\n",
              "title                 object\n",
              "type                  object\n",
              "description           object\n",
              "release_year           int64\n",
              "age_certification     object\n",
              "runtime                int64\n",
              "imdb_id               object\n",
              "imdb_score           float64\n",
              "imdb_votes           float64\n",
              "dtype: object"
            ]
          },
          "execution_count": 9,
          "metadata": {},
          "output_type": "execute_result"
        }
      ],
      "source": [
        "# Hier Code eingeben\n",
        "netflix.dtypes"
      ]
    },
    {
      "cell_type": "markdown",
      "id": "f1e933c5-18d0-464a-9c5b-33c43f7513b0",
      "metadata": {},
      "source": [
        "<div class=\"alert alert-box alert-success\">\n",
        "    \n",
        "**b)** Erklären Sie, warum `runtime` den gewählten Datentyp hat. Wie ist diese Zahl zu interpretieren? Schreiben Sie Ihre Antwort in der nächsten Zelle.\n",
        "\n",
        "</div>"
      ]
    },
    {
      "cell_type": "markdown",
      "id": "4776106d-0a2b-487d-803c-fead768d7cda",
      "metadata": {},
      "source": [
        "   \n",
        "**Antwort**: *Hier doppelklicken und Antwort eingeben*\n",
        "\n",
        "Runtime ist eine ganze Zahl mit 64bit. Sie zeigt die Länge eines Inhalts in Minuten an."
      ]
    },
    {
      "cell_type": "markdown",
      "id": "ff59b5f2-d976-462d-a7d2-a608e69de9f2",
      "metadata": {},
      "source": [
        "### 1.3 Einzelne Spalten auswählen\n",
        "\n",
        "`DataFrame`s unterscheiden sich in mehreren Punkten von zweidimensionalen Python-Listen. Ein wichtiger Unterschied sind die eckigen Selektionsklammern `[]`, womit man unter anderem einzelne Spalten auslesen kann.\n",
        "\n",
        "<div class=\"alert alert-box alert-info\">\n",
        "\n",
        "**Spalten selektieren in pandas**\n",
        "    \n",
        "Mit dem Suffix `[\"Spaltennamen\"]` kann man eine bestimmte Spalte eines Dataframes auswählen und mit `=` einer Variablen zuweisen.\n",
        "</div>"
      ]
    },
    {
      "cell_type": "code",
      "execution_count": 10,
      "id": "0c502c98-42b7-4f3c-b5ca-262f06cae765",
      "metadata": {
        "tags": []
      },
      "outputs": [
        {
          "data": {
            "text/plain": [
              "0       Sun\n",
              "1       Sun\n",
              "2       Sun\n",
              "3       Sun\n",
              "4       Sun\n",
              "       ... \n",
              "239     Sat\n",
              "240     Sat\n",
              "241     Sat\n",
              "242     Sat\n",
              "243    Thur\n",
              "Name: day, Length: 244, dtype: object"
            ]
          },
          "execution_count": 10,
          "metadata": {},
          "output_type": "execute_result"
        }
      ],
      "source": [
        "weekdays = tips[\"day\"]\n",
        "weekdays # Werte der Spalte day in die Ausgabe schreiben"
      ]
    },
    {
      "cell_type": "markdown",
      "id": "de3fc568-b9e9-46ec-a27b-05fb587f0f5c",
      "metadata": {},
      "source": [
        "Tabellenspalten werden in pandas `Series` genannt. Dies lässt sich mit Hilfe `type()`-Befehls ermitteln."
      ]
    },
    {
      "cell_type": "code",
      "execution_count": 11,
      "id": "9b6cd0be-eb2a-41af-bf57-967e94e5ebd5",
      "metadata": {
        "tags": []
      },
      "outputs": [
        {
          "data": {
            "text/plain": [
              "pandas.core.series.Series"
            ]
          },
          "execution_count": 11,
          "metadata": {},
          "output_type": "execute_result"
        }
      ],
      "source": [
        "type(weekdays)"
      ]
    },
    {
      "cell_type": "markdown",
      "id": "6c150f07-939c-467e-882b-04c880318902",
      "metadata": {},
      "source": [
        "<div class=\"alert alert-box alert-success\">\n",
        "\n",
        "### Aufgabe 3\n",
        "    \n",
        "Lesen Sie im Netflix-Datensatz die Spalte `title` aus und weisen Sie sie der Variables `titles` zu. Überprüfen Sie anschliessend den Datentyp der Variablen.\n",
        "</div>"
      ]
    },
    {
      "cell_type": "code",
      "execution_count": 12,
      "id": "db3496f0-72b4-49ee-a04d-0fd6fcacd836",
      "metadata": {
        "tags": []
      },
      "outputs": [
        {
          "data": {
            "text/plain": [
              "pandas.core.series.Series"
            ]
          },
          "execution_count": 12,
          "metadata": {},
          "output_type": "execute_result"
        }
      ],
      "source": [
        "# Hier Code eingeben\n",
        "titles = netflix[\"title\"]\n",
        "type(titles)"
      ]
    },
    {
      "cell_type": "markdown",
      "id": "cac6a01d-cfd0-4dc5-9d17-ab174ed5e70c",
      "metadata": {},
      "source": [
        "### 1.4 Aggregationsfunktionen anwenden\n",
        "\n",
        "In pandas lassen sich auf `Series`-Objekte diverse Aggregationsfunktionen aufrufen. Diese werden über einen Punkt direkt an die Variable angehägt.\n",
        "\n",
        "* `.sum()`: Summe der Werte in der Spalte\n",
        "* `.count()`: Anzahl Werte in der Spalte\n",
        "* `.max()`: Grösster Wert in der Spalte\n",
        "* `.min()`: Kleinster Wert in der Spalte\n",
        "* `.mean()`: Mittelwert (Durchschnitt) der Werte in der Spalte\n",
        "* `.std()`: Standardabweichung der Werte in der Spalte\n",
        "* `.unique()`: Alle verschiedenen Werte in der Spalte (ohne Duplikate)\n",
        "* `.value_counts()`: Alle verschiedenen Werte in der Spalte und ihre Anzahl. Der Rückgabewert ist wiederum ein `Series`-Objekt.\n",
        "\n",
        "Mit `weekdays.unique()` lassen sich z.B. die verschiedenen Werte im `Series`-Objekt `weekdays` auslesen (ohne Duplikate)."
      ]
    },
    {
      "cell_type": "code",
      "execution_count": 13,
      "id": "07fd7272-3799-46d4-8828-662c657ce115",
      "metadata": {
        "tags": [],
        "trusted": true
      },
      "outputs": [
        {
          "data": {
            "text/plain": [
              "array(['Sun', 'Sat', 'Thur', 'Fri'], dtype=object)"
            ]
          },
          "execution_count": 13,
          "metadata": {},
          "output_type": "execute_result"
        }
      ],
      "source": [
        "weekdays.unique()"
      ]
    },
    {
      "cell_type": "markdown",
      "id": "f9df392a-df74-4d0e-9c53-e7cb8a03a65d",
      "metadata": {},
      "source": [
        "Wir sehen in der Beschreibung (s.o.) auch, dass Samstag der häufigste Wert ist, mit 87 Vorkommnissen. Wie sieht es mit den anderen Tagen aus? Das lässt sich mit `value_counts()` herausfinden"
      ]
    },
    {
      "cell_type": "code",
      "execution_count": 14,
      "id": "5af445f2-4a59-418d-b442-852f33aeb4d4",
      "metadata": {
        "tags": []
      },
      "outputs": [
        {
          "data": {
            "text/plain": [
              "day\n",
              "Sat     87\n",
              "Sun     76\n",
              "Thur    62\n",
              "Fri     19\n",
              "Name: count, dtype: int64"
            ]
          },
          "execution_count": 14,
          "metadata": {},
          "output_type": "execute_result"
        }
      ],
      "source": [
        "weekdays.value_counts()"
      ]
    },
    {
      "cell_type": "markdown",
      "id": "4513a7b6-b036-4f54-a3d8-34b7b820a4c4",
      "metadata": {},
      "source": [
        "Man muss nicht jedes Mal die ausgewählte Serie in eine Variable speichern. Das hängt davon ab, ob man die Absicht hat, später mit dieser Serie weiterzuarbeiten)."
      ]
    },
    {
      "cell_type": "code",
      "execution_count": 15,
      "id": "e74cca6c-c5c6-4267-8de8-0de37cbb7a3b",
      "metadata": {
        "tags": []
      },
      "outputs": [
        {
          "data": {
            "text/plain": [
              "np.float64(731.5799999999999)"
            ]
          },
          "execution_count": 15,
          "metadata": {},
          "output_type": "execute_result"
        }
      ],
      "source": [
        "tips[\"tip\"].sum()"
      ]
    },
    {
      "cell_type": "markdown",
      "id": "41b6970d-260c-4c21-a814-dba7f3460083",
      "metadata": {},
      "source": [
        "<div class=\"alert alert-box alert-success\">\n",
        "\n",
        "### Aufgabe 4\n",
        "\n",
        "Verwenden Sie für jede Teilaufgabe eine eigene Zelle.\n",
        "    \n",
        "**a)** Wählen Sie die Altersfreigabe (`age_certification`) aus und speichern Sie diese Serie in einer neuen Variablen. Vergewissern Sie sich, dass der Datentyp `Series` ist.\n",
        "\n",
        "**b)** Finden Sie mit Hilfe von `.unique()` heraus, was die unterschiedlichen Werte sind.\n",
        "    \n",
        "**c)** Finden Sie heraus, welcher Wert am seltensten ist.\n",
        "\n",
        "</div>"
      ]
    },
    {
      "cell_type": "code",
      "execution_count": 16,
      "id": "ccff1ad4-1e49-4a7b-a160-289c64d6d3e0",
      "metadata": {},
      "outputs": [
        {
          "data": {
            "text/plain": [
              "pandas.core.series.Series"
            ]
          },
          "execution_count": 16,
          "metadata": {},
          "output_type": "execute_result"
        }
      ],
      "source": [
        "# a)\n",
        "altersfreigabe = netflix.age_certification\n",
        "type(altersfreigabe)"
      ]
    },
    {
      "cell_type": "code",
      "execution_count": 17,
      "id": "dceafe7e-642c-4477-bac9-6e6b4c419887",
      "metadata": {},
      "outputs": [
        {
          "data": {
            "text/plain": [
              "array(['R', 'PG', 'TV-14', 'G', 'PG-13', nan, 'TV-MA', 'TV-PG', 'TV-Y',\n",
              "       'TV-G', 'TV-Y7', 'NC-17'], dtype=object)"
            ]
          },
          "execution_count": 17,
          "metadata": {},
          "output_type": "execute_result"
        }
      ],
      "source": [
        "# b)\n",
        "altersfreigabe.unique()"
      ]
    },
    {
      "cell_type": "code",
      "execution_count": 18,
      "id": "2307a5ec-f85e-487b-b7e7-939530d06bf6",
      "metadata": {},
      "outputs": [
        {
          "data": {
            "text/plain": [
              "age_certification\n",
              "TV-MA    792\n",
              "R        548\n",
              "TV-14    436\n",
              "PG-13    424\n",
              "PG       238\n",
              "TV-PG    172\n",
              "G        105\n",
              "TV-Y7    104\n",
              "TV-Y      94\n",
              "TV-G      72\n",
              "NC-17     13\n",
              "Name: count, dtype: int64"
            ]
          },
          "execution_count": 18,
          "metadata": {},
          "output_type": "execute_result"
        }
      ],
      "source": [
        "# c)\n",
        "altersfreigabe.value_counts()"
      ]
    },
    {
      "cell_type": "markdown",
      "id": "2346462a-fc7e-4125-b76a-350ea0d16ffd",
      "metadata": {},
      "source": [
        "<div class=\"alert alert-box alert-success\">\n",
        "\n",
        "### Aufgabe 5\n",
        "\n",
        "Verwenden Sie für jede Teilaufgabe eine eigene Zelle.\n",
        "    \n",
        "**a)** Wie tief ist die schlechteste IMDB Bewertung im Datensatz?\n",
        "    \n",
        "**b)** Hat Netflix mehr Filme oder TV-Serien?\n",
        "    \n",
        "**c)** Wie lange geht der längste Streaming-Inhalt auf Netflix?\n",
        "    \n",
        "**d)** Wie lange würde man brauchen, um alles, was in diesem Datensatz enthalten ist, zu bindge-watchen? Teile durch `24 * 60` um einen Wert in Tage zu erhalten.\n",
        "\n",
        "</div>"
      ]
    },
    {
      "cell_type": "code",
      "execution_count": 19,
      "id": "f3fef1c6-2a83-4352-a218-e846d534e925",
      "metadata": {
        "tags": []
      },
      "outputs": [
        {
          "data": {
            "text/plain": [
              "np.float64(1.5)"
            ]
          },
          "execution_count": 19,
          "metadata": {},
          "output_type": "execute_result"
        }
      ],
      "source": [
        "# a)\n",
        "netflix.imdb_score.min()"
      ]
    },
    {
      "cell_type": "code",
      "execution_count": 20,
      "id": "48c24b65-7107-4b95-a05e-b4227eb49758",
      "metadata": {},
      "outputs": [
        {
          "name": "stdout",
          "output_type": "stream",
          "text": [
            "type\n",
            "MOVIE    3407\n",
            "SHOW     1876\n",
            "Name: count, dtype: int64\n",
            "Es gibt mehr Filme (3407) als Serien (1876)\n"
          ]
        }
      ],
      "source": [
        "# b)\n",
        "\n",
        "\"\"\"\n",
        "Wahrscheinlich ist hier .value_counts() gemeint. Dann sieht man auch die Anzahl an Filmen und Serien\n",
        "\"\"\"\n",
        "print(netflix.type.value_counts())\n",
        "\n",
        "\n",
        "movies = netflix[netflix.type == \"MOVIE\"]\n",
        "series = netflix[netflix.type == \"SHOW\"]\n",
        "\n",
        "if (len(movies) > len(series)):\n",
        "    print(f\"Es gibt mehr Filme ({len(movies)}) als Serien ({len(series)})\")\n",
        "else:\n",
        "    print(f\"Es gibt mehr Serien ({len(series)}) als Filme ({len(movies)})\")\n",
        "\n"
      ]
    },
    {
      "cell_type": "code",
      "execution_count": 21,
      "id": "9e564315-3038-46a4-a159-f8d0ca9d49c5",
      "metadata": {},
      "outputs": [
        {
          "data": {
            "text/plain": [
              "np.int64(235)"
            ]
          },
          "execution_count": 21,
          "metadata": {},
          "output_type": "execute_result"
        }
      ],
      "source": [
        "# c)\n",
        "netflix.runtime.max()"
      ]
    },
    {
      "cell_type": "code",
      "execution_count": 22,
      "id": "935d2687-923a-43b2-a156-cef6b4decddc",
      "metadata": {
        "trusted": true
      },
      "outputs": [
        {
          "name": "stdout",
          "output_type": "stream",
          "text": [
            "Die Gesamtspielzeit beträgt 418413 Minuten oder 6973.55 Stunden oder 290.56458333333336 Tage\n"
          ]
        }
      ],
      "source": [
        "# d)\n",
        "bingetime = netflix.runtime.sum()\n",
        "print(f\"Die Gesamtspielzeit beträgt {bingetime} Minuten oder {bingetime / 60} Stunden oder {bingetime / 60 / 24} Tage\")"
      ]
    },
    {
      "cell_type": "markdown",
      "id": "4c2046ad-7791-4420-872c-0d51bebfc6d5",
      "metadata": {},
      "source": [
        "### 1.5 Filtern\n",
        "\n",
        "Auch mit Hilfe von pandas lassen sich Datensätze *filtern*. Im Folgenden filtern wir nach allen Zeilen, welche in der Spalte `sex` den Wert `Female` stehen haben. Das geht in zwei Schritten:"
      ]
    },
    {
      "cell_type": "markdown",
      "id": "10534853-0604-46d7-adb2-a2e71d352a56",
      "metadata": {},
      "source": [
        "<div class=\"alert alert-box alert-info\">\n",
        "    \n",
        "**Schritt 1:** Wenn man für eine ausgewählte Spalte eine *Bedingung* angibt, wird diese *für jede Zeile* ausgewertet. Das Ergebnis ist ein Series-Objekt mit den Werten `True` (Bedingung ist wahr) oder `False` (Bedingung ist falsch).\n",
        "</div>"
      ]
    },
    {
      "cell_type": "code",
      "execution_count": 23,
      "id": "4d39cfaa-6c20-49b5-809a-c13b28efede9",
      "metadata": {
        "tags": []
      },
      "outputs": [
        {
          "data": {
            "text/plain": [
              "0       True\n",
              "1      False\n",
              "2      False\n",
              "3      False\n",
              "4       True\n",
              "       ...  \n",
              "239    False\n",
              "240     True\n",
              "241    False\n",
              "242    False\n",
              "243     True\n",
              "Name: sex, Length: 244, dtype: bool"
            ]
          },
          "execution_count": 23,
          "metadata": {},
          "output_type": "execute_result"
        }
      ],
      "source": [
        "tips[\"sex\"] == \"Female\""
      ]
    },
    {
      "cell_type": "markdown",
      "id": "19198a7f-22f4-4cad-a32a-1f2465a5dc36",
      "metadata": {},
      "source": [
        "<div class=\"alert alert-box alert-info\">\n",
        "\n",
        "**Schritt 2**: Den Ausdruck aus Schritt 1 kann man nun innerhalb von DataFrame-Selektionsklammern `[]` verwenden, um pandas mitzuteilen, welche Zeilen wir dabei haben wollen und welche nicht: nur Zeilen mit einem `True` bleiben erhalten.\n",
        "</div>"
      ]
    },
    {
      "cell_type": "code",
      "execution_count": 24,
      "id": "e0d6f1da-478c-4088-b2f3-e97783e5a027",
      "metadata": {
        "tags": []
      },
      "outputs": [
        {
          "data": {
            "text/html": [
              "<div>\n",
              "<style scoped>\n",
              "    .dataframe tbody tr th:only-of-type {\n",
              "        vertical-align: middle;\n",
              "    }\n",
              "\n",
              "    .dataframe tbody tr th {\n",
              "        vertical-align: top;\n",
              "    }\n",
              "\n",
              "    .dataframe thead th {\n",
              "        text-align: right;\n",
              "    }\n",
              "</style>\n",
              "<table border=\"1\" class=\"dataframe\">\n",
              "  <thead>\n",
              "    <tr style=\"text-align: right;\">\n",
              "      <th></th>\n",
              "      <th>total_bill</th>\n",
              "      <th>tip</th>\n",
              "      <th>sex</th>\n",
              "      <th>smoker</th>\n",
              "      <th>day</th>\n",
              "      <th>time</th>\n",
              "      <th>size</th>\n",
              "    </tr>\n",
              "  </thead>\n",
              "  <tbody>\n",
              "    <tr>\n",
              "      <th>0</th>\n",
              "      <td>16.99</td>\n",
              "      <td>1.01</td>\n",
              "      <td>Female</td>\n",
              "      <td>No</td>\n",
              "      <td>Sun</td>\n",
              "      <td>Dinner</td>\n",
              "      <td>2</td>\n",
              "    </tr>\n",
              "    <tr>\n",
              "      <th>4</th>\n",
              "      <td>24.59</td>\n",
              "      <td>3.61</td>\n",
              "      <td>Female</td>\n",
              "      <td>No</td>\n",
              "      <td>Sun</td>\n",
              "      <td>Dinner</td>\n",
              "      <td>4</td>\n",
              "    </tr>\n",
              "    <tr>\n",
              "      <th>11</th>\n",
              "      <td>35.26</td>\n",
              "      <td>5.00</td>\n",
              "      <td>Female</td>\n",
              "      <td>No</td>\n",
              "      <td>Sun</td>\n",
              "      <td>Dinner</td>\n",
              "      <td>4</td>\n",
              "    </tr>\n",
              "    <tr>\n",
              "      <th>14</th>\n",
              "      <td>14.83</td>\n",
              "      <td>3.02</td>\n",
              "      <td>Female</td>\n",
              "      <td>No</td>\n",
              "      <td>Sun</td>\n",
              "      <td>Dinner</td>\n",
              "      <td>2</td>\n",
              "    </tr>\n",
              "    <tr>\n",
              "      <th>16</th>\n",
              "      <td>10.33</td>\n",
              "      <td>1.67</td>\n",
              "      <td>Female</td>\n",
              "      <td>No</td>\n",
              "      <td>Sun</td>\n",
              "      <td>Dinner</td>\n",
              "      <td>3</td>\n",
              "    </tr>\n",
              "    <tr>\n",
              "      <th>...</th>\n",
              "      <td>...</td>\n",
              "      <td>...</td>\n",
              "      <td>...</td>\n",
              "      <td>...</td>\n",
              "      <td>...</td>\n",
              "      <td>...</td>\n",
              "      <td>...</td>\n",
              "    </tr>\n",
              "    <tr>\n",
              "      <th>226</th>\n",
              "      <td>10.09</td>\n",
              "      <td>2.00</td>\n",
              "      <td>Female</td>\n",
              "      <td>Yes</td>\n",
              "      <td>Fri</td>\n",
              "      <td>Lunch</td>\n",
              "      <td>2</td>\n",
              "    </tr>\n",
              "    <tr>\n",
              "      <th>229</th>\n",
              "      <td>22.12</td>\n",
              "      <td>2.88</td>\n",
              "      <td>Female</td>\n",
              "      <td>Yes</td>\n",
              "      <td>Sat</td>\n",
              "      <td>Dinner</td>\n",
              "      <td>2</td>\n",
              "    </tr>\n",
              "    <tr>\n",
              "      <th>238</th>\n",
              "      <td>35.83</td>\n",
              "      <td>4.67</td>\n",
              "      <td>Female</td>\n",
              "      <td>No</td>\n",
              "      <td>Sat</td>\n",
              "      <td>Dinner</td>\n",
              "      <td>3</td>\n",
              "    </tr>\n",
              "    <tr>\n",
              "      <th>240</th>\n",
              "      <td>27.18</td>\n",
              "      <td>2.00</td>\n",
              "      <td>Female</td>\n",
              "      <td>Yes</td>\n",
              "      <td>Sat</td>\n",
              "      <td>Dinner</td>\n",
              "      <td>2</td>\n",
              "    </tr>\n",
              "    <tr>\n",
              "      <th>243</th>\n",
              "      <td>18.78</td>\n",
              "      <td>3.00</td>\n",
              "      <td>Female</td>\n",
              "      <td>No</td>\n",
              "      <td>Thur</td>\n",
              "      <td>Dinner</td>\n",
              "      <td>2</td>\n",
              "    </tr>\n",
              "  </tbody>\n",
              "</table>\n",
              "<p>87 rows × 7 columns</p>\n",
              "</div>"
            ],
            "text/plain": [
              "     total_bill   tip     sex smoker   day    time  size\n",
              "0         16.99  1.01  Female     No   Sun  Dinner     2\n",
              "4         24.59  3.61  Female     No   Sun  Dinner     4\n",
              "11        35.26  5.00  Female     No   Sun  Dinner     4\n",
              "14        14.83  3.02  Female     No   Sun  Dinner     2\n",
              "16        10.33  1.67  Female     No   Sun  Dinner     3\n",
              "..          ...   ...     ...    ...   ...     ...   ...\n",
              "226       10.09  2.00  Female    Yes   Fri   Lunch     2\n",
              "229       22.12  2.88  Female    Yes   Sat  Dinner     2\n",
              "238       35.83  4.67  Female     No   Sat  Dinner     3\n",
              "240       27.18  2.00  Female    Yes   Sat  Dinner     2\n",
              "243       18.78  3.00  Female     No  Thur  Dinner     2\n",
              "\n",
              "[87 rows x 7 columns]"
            ]
          },
          "execution_count": 24,
          "metadata": {},
          "output_type": "execute_result"
        }
      ],
      "source": [
        "tips[tips[\"sex\"] == \"Female\"]"
      ]
    },
    {
      "cell_type": "markdown",
      "id": "d6c296f9-15ae-4f69-9eaa-b0d8662c6393",
      "metadata": {},
      "source": [
        "Das Ergebnis ist wiederum ein neues Dataframe, mit dem man wie üblich arbeiten kann. Man kann z.B. herausfinden, wieviel die grösste Rechnung war, die von einer Frau bezahlt wurde."
      ]
    },
    {
      "cell_type": "code",
      "execution_count": 25,
      "id": "487b6c60-88e1-44a3-8c2c-9ebd05995db2",
      "metadata": {
        "tags": []
      },
      "outputs": [
        {
          "data": {
            "text/plain": [
              "np.float64(44.3)"
            ]
          },
          "execution_count": 25,
          "metadata": {},
          "output_type": "execute_result"
        }
      ],
      "source": [
        "female_tips = tips[tips[\"sex\"] == \"Female\"]\n",
        "female_tips[\"total_bill\"].max()"
      ]
    },
    {
      "cell_type": "markdown",
      "id": "8037e272-0205-4a44-808b-d622d5d149d5",
      "metadata": {},
      "source": [
        "<div class=\"alert alert-box alert-success\">\n",
        "\n",
        "### Aufgabe 6\n",
        "**a)** Wie heisst der Film mit der schlechtesten Bewertung aus Aufgabe 5.a)?\n",
        "\n",
        "**b)** Wieviele Filme/TV Serien hat Netflix ohne Alterseinschränkung (d.h. `General Audiences`, rating `G`)?\n",
        "    \n",
        "**b)** Wie lange geht der längste Film/TV Serie auf Netflix mit einer IMDB Bewertung von **mindestens 8.0**?\n",
        "    \n",
        "**c)** Wie **häufig** ist jede Altersfreigabe für TV Serien (*nicht* Filme)?\n",
        "\n",
        "</div>"
      ]
    },
    {
      "cell_type": "code",
      "execution_count": 28,
      "id": "2bc5265d-587a-4d7d-8ffd-0043f57b0bb1",
      "metadata": {
        "tags": [],
        "trusted": true
      },
      "outputs": [
        {
          "data": {
            "text/plain": [
              "1664    Aerials\n",
              "Name: title, dtype: object"
            ]
          },
          "execution_count": 28,
          "metadata": {},
          "output_type": "execute_result"
        }
      ],
      "source": [
        "# a)\n",
        "netflix[netflix.imdb_score.min() == netflix.imdb_score].title"
      ]
    },
    {
      "cell_type": "code",
      "execution_count": 30,
      "id": "b6865939-2a48-4582-88ca-c2a28be40b6f",
      "metadata": {
        "tags": [],
        "trusted": true
      },
      "outputs": [
        {
          "data": {
            "text/plain": [
              "105"
            ]
          },
          "execution_count": 30,
          "metadata": {},
          "output_type": "execute_result"
        }
      ],
      "source": [
        "# b)\n",
        "len(netflix[netflix.age_certification == \"G\"])\n"
      ]
    },
    {
      "cell_type": "code",
      "execution_count": 31,
      "id": "266a7d91-411f-444c-991d-9a01c8c9e4ae",
      "metadata": {
        "tags": [],
        "trusted": true
      },
      "outputs": [
        {
          "data": {
            "text/plain": [
              "np.int64(235)"
            ]
          },
          "execution_count": 31,
          "metadata": {},
          "output_type": "execute_result"
        }
      ],
      "source": [
        "# c)\n",
        "netflix[netflix.imdb_score >= 8].runtime.max()"
      ]
    },
    {
      "cell_type": "markdown",
      "id": "b316d5dd-b8eb-4bbf-87d4-0b508a43a376",
      "metadata": {},
      "source": [
        "# Teil 2: Daten visualisieren\n",
        "\n",
        "Als nächstes lernen wir, wie man mit Hilfe von pandas Diagramme erstellt. Dazu müssen wir zusätzlich die Library `matplotlib` laden, auf die pandas zugreift."
      ]
    },
    {
      "cell_type": "code",
      "execution_count": 32,
      "id": "fad80844-3888-4c63-8b62-953598836654",
      "metadata": {
        "tags": []
      },
      "outputs": [
        {
          "name": "stderr",
          "output_type": "stream",
          "text": [
            "Matplotlib is building the font cache; this may take a moment.\n"
          ]
        }
      ],
      "source": [
        "import matplotlib.pyplot as plt"
      ]
    },
    {
      "cell_type": "markdown",
      "id": "10573465-1edc-448c-b2b3-d507f03ea3e2",
      "metadata": {},
      "source": [
        "Bevor wir mit dem Erstellen der Diagrammen beginnen, müssen wir uns aber zuerst mit einer alternativen Notation für Argumente vertraut machen. \n",
        "\n",
        "### 2.1 Schlüsselwort-Argumente\n",
        "\n",
        "In Python werden Befehle meist mit sogenannten **positionalen Argumenten** aufgerufen. Dabei muss die Reihenfolge der Argumente mit derjenigen der Parameter in der Befehlsdefinition übereinstimmen."
      ]
    },
    {
      "cell_type": "code",
      "execution_count": null,
      "id": "bfaa051e-46e8-4fc1-b867-a0dff9592bf3",
      "metadata": {
        "tags": []
      },
      "outputs": [
        {
          "name": "stdout",
          "output_type": "stream",
          "text": [
            "My name is Bond. James Bond.\n",
            ",My name is James. Bond James.\n"
          ]
        }
      ],
      "source": [
        "def introduce_secret_agent(firstname, lastname):\n",
        "    print(\"My name is \" + lastname + \". \" + firstname + \" \" + lastname + \".\")\n",
        "    \n",
        "# Aufruf mit positionalen Argumenten\n",
        "introduce_secret_agent(\"James\", \"Bond\") # Richtig.\n",
        "introduce_secret_agent(\"Bond\", \"James\") # Falsch, da die Reihenfolge der Argumente vertauscht ist"
      ]
    },
    {
      "cell_type": "markdown",
      "id": "9d093611-10d4-4c45-9282-f51f98968d86",
      "metadata": {},
      "source": [
        "Befehle lassen sich in Python aber auch mit sogenannten **Schlüsselwort-Argumenten** aufrufen. Dies hat den Vorteil, dass man die Argumente in einer beliebigen Reihenfolge übergeben kann. Besonders bei Befehlen mit vielen Parametern kann man so die vermeiden, dass man Argumente an die falschen Parameter zuweist.\n"
      ]
    },
    {
      "cell_type": "code",
      "execution_count": null,
      "id": "ce9afbd5-f3d3-4ba9-b2e4-4c274db65c0b",
      "metadata": {
        "tags": []
      },
      "outputs": [
        {
          "name": "stdout",
          "output_type": "stream",
          "text": [
            "My name is Bond. James Bond.\n",
            ",My name is Bond. James Bond.\n"
          ]
        }
      ],
      "source": [
        "# Aufruf mit Schlüsselwort-Argumenten\n",
        "introduce_secret_agent(lastname=\"Bond\", firstname=\"James\") # Richtig, da angegeben wird, welcher Wert zu welchem Parameter gehört\n",
        "introduce_secret_agent(firstname=\"James\", lastname=\"Bond\") # Richtig, da angegeben wird, welcher Wert zu welchem Parameter gehört"
      ]
    },
    {
      "cell_type": "markdown",
      "id": "6f79f85b-8ede-4629-bee9-bed6b45d3257",
      "metadata": {},
      "source": [
        "### 2.2 Diagramme erstellen\n",
        "\n",
        "Nun sind wir soweit, dass wir mit Hilfe von pandas Diagramme (engl. *plots*) erstellen können.\n",
        "\n",
        "Als erstes wollen wir schauen, ob der Datensatz `tips` mehr Mittag- oder Abendessen enthält. Graphisch lässt sich das beispielsweise mit einem Kuchendiagramm gut veranschaulichen.\n",
        "\n",
        "In der Zelle unten entnehmen wir zunächst dem `tips`-Datensatz die Spalte `time` und rufen darauf `value_counts()` auf. So bekommen wir Häufigkeit der Werte `Lunch` und `Dinner` in dieser Spalte."
      ]
    },
    {
      "cell_type": "code",
      "execution_count": 33,
      "id": "9ef0413e-8a32-4f3b-995a-c8bacf9c3846",
      "metadata": {
        "tags": []
      },
      "outputs": [
        {
          "data": {
            "text/plain": [
              "time\n",
              "Dinner    176\n",
              "Lunch      68\n",
              "Name: count, dtype: int64"
            ]
          },
          "execution_count": 33,
          "metadata": {},
          "output_type": "execute_result"
        }
      ],
      "source": [
        "meal_times = tips[\"time\"].value_counts()\n",
        "meal_times # meal_times in die Ausgabe schreiben"
      ]
    },
    {
      "cell_type": "markdown",
      "id": "a7de7b85-05c0-4a67-8ceb-cd20adb993e3",
      "metadata": {},
      "source": [
        "Anschliessend visualisieren wir dieses `DataFrame` mit `.plot.pie()`."
      ]
    },
    {
      "cell_type": "code",
      "execution_count": 34,
      "id": "9d8bebff-033e-49e1-ae00-ce490968bc8c",
      "metadata": {
        "tags": []
      },
      "outputs": [
        {
          "data": {
            "text/plain": [
              "<Axes: ylabel='count'>"
            ]
          },
          "execution_count": 34,
          "metadata": {},
          "output_type": "execute_result"
        },
        {
          "data": {
            "image/png": "[encoded data removed]",
            "text/plain": [
              "<Figure size 640x480 with 1 Axes>"
            ]
          },
          "metadata": {},
          "output_type": "display_data"
        }
      ],
      "source": [
        "meal_times.plot.pie()"
      ]
    },
    {
      "cell_type": "markdown",
      "id": "416bb125-9601-449c-bbf1-53817384b896",
      "metadata": {},
      "source": [
        "<div class=\"alert alert-box alert-success\">\n",
        "\n",
        "### Aufgabe 7\n",
        "\n",
        "**a)** Erstellen Sie ein Kuchendiagramm für die Anzahl Filme vs TV Serien in Netflix.\n",
        "    \n",
        "**b)** Probieren Sie aus, was passiert, wenn Sie statt `pie()` den Befehl `bar()` verwenden.\n",
        "</div>"
      ]
    },
    {
      "cell_type": "code",
      "execution_count": 38,
      "id": "23c509a5-cd27-4629-897f-644bbc478638",
      "metadata": {},
      "outputs": [
        {
          "data": {
            "text/plain": [
              "<Axes: ylabel='count'>"
            ]
          },
          "execution_count": 38,
          "metadata": {},
          "output_type": "execute_result"
        },
        {
          "data": {
            "image/png": "[encoded data removed]",
            "text/plain": [
              "<Figure size 640x480 with 1 Axes>"
            ]
          },
          "metadata": {},
          "output_type": "display_data"
        }
      ],
      "source": [
        "# a)\n",
        "watch_types = netflix.type.value_counts()\n",
        "watch_types.plot.pie()"
      ]
    },
    {
      "cell_type": "code",
      "execution_count": 39,
      "id": "6a08e2f5-b72f-4c2c-9515-6d241d35feef",
      "metadata": {
        "tags": []
      },
      "outputs": [
        {
          "data": {
            "text/plain": [
              "<Axes: xlabel='type'>"
            ]
          },
          "execution_count": 39,
          "metadata": {},
          "output_type": "execute_result"
        },
        {
          "data": {
            "image/png": "[encoded data removed]",
            "text/plain": [
              "<Figure size 640x480 with 1 Axes>"
            ]
          },
          "metadata": {},
          "output_type": "display_data"
        }
      ],
      "source": [
        "# b)\n",
        "watch_types.plot.bar()"
      ]
    },
    {
      "cell_type": "markdown",
      "id": "4bf8461d-eecb-41f0-8532-65ac43ae3b63",
      "metadata": {},
      "source": [
        "<div class=\"alert alert-box alert-info\">\n",
        "\n",
        "Durch Visualisierungen kann man oft sehr einfach Tendenzen in den Daten feststellen. Zum Beispiel liegt die Vermutung nahe, dass Gäste mit einer höheren Rechnung auch tendenziell mehr Trinkgeld gegeben haben. Stimmt das aber wirklich?\n",
        "\n",
        "Um diese Frage zu beantworten, zeichnen wir jede Reihe in unserem Datensatz als einen Punkt in ein zweidimensionalen Koordinatensystem ein. Die $x$-Achse enstpricht dem Rechnungsbetrag (`total_bill`) und die $y$-Achse dem Trinkgeld (`tip`). Ein solches Diagramm nennt man **Streudiagramm** (engl. *scatter plot*).\n",
        "</div>"
      ]
    },
    {
      "cell_type": "code",
      "execution_count": 40,
      "id": "854d5095-0dcb-420b-8a13-91bce5cdfe35",
      "metadata": {
        "tags": []
      },
      "outputs": [
        {
          "data": {
            "text/plain": [
              "<Axes: xlabel='total_bill', ylabel='tip'>"
            ]
          },
          "execution_count": 40,
          "metadata": {},
          "output_type": "execute_result"
        },
        {
          "data": {
            "image/png": "[encoded data removed]",
            "text/plain": [
              "<Figure size 640x480 with 1 Axes>"
            ]
          },
          "metadata": {},
          "output_type": "display_data"
        }
      ],
      "source": [
        "tips.plot.scatter(x=\"total_bill\", y=\"tip\")"
      ]
    },
    {
      "cell_type": "markdown",
      "id": "e062fe59-c023-43e8-8041-5f7eb89bfd16",
      "metadata": {},
      "source": [
        "In dem obigen Streudiagramm lässt sich eine klare Tendenz erkennen mehr Trinkgeld zu geben wenn die Rechnung höher ist."
      ]
    },
    {
      "cell_type": "markdown",
      "id": "283fa922-011a-4977-940e-8cd203b96d93",
      "metadata": {},
      "source": [
        "<div class=\"alert alert-box alert-success\">\n",
        "\n",
        "### Aufgabe 8\n",
        "    \n",
        "Sind ältere (`release_year`) Filme (d.h. *nicht* TV Serien) tendenziell länger oder kürzer als moderne Filme? Oder lässt sich kein Trend feststellen?\n",
        "\n",
        "</div>"
      ]
    },
    {
      "cell_type": "code",
      "execution_count": 41,
      "id": "7c0a7805-63fc-4be9-ab43-add8afb03082",
      "metadata": {
        "tags": []
      },
      "outputs": [
        {
          "data": {
            "text/plain": [
              "<Axes: xlabel='release_year', ylabel='runtime'>"
            ]
          },
          "execution_count": 41,
          "metadata": {},
          "output_type": "execute_result"
        },
        {
          "data": {
            "image/png": "[encoded data removed]",
            "text/plain": [
              "<Figure size 640x480 with 1 Axes>"
            ]
          },
          "metadata": {},
          "output_type": "display_data"
        }
      ],
      "source": [
        "# Hier Code eingeben\n",
        "netflix[netflix.type == \"MOVIE\"].plot.scatter(x=\"release_year\", y=\"runtime\")"
      ]
    },
    {
      "cell_type": "markdown",
      "id": "8b6cb902-0885-4ae3-8474-b25a02f511a2",
      "metadata": {},
      "source": [
        "**Antwort**: *Hier doppelklicken und Antwort eingeben*\n",
        "\n",
        "Nein, es lässt sich kein solcher Trend feststellen."
      ]
    },
    {
      "cell_type": "markdown",
      "id": "c31aad6b-5f40-4600-abde-d7fd5aab9f85",
      "metadata": {},
      "source": [
        "<div class=\"alert alert-box alert-info\">\n",
        "\n",
        "Unter den Attributen mit Textwerten gibt es einige, die nur wenige, vordefinierte Werte annehmen können. Ein Beispiel dafür ist das Attribut `time` im Dataframe `tips`, das nur die Werte `Lunch` und `Dinner` annehmen kann. Solche Daten werden **kategoriale Daten** genannt.\n",
        "\n",
        "Pandas kann die Punkte in einem Streudiagramm anhand der Werte von kategorialen Daten unterschiedlich einfärben. Dazu muss man dem Dataframe zuerst eine neue hinzufügen mit dem datentyp `category`. Anschliessend kann man diese neue Spalte beim erstellen des scatter plots für den Parameter `c` (für `category`) angeben.\n",
        "\n",
        "Wir benutzen diese Technik um herauszufinden, ob man Mittags oder Abends die höheren Trinkgeldbeträge bekommt.\n",
        "</div>"
      ]
    },
    {
      "cell_type": "code",
      "execution_count": null,
      "id": "4fa04b87-d693-4558-b6bf-bfae73c40f1e",
      "metadata": {
        "tags": []
      },
      "outputs": [
        {
          "data": {
            "text/plain": [
              "<Axes: xlabel='total_bill', ylabel='tip'>"
            ]
          },
          "execution_count": 42,
          "metadata": {},
          "output_type": "execute_result"
        },
        {
          "data": {
            "image/png": "[encoded data removed]",
            "text/plain": [
              "<Figure size 640x480 with 2 Axes>"
            ]
          },
          "metadata": {},
          "output_type": "display_data"
        }
      ],
      "source": [
        "tips[\"time_cat\"] = tips[\"time\"].astype(\"category\")\n",
        "tips.plot.scatter(x=\"total_bill\", y=\"tip\", c=\"time_cat\",colormap=\"viridis\")"
      ]
    },
    {
      "cell_type": "markdown",
      "id": "99e229bc-38ac-4b6e-a961-9db6a8f59a08",
      "metadata": {},
      "source": [
        "Durch die Färbung der Punkte kann man erkennen, dass man beim Mittagessen eher weniger Trinkgeld bekommt. Womöglich liegt das daran, dass die Rechnung beim Mittagessen tendenziell niedriger ist."
      ]
    },
    {
      "cell_type": "markdown",
      "id": "7730fae6-a499-4f2c-a1c8-f6b4a2fda5f8",
      "metadata": {},
      "source": [
        "<div class=\"alert alert-box alert-success\">\n",
        "\n",
        "### Aufgabe 9\n",
        "    \n",
        "**a)** Sind Filme oder TV Serien tendenziell länger? Finden Sie es mit einem Streudiagramm heraus (die $x$-Achse kann dabei wie oben das Publikationsjahr sein).\n",
        "    \n",
        "**b)** Was passiert, wenn Sie den Wert von `colormap` ändern? Weitere möglichen Werte sind `Set1`, `Dark2`, `magma`, `rainbow`\n",
        "\n",
        "</div>"
      ]
    },
    {
      "cell_type": "code",
      "execution_count": 49,
      "id": "2cdcb357-5946-48ec-8999-3c53655fdce9",
      "metadata": {
        "tags": []
      },
      "outputs": [
        {
          "data": {
            "text/plain": [
              "<Axes: xlabel='release_year', ylabel='runtime'>"
            ]
          },
          "execution_count": 49,
          "metadata": {},
          "output_type": "execute_result"
        },
        {
          "data": {
            "image/png": "[encoded data removed]",
            "text/plain": [
              "<Figure size 640x480 with 2 Axes>"
            ]
          },
          "metadata": {},
          "output_type": "display_data"
        }
      ],
      "source": [
        "# a)\n",
        "netflix[\"type_category\"] = netflix[\"type\"].astype(\"category\")\n",
        "netflix.plot.scatter(x=\"release_year\", y=\"runtime\", c=\"type_category\", colormap=\"rainbow\")\n"
      ]
    },
    {
      "cell_type": "markdown",
      "id": "9eb9763c-48b7-4ad9-94d3-f5ae92e4927a",
      "metadata": {},
      "source": [
        "**b)** *Hier doppelklicken und Antwort eingeben*\n",
        "\n",
        "Die Farbe der Punkte ändert sich"
      ]
    },
    {
      "cell_type": "markdown",
      "id": "55ee43a0-2cb4-4648-8218-21a5493742be",
      "metadata": {},
      "source": [
        "## 2.3 Histogramme erstellen\n",
        "\n",
        "Für manche Analysen sind die *genauen* Werte nicht so relevant. Es genügt eine grobe Einteilung, z.B. `kleine` / `mittlere` / `grosse` Werte. Das lässt sich mit einem **Histogramm** veranschaulichen. Dabei muss man angeben, in wieviele Grössenordnungen wir die Werte einteilen wollen.\n",
        "\n",
        "Wir visualisieren eine Einteilung des Trinkgelds in **5 Grössenordnungen** mit einem Histogramm."
      ]
    },
    {
      "cell_type": "code",
      "execution_count": 50,
      "id": "be3586e9-5d73-4ff0-9c5d-2dfe21b66d35",
      "metadata": {
        "tags": []
      },
      "outputs": [
        {
          "data": {
            "text/plain": [
              "<Axes: ylabel='Frequency'>"
            ]
          },
          "execution_count": 50,
          "metadata": {},
          "output_type": "execute_result"
        },
        {
          "data": {
            "image/png": "[encoded data removed]",
            "text/plain": [
              "<Figure size 640x480 with 1 Axes>"
            ]
          },
          "metadata": {},
          "output_type": "display_data"
        }
      ],
      "source": [
        "tips[\"tip\"].plot.hist(bins=5)"
      ]
    },
    {
      "cell_type": "markdown",
      "id": "5cd80360-98ab-4a9b-b8ce-62bf338f66ea",
      "metadata": {},
      "source": [
        "Dabei sehen wir, dass die meisten Trinkgeldbeträge in der kleinsten der 5 Grössenordnungen liegen.\n",
        "\n",
        "Will man das genauer wissen, kann man die Einteilung feiner machen, indem man **10 Grössenordnungen** zulässt."
      ]
    },
    {
      "cell_type": "code",
      "execution_count": 51,
      "id": "8c1867f9-d4bb-4948-a9bd-4004d8a5ed92",
      "metadata": {
        "tags": []
      },
      "outputs": [
        {
          "data": {
            "text/plain": [
              "<Axes: ylabel='Frequency'>"
            ]
          },
          "execution_count": 51,
          "metadata": {},
          "output_type": "execute_result"
        },
        {
          "data": {
            "image/png": "[encoded data removed]",
            "text/plain": [
              "<Figure size 640x480 with 1 Axes>"
            ]
          },
          "metadata": {},
          "output_type": "display_data"
        }
      ],
      "source": [
        "tips[\"tip\"].plot.hist(bins=10)"
      ]
    },
    {
      "cell_type": "markdown",
      "id": "e15d941a-1e68-40ce-9d9c-9bf14986b0b2",
      "metadata": {},
      "source": [
        "In dieser feineren Einteilung liegen die meisten Trinkgeldbeträge in der zweitkleinsten Grössenordnung."
      ]
    },
    {
      "cell_type": "markdown",
      "id": "3e83cc43-4ceb-4f23-949a-4c1f4ca2f890",
      "metadata": {},
      "source": [
        "<div class=\"alert alert-box alert-success\">\n",
        "\n",
        "### Aufgabe 10\n",
        "    \n",
        "**a)** Wie ist die Verteilung der IMDB Bewertungen von TV Serien (d.h. *nicht* Filmen)? Erstellen Sie ein Histogramm mit **3 Grössenordnungen**.\n",
        "\n",
        "**b)** Wiederholen Sie die Abfrage für Filme, diesmal mit **10 Grössenordnungen**.\n",
        "</div>"
      ]
    },
    {
      "cell_type": "code",
      "execution_count": 52,
      "id": "b7a514f7-2bdc-4db0-8c95-25979d3c6ed3",
      "metadata": {
        "trusted": true
      },
      "outputs": [
        {
          "data": {
            "text/plain": [
              "<Axes: ylabel='Frequency'>"
            ]
          },
          "execution_count": 52,
          "metadata": {},
          "output_type": "execute_result"
        },
        {
          "data": {
            "image/png": "[encoded data removed]",
            "text/plain": [
              "<Figure size 640x480 with 1 Axes>"
            ]
          },
          "metadata": {},
          "output_type": "display_data"
        }
      ],
      "source": [
        "# a)\n",
        "netflix[netflix.type == \"SHOW\"].imdb_score.plot.hist(bins=3)"
      ]
    },
    {
      "cell_type": "code",
      "execution_count": 55,
      "id": "084b52c5-586a-4073-bd77-19da7ea1bdd4",
      "metadata": {
        "trusted": true
      },
      "outputs": [
        {
          "data": {
            "text/plain": [
              "<Axes: ylabel='Frequency'>"
            ]
          },
          "execution_count": 55,
          "metadata": {},
          "output_type": "execute_result"
        },
        {
          "data": {
            "image/png": "[encoded data removed]",
            "text/plain": [
              "<Figure size 640x480 with 1 Axes>"
            ]
          },
          "metadata": {},
          "output_type": "display_data"
        }
      ],
      "source": [
        "# b)\n",
        "netflix[netflix.type == \"MOVIE\"].imdb_score.plot.hist(bins=10)"
      ]
    },
    {
      "cell_type": "markdown",
      "id": "dc9a16e3-e98e-4186-9b14-cb9210a19b79",
      "metadata": {},
      "source": [
        "<div class=\"alert alert-box alert-success\">\n",
        "\n",
        "### Aufgabe 11\n",
        "    \n",
        "Mit `netflix.groupby('release_year')['title'].count()` kann man, ähnlich wie bei SQL, die Daten nach einem Attribut gruppieren, und pro Gruppe die Einträge zählen.\n",
        "\n",
        "**a)** Erstellen Sie mit `.plot.line()` ein **Liniendiagramm** der Anzahl Titel, die pro Jahr publiziert wurden.\n",
        "\n",
        "**b)** Wiederholen Sie diese Visualisierung, aber eingeschränkt auf Titel, die **nach 2010** publiziert wurden. Wie erklären Sie sich den deutlichen \"Knick\" der in diesem Liniendiagramm zu erkennen ist?\n",
        "</div>"
      ]
    },
    {
      "cell_type": "code",
      "execution_count": 56,
      "id": "da5a1b00-40e0-4dc1-a5b9-3cdccd279768",
      "metadata": {
        "tags": []
      },
      "outputs": [
        {
          "data": {
            "text/plain": [
              "<Axes: xlabel='release_year'>"
            ]
          },
          "execution_count": 56,
          "metadata": {},
          "output_type": "execute_result"
        },
        {
          "data": {
            "image/png": "[encoded data removed]",
            "text/plain": [
              "<Figure size 640x480 with 1 Axes>"
            ]
          },
          "metadata": {},
          "output_type": "display_data"
        }
      ],
      "source": [
        "# a)\n",
        "netflix.groupby(\"release_year\").title.count().plot.line()"
      ]
    },
    {
      "cell_type": "code",
      "execution_count": 57,
      "id": "7bcbc533-443a-4fae-ba91-5f3c6228e688",
      "metadata": {
        "tags": []
      },
      "outputs": [
        {
          "data": {
            "text/plain": [
              "<Axes: xlabel='release_year'>"
            ]
          },
          "execution_count": 57,
          "metadata": {},
          "output_type": "execute_result"
        },
        {
          "data": {
            "image/png": "[encoded data removed]",
            "text/plain": [
              "<Figure size 640x480 with 1 Axes>"
            ]
          },
          "metadata": {},
          "output_type": "display_data"
        }
      ],
      "source": [
        "# b)\n",
        "netflix[netflix.release_year > 2010].groupby(\"release_year\").title.count().plot.line()"
      ]
    },
    {
      "cell_type": "markdown",
      "id": "d3ea07ee-cb17-42d2-b9e4-074d057b92ee",
      "metadata": {},
      "source": [
        "**Antwort**: *Hier doppelklicken um Antwort einzugeben*\n",
        "\n",
        "Der Knick hat mit dem Coronavirus zu tun"
      ]
    }
  ],
  "metadata": {
    "kernelspec": {
      "display_name": "Python 3",
      "language": "python",
      "name": "python3"
    },
    "language_info": {
      "codemirror_mode": {
        "name": "ipython",
        "version": 3
      },
      "file_extension": ".py",
      "mimetype": "text/x-python",
      "name": "python",
      "nbconvert_exporter": "python",
      "pygments_lexer": "ipython3",
      "version": "3.13.1"
    }
  },
  "nbformat": 4,
  "nbformat_minor": 5
}
